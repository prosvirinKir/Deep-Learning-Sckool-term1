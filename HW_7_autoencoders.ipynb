{
  "nbformat": 4,
  "nbformat_minor": 0,
  "metadata": {
    "colab": {
      "name": "[hw]autoencoders.ipynb",
      "provenance": [],
      "collapsed_sections": [
        "dFi96giuYY7t",
        "Ey8dD9s0YY7w",
        "KN3D_k5W_WZz",
        "-NDiCPYLm2bY"
      ],
      "toc_visible": true,
      "include_colab_link": true
    },
    "kernelspec": {
      "display_name": "Python 3",
      "language": "python",
      "name": "python3"
    },
    "widgets": {
      "application/vnd.jupyter.widget-state+json": {
        "be9dafb5f92f45349405eb19b99a8d35": {
          "model_module": "@jupyter-widgets/controls",
          "model_name": "HBoxModel",
          "state": {
            "_view_name": "HBoxView",
            "_dom_classes": [],
            "_model_name": "HBoxModel",
            "_view_module": "@jupyter-widgets/controls",
            "_model_module_version": "1.5.0",
            "_view_count": null,
            "_view_module_version": "1.5.0",
            "box_style": "",
            "layout": "IPY_MODEL_5e1a50b11f4f450da0065456b761ab35",
            "_model_module": "@jupyter-widgets/controls",
            "children": [
              "IPY_MODEL_6b6ab5e234bd450788d77624379f31cc",
              "IPY_MODEL_2f719d63a12c4a26aa43e7dea31fb23e"
            ]
          }
        },
        "5e1a50b11f4f450da0065456b761ab35": {
          "model_module": "@jupyter-widgets/base",
          "model_name": "LayoutModel",
          "state": {
            "_view_name": "LayoutView",
            "grid_template_rows": null,
            "right": null,
            "justify_content": null,
            "_view_module": "@jupyter-widgets/base",
            "overflow": null,
            "_model_module_version": "1.2.0",
            "_view_count": null,
            "flex_flow": null,
            "width": null,
            "min_width": null,
            "border": null,
            "align_items": null,
            "bottom": null,
            "_model_module": "@jupyter-widgets/base",
            "top": null,
            "grid_column": null,
            "overflow_y": null,
            "overflow_x": null,
            "grid_auto_flow": null,
            "grid_area": null,
            "grid_template_columns": null,
            "flex": null,
            "_model_name": "LayoutModel",
            "justify_items": null,
            "grid_row": null,
            "max_height": null,
            "align_content": null,
            "visibility": null,
            "align_self": null,
            "height": null,
            "min_height": null,
            "padding": null,
            "grid_auto_rows": null,
            "grid_gap": null,
            "max_width": null,
            "order": null,
            "_view_module_version": "1.2.0",
            "grid_template_areas": null,
            "object_position": null,
            "object_fit": null,
            "grid_auto_columns": null,
            "margin": null,
            "display": null,
            "left": null
          }
        },
        "6b6ab5e234bd450788d77624379f31cc": {
          "model_module": "@jupyter-widgets/controls",
          "model_name": "FloatProgressModel",
          "state": {
            "_view_name": "ProgressView",
            "style": "IPY_MODEL_a94ebc0f2193481eb6f1b882545baea2",
            "_dom_classes": [],
            "description": "",
            "_model_name": "FloatProgressModel",
            "bar_style": "success",
            "max": 9912422,
            "_view_module": "@jupyter-widgets/controls",
            "_model_module_version": "1.5.0",
            "value": 9912422,
            "_view_count": null,
            "_view_module_version": "1.5.0",
            "orientation": "horizontal",
            "min": 0,
            "description_tooltip": null,
            "_model_module": "@jupyter-widgets/controls",
            "layout": "IPY_MODEL_5e34560ed484486aa78b79a41a93f9c7"
          }
        },
        "2f719d63a12c4a26aa43e7dea31fb23e": {
          "model_module": "@jupyter-widgets/controls",
          "model_name": "HTMLModel",
          "state": {
            "_view_name": "HTMLView",
            "style": "IPY_MODEL_ef84b81a367f4322a340d60006aae509",
            "_dom_classes": [],
            "description": "",
            "_model_name": "HTMLModel",
            "placeholder": "​",
            "_view_module": "@jupyter-widgets/controls",
            "_model_module_version": "1.5.0",
            "value": " 9913344/? [00:02&lt;00:00, 3734547.54it/s]",
            "_view_count": null,
            "_view_module_version": "1.5.0",
            "description_tooltip": null,
            "_model_module": "@jupyter-widgets/controls",
            "layout": "IPY_MODEL_8dd062cf032a43efa54d72effc0f3c74"
          }
        },
        "a94ebc0f2193481eb6f1b882545baea2": {
          "model_module": "@jupyter-widgets/controls",
          "model_name": "ProgressStyleModel",
          "state": {
            "_view_name": "StyleView",
            "_model_name": "ProgressStyleModel",
            "description_width": "initial",
            "_view_module": "@jupyter-widgets/base",
            "_model_module_version": "1.5.0",
            "_view_count": null,
            "_view_module_version": "1.2.0",
            "bar_color": null,
            "_model_module": "@jupyter-widgets/controls"
          }
        },
        "5e34560ed484486aa78b79a41a93f9c7": {
          "model_module": "@jupyter-widgets/base",
          "model_name": "LayoutModel",
          "state": {
            "_view_name": "LayoutView",
            "grid_template_rows": null,
            "right": null,
            "justify_content": null,
            "_view_module": "@jupyter-widgets/base",
            "overflow": null,
            "_model_module_version": "1.2.0",
            "_view_count": null,
            "flex_flow": null,
            "width": null,
            "min_width": null,
            "border": null,
            "align_items": null,
            "bottom": null,
            "_model_module": "@jupyter-widgets/base",
            "top": null,
            "grid_column": null,
            "overflow_y": null,
            "overflow_x": null,
            "grid_auto_flow": null,
            "grid_area": null,
            "grid_template_columns": null,
            "flex": null,
            "_model_name": "LayoutModel",
            "justify_items": null,
            "grid_row": null,
            "max_height": null,
            "align_content": null,
            "visibility": null,
            "align_self": null,
            "height": null,
            "min_height": null,
            "padding": null,
            "grid_auto_rows": null,
            "grid_gap": null,
            "max_width": null,
            "order": null,
            "_view_module_version": "1.2.0",
            "grid_template_areas": null,
            "object_position": null,
            "object_fit": null,
            "grid_auto_columns": null,
            "margin": null,
            "display": null,
            "left": null
          }
        },
        "ef84b81a367f4322a340d60006aae509": {
          "model_module": "@jupyter-widgets/controls",
          "model_name": "DescriptionStyleModel",
          "state": {
            "_view_name": "StyleView",
            "_model_name": "DescriptionStyleModel",
            "description_width": "",
            "_view_module": "@jupyter-widgets/base",
            "_model_module_version": "1.5.0",
            "_view_count": null,
            "_view_module_version": "1.2.0",
            "_model_module": "@jupyter-widgets/controls"
          }
        },
        "8dd062cf032a43efa54d72effc0f3c74": {
          "model_module": "@jupyter-widgets/base",
          "model_name": "LayoutModel",
          "state": {
            "_view_name": "LayoutView",
            "grid_template_rows": null,
            "right": null,
            "justify_content": null,
            "_view_module": "@jupyter-widgets/base",
            "overflow": null,
            "_model_module_version": "1.2.0",
            "_view_count": null,
            "flex_flow": null,
            "width": null,
            "min_width": null,
            "border": null,
            "align_items": null,
            "bottom": null,
            "_model_module": "@jupyter-widgets/base",
            "top": null,
            "grid_column": null,
            "overflow_y": null,
            "overflow_x": null,
            "grid_auto_flow": null,
            "grid_area": null,
            "grid_template_columns": null,
            "flex": null,
            "_model_name": "LayoutModel",
            "justify_items": null,
            "grid_row": null,
            "max_height": null,
            "align_content": null,
            "visibility": null,
            "align_self": null,
            "height": null,
            "min_height": null,
            "padding": null,
            "grid_auto_rows": null,
            "grid_gap": null,
            "max_width": null,
            "order": null,
            "_view_module_version": "1.2.0",
            "grid_template_areas": null,
            "object_position": null,
            "object_fit": null,
            "grid_auto_columns": null,
            "margin": null,
            "display": null,
            "left": null
          }
        },
        "48b6ad1615de4baea1c786eb88b156d0": {
          "model_module": "@jupyter-widgets/controls",
          "model_name": "HBoxModel",
          "state": {
            "_view_name": "HBoxView",
            "_dom_classes": [],
            "_model_name": "HBoxModel",
            "_view_module": "@jupyter-widgets/controls",
            "_model_module_version": "1.5.0",
            "_view_count": null,
            "_view_module_version": "1.5.0",
            "box_style": "",
            "layout": "IPY_MODEL_cfa1cb09ea6c4863aaab570dca9d8014",
            "_model_module": "@jupyter-widgets/controls",
            "children": [
              "IPY_MODEL_55cd0877c52b40a7a03d0d239f8c7577",
              "IPY_MODEL_3736dc64869d430eb915bee66ba31268"
            ]
          }
        },
        "cfa1cb09ea6c4863aaab570dca9d8014": {
          "model_module": "@jupyter-widgets/base",
          "model_name": "LayoutModel",
          "state": {
            "_view_name": "LayoutView",
            "grid_template_rows": null,
            "right": null,
            "justify_content": null,
            "_view_module": "@jupyter-widgets/base",
            "overflow": null,
            "_model_module_version": "1.2.0",
            "_view_count": null,
            "flex_flow": null,
            "width": null,
            "min_width": null,
            "border": null,
            "align_items": null,
            "bottom": null,
            "_model_module": "@jupyter-widgets/base",
            "top": null,
            "grid_column": null,
            "overflow_y": null,
            "overflow_x": null,
            "grid_auto_flow": null,
            "grid_area": null,
            "grid_template_columns": null,
            "flex": null,
            "_model_name": "LayoutModel",
            "justify_items": null,
            "grid_row": null,
            "max_height": null,
            "align_content": null,
            "visibility": null,
            "align_self": null,
            "height": null,
            "min_height": null,
            "padding": null,
            "grid_auto_rows": null,
            "grid_gap": null,
            "max_width": null,
            "order": null,
            "_view_module_version": "1.2.0",
            "grid_template_areas": null,
            "object_position": null,
            "object_fit": null,
            "grid_auto_columns": null,
            "margin": null,
            "display": null,
            "left": null
          }
        },
        "55cd0877c52b40a7a03d0d239f8c7577": {
          "model_module": "@jupyter-widgets/controls",
          "model_name": "FloatProgressModel",
          "state": {
            "_view_name": "ProgressView",
            "style": "IPY_MODEL_49a4948ad913488c8f71f291996351ea",
            "_dom_classes": [],
            "description": "",
            "_model_name": "FloatProgressModel",
            "bar_style": "success",
            "max": 28881,
            "_view_module": "@jupyter-widgets/controls",
            "_model_module_version": "1.5.0",
            "value": 28881,
            "_view_count": null,
            "_view_module_version": "1.5.0",
            "orientation": "horizontal",
            "min": 0,
            "description_tooltip": null,
            "_model_module": "@jupyter-widgets/controls",
            "layout": "IPY_MODEL_08bef774f5c54237a0471f82af062930"
          }
        },
        "3736dc64869d430eb915bee66ba31268": {
          "model_module": "@jupyter-widgets/controls",
          "model_name": "HTMLModel",
          "state": {
            "_view_name": "HTMLView",
            "style": "IPY_MODEL_b8ae91b9a6b2439f97081b4146a8c478",
            "_dom_classes": [],
            "description": "",
            "_model_name": "HTMLModel",
            "placeholder": "​",
            "_view_module": "@jupyter-widgets/controls",
            "_model_module_version": "1.5.0",
            "value": " 29696/? [00:01&lt;00:00, 28874.57it/s]",
            "_view_count": null,
            "_view_module_version": "1.5.0",
            "description_tooltip": null,
            "_model_module": "@jupyter-widgets/controls",
            "layout": "IPY_MODEL_20b4157339ae462e8b99744f8b737668"
          }
        },
        "49a4948ad913488c8f71f291996351ea": {
          "model_module": "@jupyter-widgets/controls",
          "model_name": "ProgressStyleModel",
          "state": {
            "_view_name": "StyleView",
            "_model_name": "ProgressStyleModel",
            "description_width": "initial",
            "_view_module": "@jupyter-widgets/base",
            "_model_module_version": "1.5.0",
            "_view_count": null,
            "_view_module_version": "1.2.0",
            "bar_color": null,
            "_model_module": "@jupyter-widgets/controls"
          }
        },
        "08bef774f5c54237a0471f82af062930": {
          "model_module": "@jupyter-widgets/base",
          "model_name": "LayoutModel",
          "state": {
            "_view_name": "LayoutView",
            "grid_template_rows": null,
            "right": null,
            "justify_content": null,
            "_view_module": "@jupyter-widgets/base",
            "overflow": null,
            "_model_module_version": "1.2.0",
            "_view_count": null,
            "flex_flow": null,
            "width": null,
            "min_width": null,
            "border": null,
            "align_items": null,
            "bottom": null,
            "_model_module": "@jupyter-widgets/base",
            "top": null,
            "grid_column": null,
            "overflow_y": null,
            "overflow_x": null,
            "grid_auto_flow": null,
            "grid_area": null,
            "grid_template_columns": null,
            "flex": null,
            "_model_name": "LayoutModel",
            "justify_items": null,
            "grid_row": null,
            "max_height": null,
            "align_content": null,
            "visibility": null,
            "align_self": null,
            "height": null,
            "min_height": null,
            "padding": null,
            "grid_auto_rows": null,
            "grid_gap": null,
            "max_width": null,
            "order": null,
            "_view_module_version": "1.2.0",
            "grid_template_areas": null,
            "object_position": null,
            "object_fit": null,
            "grid_auto_columns": null,
            "margin": null,
            "display": null,
            "left": null
          }
        },
        "b8ae91b9a6b2439f97081b4146a8c478": {
          "model_module": "@jupyter-widgets/controls",
          "model_name": "DescriptionStyleModel",
          "state": {
            "_view_name": "StyleView",
            "_model_name": "DescriptionStyleModel",
            "description_width": "",
            "_view_module": "@jupyter-widgets/base",
            "_model_module_version": "1.5.0",
            "_view_count": null,
            "_view_module_version": "1.2.0",
            "_model_module": "@jupyter-widgets/controls"
          }
        },
        "20b4157339ae462e8b99744f8b737668": {
          "model_module": "@jupyter-widgets/base",
          "model_name": "LayoutModel",
          "state": {
            "_view_name": "LayoutView",
            "grid_template_rows": null,
            "right": null,
            "justify_content": null,
            "_view_module": "@jupyter-widgets/base",
            "overflow": null,
            "_model_module_version": "1.2.0",
            "_view_count": null,
            "flex_flow": null,
            "width": null,
            "min_width": null,
            "border": null,
            "align_items": null,
            "bottom": null,
            "_model_module": "@jupyter-widgets/base",
            "top": null,
            "grid_column": null,
            "overflow_y": null,
            "overflow_x": null,
            "grid_auto_flow": null,
            "grid_area": null,
            "grid_template_columns": null,
            "flex": null,
            "_model_name": "LayoutModel",
            "justify_items": null,
            "grid_row": null,
            "max_height": null,
            "align_content": null,
            "visibility": null,
            "align_self": null,
            "height": null,
            "min_height": null,
            "padding": null,
            "grid_auto_rows": null,
            "grid_gap": null,
            "max_width": null,
            "order": null,
            "_view_module_version": "1.2.0",
            "grid_template_areas": null,
            "object_position": null,
            "object_fit": null,
            "grid_auto_columns": null,
            "margin": null,
            "display": null,
            "left": null
          }
        },
        "4768fae900aa48429aa3d87e4df00dd6": {
          "model_module": "@jupyter-widgets/controls",
          "model_name": "HBoxModel",
          "state": {
            "_view_name": "HBoxView",
            "_dom_classes": [],
            "_model_name": "HBoxModel",
            "_view_module": "@jupyter-widgets/controls",
            "_model_module_version": "1.5.0",
            "_view_count": null,
            "_view_module_version": "1.5.0",
            "box_style": "",
            "layout": "IPY_MODEL_2fe74b7139e4429995a5c51740044bd0",
            "_model_module": "@jupyter-widgets/controls",
            "children": [
              "IPY_MODEL_0d8e59fab5e643afb52b42c760598173",
              "IPY_MODEL_29b99270879548589196d2b77849f8f2"
            ]
          }
        },
        "2fe74b7139e4429995a5c51740044bd0": {
          "model_module": "@jupyter-widgets/base",
          "model_name": "LayoutModel",
          "state": {
            "_view_name": "LayoutView",
            "grid_template_rows": null,
            "right": null,
            "justify_content": null,
            "_view_module": "@jupyter-widgets/base",
            "overflow": null,
            "_model_module_version": "1.2.0",
            "_view_count": null,
            "flex_flow": null,
            "width": null,
            "min_width": null,
            "border": null,
            "align_items": null,
            "bottom": null,
            "_model_module": "@jupyter-widgets/base",
            "top": null,
            "grid_column": null,
            "overflow_y": null,
            "overflow_x": null,
            "grid_auto_flow": null,
            "grid_area": null,
            "grid_template_columns": null,
            "flex": null,
            "_model_name": "LayoutModel",
            "justify_items": null,
            "grid_row": null,
            "max_height": null,
            "align_content": null,
            "visibility": null,
            "align_self": null,
            "height": null,
            "min_height": null,
            "padding": null,
            "grid_auto_rows": null,
            "grid_gap": null,
            "max_width": null,
            "order": null,
            "_view_module_version": "1.2.0",
            "grid_template_areas": null,
            "object_position": null,
            "object_fit": null,
            "grid_auto_columns": null,
            "margin": null,
            "display": null,
            "left": null
          }
        },
        "0d8e59fab5e643afb52b42c760598173": {
          "model_module": "@jupyter-widgets/controls",
          "model_name": "FloatProgressModel",
          "state": {
            "_view_name": "ProgressView",
            "style": "IPY_MODEL_4c169ec59c9848838a63162686a80e90",
            "_dom_classes": [],
            "description": "",
            "_model_name": "FloatProgressModel",
            "bar_style": "success",
            "max": 1648877,
            "_view_module": "@jupyter-widgets/controls",
            "_model_module_version": "1.5.0",
            "value": 1648877,
            "_view_count": null,
            "_view_module_version": "1.5.0",
            "orientation": "horizontal",
            "min": 0,
            "description_tooltip": null,
            "_model_module": "@jupyter-widgets/controls",
            "layout": "IPY_MODEL_789e8aef9161449c8409c490e7211424"
          }
        },
        "29b99270879548589196d2b77849f8f2": {
          "model_module": "@jupyter-widgets/controls",
          "model_name": "HTMLModel",
          "state": {
            "_view_name": "HTMLView",
            "style": "IPY_MODEL_5d124fbe435b42fdb9000f5e875c5017",
            "_dom_classes": [],
            "description": "",
            "_model_name": "HTMLModel",
            "placeholder": "​",
            "_view_module": "@jupyter-widgets/controls",
            "_model_module_version": "1.5.0",
            "value": " 1649664/? [00:08&lt;00:00, 196130.66it/s]",
            "_view_count": null,
            "_view_module_version": "1.5.0",
            "description_tooltip": null,
            "_model_module": "@jupyter-widgets/controls",
            "layout": "IPY_MODEL_65d81c55e74545af81b667804b5c599f"
          }
        },
        "4c169ec59c9848838a63162686a80e90": {
          "model_module": "@jupyter-widgets/controls",
          "model_name": "ProgressStyleModel",
          "state": {
            "_view_name": "StyleView",
            "_model_name": "ProgressStyleModel",
            "description_width": "initial",
            "_view_module": "@jupyter-widgets/base",
            "_model_module_version": "1.5.0",
            "_view_count": null,
            "_view_module_version": "1.2.0",
            "bar_color": null,
            "_model_module": "@jupyter-widgets/controls"
          }
        },
        "789e8aef9161449c8409c490e7211424": {
          "model_module": "@jupyter-widgets/base",
          "model_name": "LayoutModel",
          "state": {
            "_view_name": "LayoutView",
            "grid_template_rows": null,
            "right": null,
            "justify_content": null,
            "_view_module": "@jupyter-widgets/base",
            "overflow": null,
            "_model_module_version": "1.2.0",
            "_view_count": null,
            "flex_flow": null,
            "width": null,
            "min_width": null,
            "border": null,
            "align_items": null,
            "bottom": null,
            "_model_module": "@jupyter-widgets/base",
            "top": null,
            "grid_column": null,
            "overflow_y": null,
            "overflow_x": null,
            "grid_auto_flow": null,
            "grid_area": null,
            "grid_template_columns": null,
            "flex": null,
            "_model_name": "LayoutModel",
            "justify_items": null,
            "grid_row": null,
            "max_height": null,
            "align_content": null,
            "visibility": null,
            "align_self": null,
            "height": null,
            "min_height": null,
            "padding": null,
            "grid_auto_rows": null,
            "grid_gap": null,
            "max_width": null,
            "order": null,
            "_view_module_version": "1.2.0",
            "grid_template_areas": null,
            "object_position": null,
            "object_fit": null,
            "grid_auto_columns": null,
            "margin": null,
            "display": null,
            "left": null
          }
        },
        "5d124fbe435b42fdb9000f5e875c5017": {
          "model_module": "@jupyter-widgets/controls",
          "model_name": "DescriptionStyleModel",
          "state": {
            "_view_name": "StyleView",
            "_model_name": "DescriptionStyleModel",
            "description_width": "",
            "_view_module": "@jupyter-widgets/base",
            "_model_module_version": "1.5.0",
            "_view_count": null,
            "_view_module_version": "1.2.0",
            "_model_module": "@jupyter-widgets/controls"
          }
        },
        "65d81c55e74545af81b667804b5c599f": {
          "model_module": "@jupyter-widgets/base",
          "model_name": "LayoutModel",
          "state": {
            "_view_name": "LayoutView",
            "grid_template_rows": null,
            "right": null,
            "justify_content": null,
            "_view_module": "@jupyter-widgets/base",
            "overflow": null,
            "_model_module_version": "1.2.0",
            "_view_count": null,
            "flex_flow": null,
            "width": null,
            "min_width": null,
            "border": null,
            "align_items": null,
            "bottom": null,
            "_model_module": "@jupyter-widgets/base",
            "top": null,
            "grid_column": null,
            "overflow_y": null,
            "overflow_x": null,
            "grid_auto_flow": null,
            "grid_area": null,
            "grid_template_columns": null,
            "flex": null,
            "_model_name": "LayoutModel",
            "justify_items": null,
            "grid_row": null,
            "max_height": null,
            "align_content": null,
            "visibility": null,
            "align_self": null,
            "height": null,
            "min_height": null,
            "padding": null,
            "grid_auto_rows": null,
            "grid_gap": null,
            "max_width": null,
            "order": null,
            "_view_module_version": "1.2.0",
            "grid_template_areas": null,
            "object_position": null,
            "object_fit": null,
            "grid_auto_columns": null,
            "margin": null,
            "display": null,
            "left": null
          }
        },
        "5052d5eeffc04c5cb902a44d16adfa92": {
          "model_module": "@jupyter-widgets/controls",
          "model_name": "HBoxModel",
          "state": {
            "_view_name": "HBoxView",
            "_dom_classes": [],
            "_model_name": "HBoxModel",
            "_view_module": "@jupyter-widgets/controls",
            "_model_module_version": "1.5.0",
            "_view_count": null,
            "_view_module_version": "1.5.0",
            "box_style": "",
            "layout": "IPY_MODEL_55cf78ca90e546539e872aad396612cf",
            "_model_module": "@jupyter-widgets/controls",
            "children": [
              "IPY_MODEL_c7246b3abda3468ab5fa7a41baba214b",
              "IPY_MODEL_7bb67abdd0314c1db6a820809438bd0f"
            ]
          }
        },
        "55cf78ca90e546539e872aad396612cf": {
          "model_module": "@jupyter-widgets/base",
          "model_name": "LayoutModel",
          "state": {
            "_view_name": "LayoutView",
            "grid_template_rows": null,
            "right": null,
            "justify_content": null,
            "_view_module": "@jupyter-widgets/base",
            "overflow": null,
            "_model_module_version": "1.2.0",
            "_view_count": null,
            "flex_flow": null,
            "width": null,
            "min_width": null,
            "border": null,
            "align_items": null,
            "bottom": null,
            "_model_module": "@jupyter-widgets/base",
            "top": null,
            "grid_column": null,
            "overflow_y": null,
            "overflow_x": null,
            "grid_auto_flow": null,
            "grid_area": null,
            "grid_template_columns": null,
            "flex": null,
            "_model_name": "LayoutModel",
            "justify_items": null,
            "grid_row": null,
            "max_height": null,
            "align_content": null,
            "visibility": null,
            "align_self": null,
            "height": null,
            "min_height": null,
            "padding": null,
            "grid_auto_rows": null,
            "grid_gap": null,
            "max_width": null,
            "order": null,
            "_view_module_version": "1.2.0",
            "grid_template_areas": null,
            "object_position": null,
            "object_fit": null,
            "grid_auto_columns": null,
            "margin": null,
            "display": null,
            "left": null
          }
        },
        "c7246b3abda3468ab5fa7a41baba214b": {
          "model_module": "@jupyter-widgets/controls",
          "model_name": "FloatProgressModel",
          "state": {
            "_view_name": "ProgressView",
            "style": "IPY_MODEL_6656ab360bc44733a8e9dd9de2592d39",
            "_dom_classes": [],
            "description": "",
            "_model_name": "FloatProgressModel",
            "bar_style": "success",
            "max": 4542,
            "_view_module": "@jupyter-widgets/controls",
            "_model_module_version": "1.5.0",
            "value": 4542,
            "_view_count": null,
            "_view_module_version": "1.5.0",
            "orientation": "horizontal",
            "min": 0,
            "description_tooltip": null,
            "_model_module": "@jupyter-widgets/controls",
            "layout": "IPY_MODEL_61789b55225c4fcdaa4be8557553bff0"
          }
        },
        "7bb67abdd0314c1db6a820809438bd0f": {
          "model_module": "@jupyter-widgets/controls",
          "model_name": "HTMLModel",
          "state": {
            "_view_name": "HTMLView",
            "style": "IPY_MODEL_0cc4d098e14c474582ea1949695d6409",
            "_dom_classes": [],
            "description": "",
            "_model_name": "HTMLModel",
            "placeholder": "​",
            "_view_module": "@jupyter-widgets/controls",
            "_model_module_version": "1.5.0",
            "value": " 5120/? [00:07&lt;00:00, 683.25it/s]",
            "_view_count": null,
            "_view_module_version": "1.5.0",
            "description_tooltip": null,
            "_model_module": "@jupyter-widgets/controls",
            "layout": "IPY_MODEL_8e2e19b74a354a369e28dbaaf2a4be70"
          }
        },
        "6656ab360bc44733a8e9dd9de2592d39": {
          "model_module": "@jupyter-widgets/controls",
          "model_name": "ProgressStyleModel",
          "state": {
            "_view_name": "StyleView",
            "_model_name": "ProgressStyleModel",
            "description_width": "initial",
            "_view_module": "@jupyter-widgets/base",
            "_model_module_version": "1.5.0",
            "_view_count": null,
            "_view_module_version": "1.2.0",
            "bar_color": null,
            "_model_module": "@jupyter-widgets/controls"
          }
        },
        "61789b55225c4fcdaa4be8557553bff0": {
          "model_module": "@jupyter-widgets/base",
          "model_name": "LayoutModel",
          "state": {
            "_view_name": "LayoutView",
            "grid_template_rows": null,
            "right": null,
            "justify_content": null,
            "_view_module": "@jupyter-widgets/base",
            "overflow": null,
            "_model_module_version": "1.2.0",
            "_view_count": null,
            "flex_flow": null,
            "width": null,
            "min_width": null,
            "border": null,
            "align_items": null,
            "bottom": null,
            "_model_module": "@jupyter-widgets/base",
            "top": null,
            "grid_column": null,
            "overflow_y": null,
            "overflow_x": null,
            "grid_auto_flow": null,
            "grid_area": null,
            "grid_template_columns": null,
            "flex": null,
            "_model_name": "LayoutModel",
            "justify_items": null,
            "grid_row": null,
            "max_height": null,
            "align_content": null,
            "visibility": null,
            "align_self": null,
            "height": null,
            "min_height": null,
            "padding": null,
            "grid_auto_rows": null,
            "grid_gap": null,
            "max_width": null,
            "order": null,
            "_view_module_version": "1.2.0",
            "grid_template_areas": null,
            "object_position": null,
            "object_fit": null,
            "grid_auto_columns": null,
            "margin": null,
            "display": null,
            "left": null
          }
        },
        "0cc4d098e14c474582ea1949695d6409": {
          "model_module": "@jupyter-widgets/controls",
          "model_name": "DescriptionStyleModel",
          "state": {
            "_view_name": "StyleView",
            "_model_name": "DescriptionStyleModel",
            "description_width": "",
            "_view_module": "@jupyter-widgets/base",
            "_model_module_version": "1.5.0",
            "_view_count": null,
            "_view_module_version": "1.2.0",
            "_model_module": "@jupyter-widgets/controls"
          }
        },
        "8e2e19b74a354a369e28dbaaf2a4be70": {
          "model_module": "@jupyter-widgets/base",
          "model_name": "LayoutModel",
          "state": {
            "_view_name": "LayoutView",
            "grid_template_rows": null,
            "right": null,
            "justify_content": null,
            "_view_module": "@jupyter-widgets/base",
            "overflow": null,
            "_model_module_version": "1.2.0",
            "_view_count": null,
            "flex_flow": null,
            "width": null,
            "min_width": null,
            "border": null,
            "align_items": null,
            "bottom": null,
            "_model_module": "@jupyter-widgets/base",
            "top": null,
            "grid_column": null,
            "overflow_y": null,
            "overflow_x": null,
            "grid_auto_flow": null,
            "grid_area": null,
            "grid_template_columns": null,
            "flex": null,
            "_model_name": "LayoutModel",
            "justify_items": null,
            "grid_row": null,
            "max_height": null,
            "align_content": null,
            "visibility": null,
            "align_self": null,
            "height": null,
            "min_height": null,
            "padding": null,
            "grid_auto_rows": null,
            "grid_gap": null,
            "max_width": null,
            "order": null,
            "_view_module_version": "1.2.0",
            "grid_template_areas": null,
            "object_position": null,
            "object_fit": null,
            "grid_auto_columns": null,
            "margin": null,
            "display": null,
            "left": null
          }
        }
      }
    }
  },
  "cells": [
    {
      "cell_type": "markdown",
      "metadata": {
        "id": "view-in-github",
        "colab_type": "text"
      },
      "source": [
        "<a href=\"https://colab.research.google.com/github/prosvirinKir/Deep-Learning-Sckool-term1/blob/main/HW_7_autoencoders.ipynb\" target=\"_parent\"><img src=\"https://colab.research.google.com/assets/colab-badge.svg\" alt=\"Open In Colab\"/></a>"
      ]
    },
    {
      "cell_type": "markdown",
      "metadata": {
        "id": "LQ7i1HkmYY68"
      },
      "source": [
        "<p style=\"align: center;\"><img align=center src=\"https://drive.google.com/uc?export=view&id=1I8kDikouqpH4hf7JBiSYAeNT2IO52T-T\" width=600 height=480/></p>\n",
        "<h3 style=\"text-align: center;\"><b>Школа глубокого обучения ФПМИ МФТИ</b></h3>\n",
        "\n",
        "<h3 style=\"text-align: center;\"><b>Домашнее задание. Весна 2021</b></h3>\n",
        "\n",
        "# Autoencoders\n"
      ]
    },
    {
      "cell_type": "markdown",
      "metadata": {
        "id": "Wru2LNFuL2Iq"
      },
      "source": [
        "# Часть 1. Vanilla Autoencoder (10 баллов)"
      ]
    },
    {
      "cell_type": "markdown",
      "metadata": {
        "id": "kr3STtdpYY7G"
      },
      "source": [
        "## 1.1. Подготовка данных (0.5 балла)\n"
      ]
    },
    {
      "cell_type": "code",
      "metadata": {
        "id": "xTNi9JLRYY7I"
      },
      "source": [
        "import numpy as np\n",
        "from torch.autograd import Variable\n",
        "from torchvision import datasets\n",
        "import torch.nn as nn\n",
        "import torch.nn.functional as F\n",
        "import torch.optim as optim\n",
        "import torch.utils.data as data_utils\n",
        "import torch\n",
        "import matplotlib.pyplot as plt\n",
        "import os\n",
        "import pandas as pd\n",
        "import skimage.io\n",
        "import tqdm\n",
        "\n",
        "\n",
        "from sklearn.model_selection import train_test_split\n",
        "from skimage.transform import resize\n",
        "%matplotlib inline\n",
        "\n",
        "import seaborn as sns\n",
        "\n",
        "sns.set(style=\"whitegrid\", font_scale=1.4)"
      ],
      "execution_count": 2,
      "outputs": []
    },
    {
      "cell_type": "code",
      "metadata": {
        "id": "zvAjov5F2NvE"
      },
      "source": [
        "def fetch_dataset(attrs_name = \"lfw_attributes.txt\",\n",
        "                      images_name = \"lfw-deepfunneled\",\n",
        "                      dx=80,dy=80,\n",
        "                      dimx=64,dimy=64\n",
        "    ):\n",
        "\n",
        "    #download if not exists\n",
        "    if not os.path.exists(images_name):\n",
        "        print(\"images not found, donwloading...\")\n",
        "        os.system(\"wget http://vis-www.cs.umass.edu/lfw/lfw-deepfunneled.tgz -O tmp.tgz\")\n",
        "        print(\"extracting...\")\n",
        "        os.system(\"tar xvzf tmp.tgz && rm tmp.tgz\")\n",
        "        print(\"done\")\n",
        "        assert os.path.exists(images_name)\n",
        "\n",
        "    if not os.path.exists(attrs_name):\n",
        "        print(\"attributes not found, downloading...\")\n",
        "        os.system(\"wget http://www.cs.columbia.edu/CAVE/databases/pubfig/download/%s\" % attrs_name)\n",
        "        print(\"done\")\n",
        "\n",
        "    #read attrs\n",
        "    df_attrs = pd.read_csv(\"lfw_attributes.txt\",sep='\\t',skiprows=1,) \n",
        "    df_attrs = pd.DataFrame(df_attrs.iloc[:,:-1].values, columns = df_attrs.columns[1:])\n",
        "\n",
        "\n",
        "    #read photos\n",
        "    photo_ids = []\n",
        "    for dirpath, dirnames, filenames in os.walk(images_name):\n",
        "        for fname in filenames:\n",
        "            if fname.endswith(\".jpg\"):\n",
        "                fpath = os.path.join(dirpath,fname)\n",
        "                photo_id = fname[:-4].replace('_',' ').split()\n",
        "                person_id = ' '.join(photo_id[:-1])\n",
        "                photo_number = int(photo_id[-1])\n",
        "                photo_ids.append({'person':person_id,'imagenum':photo_number,'photo_path':fpath})\n",
        "\n",
        "    photo_ids = pd.DataFrame(photo_ids)\n",
        "    # print(photo_ids)\n",
        "    #mass-merge\n",
        "    #(photos now have same order as attributes)\n",
        "    df = pd.merge(df_attrs,photo_ids,on=('person','imagenum'))\n",
        "\n",
        "    assert len(df)==len(df_attrs),\"lost some data when merging dataframes\"\n",
        "\n",
        "    # print(df.shape)\n",
        "    #image preprocessing\n",
        "    all_photos =df['photo_path'].apply(skimage.io.imread)\\\n",
        "                                .apply(lambda img:img[dy:-dy,dx:-dx])\\\n",
        "                                .apply(lambda img: resize(img,[dimx,dimy]))\n",
        "\n",
        "    all_photos = np.stack(all_photos.values).astype('float32')\n",
        "    all_attrs = df.drop([\"photo_path\",\"person\",\"imagenum\"],axis=1)\n",
        "    \n",
        "    return all_photos, all_attrs"
      ],
      "execution_count": 2,
      "outputs": []
    },
    {
      "cell_type": "code",
      "metadata": {
        "id": "W3KhlblLYY7P"
      },
      "source": [
        "# The following line fetches you two datasets: images, usable for autoencoder training and attributes.\n",
        "# Those attributes will be required for the final part of the assignment (applying smiles), so please keep them in mind\n",
        "# from get_dataset import fetch_dataset\n",
        "data, attrs = fetch_dataset()"
      ],
      "execution_count": 3,
      "outputs": []
    },
    {
      "cell_type": "markdown",
      "metadata": {
        "id": "8MSzXXGoYY7X"
      },
      "source": [
        "\n",
        "Разбейте выборку картинок на train и val, выведите несколько картинок в output, чтобы посмотреть, как они выглядят, и приведите картинки к тензорам pytorch, чтобы можно было скормить их сети:"
      ]
    },
    {
      "cell_type": "code",
      "metadata": {
        "scrolled": true,
        "id": "dFc8lTm_YY7Y"
      },
      "source": [
        "train_photos, val_photos, train_attrs, val_attrs = train_test_split(data, attrs,\n",
        "                                                                    train_size=0.9, shuffle=False)\n",
        "train_loader = torch.utils.data.DataLoader(train_photos.transpose(0, 3, 1, 2), batch_size=32)\n",
        "val_loader = torch.utils.data.DataLoader(val_photos.transpose(0, 3, 1, 2), batch_size=32)"
      ],
      "execution_count": 4,
      "outputs": []
    },
    {
      "cell_type": "code",
      "metadata": {
        "colab": {
          "base_uri": "https://localhost:8080/",
          "height": 489
        },
        "id": "r4XSmkHQNPH1",
        "outputId": "74d88a33-586d-4e9a-ad3e-10b9a7fbad7d"
      },
      "source": [
        "plt.figure(figsize=(20, 8))\n",
        "for i, (gt, res) in enumerate(zip(train_photos[:5], train_photos[5:10])):\n",
        "  plt.subplot(2, 5, 2*i+1)\n",
        "  plt.imshow(gt)\n",
        "  plt.subplot(2, 5, 2*i+2)\n",
        "  plt.imshow(res)"
      ],
      "execution_count": 5,
      "outputs": [
        {
          "output_type": "display_data",
          "data": {
            "image/png": "[encoded data removed]",
            "text/plain": [
              "<Figure size 1440x576 with 10 Axes>"
            ]
          },
          "metadata": {
            "tags": [],
            "needs_background": "light"
          }
        }
      ]
    },
    {
      "cell_type": "markdown",
      "metadata": {
        "id": "z9CC-DUhYY7i"
      },
      "source": [
        "## 1.2. Архитектура модели (1.5 балла)\n",
        "В этом разделе мы напишем и обучем обычный автоэнкодер.\n",
        "\n",
        "\n",
        "\n",
        "<img src=\"https://www.notion.so/image/https%3A%2F%2Fs3-us-west-2.amazonaws.com%2Fsecure.notion-static.com%2F4b8adf79-8e6a-4b7d-9061-8617a00edbb1%2F__2021-04-30__14.53.33.png?table=block&id=56f187b4-279f-4208-b1ed-4bda5f91bfc0&width=2880&userId=3b1b5e32-1cfb-4b0f-8705-5a524a8f56e3&cache=v2\" alt=\"Autoencoder\">\n",
        "\n",
        "\n",
        "^ напомню, что автоэнкодер выглядит вот так"
      ]
    },
    {
      "cell_type": "code",
      "metadata": {
        "id": "csrNCYh-YY7j"
      },
      "source": [
        "dim_code = 128 # выберите размер латентного вектора"
      ],
      "execution_count": 6,
      "outputs": []
    },
    {
      "cell_type": "markdown",
      "metadata": {
        "id": "Fjr-N8AWee-k"
      },
      "source": [
        "Реализуем autoencoder. Архитектуру (conv, fully-connected, ReLu, etc) можете выбирать сами. Экспериментируйте!"
      ]
    },
    {
      "cell_type": "markdown",
      "metadata": {
        "id": "byINchPQlhjY"
      },
      "source": [
        "### Для начала что-то совсем простое"
      ]
    },
    {
      "cell_type": "code",
      "metadata": {
        "id": "8SjHNX-rYY7k"
      },
      "source": [
        "from copy import deepcopy\n",
        "\n",
        "class Simple_Autoencoder(nn.Module):\n",
        "    def __init__(self):\n",
        "        super(Simple_Autoencoder, self).__init__()\n",
        "\n",
        "        self.flatten = nn.Flatten()\n",
        " \n",
        "        # encoder\n",
        "        self.encoder = nn.Sequential(\n",
        "            nn.Linear(in_features=3*64*64, out_features=512),\n",
        "            nn.ReLU(),\n",
        "            nn.Linear(in_features=512, out_features=128),\n",
        "            nn.ReLU(),\n",
        "            nn.Linear(in_features=128, out_features=dim_code),\n",
        "            nn.ReLU()\n",
        "        )\n",
        " \n",
        "        # decoder \n",
        "        self.decoder = nn.Sequential(\n",
        "            nn.Linear(in_features=dim_code, out_features=128),\n",
        "            nn.ReLU(),\n",
        "            nn.Linear(in_features=128, out_features=512),\n",
        "            nn.ReLU(),\n",
        "            nn.Linear(in_features=512, out_features=3*64*64)\n",
        "        )\n",
        "        \n",
        "    def forward(self, x):\n",
        "        x = self.flatten(x).float()\n",
        "        # print(\"X SHAPE AFTER FLATTEN: \", x.shape)\n",
        "        latent_code = self.encoder(x).view(-1, dim_code)\n",
        "        # print(\"X SHAPE AFTER ENCODING: \", latent_code.shape)\n",
        "\n",
        "        reconstruction = self.decoder(latent_code)\n",
        "        # print('X SHAPE AFTER DECODER', reconstruction.shape)\n",
        "        \n",
        "        return reconstruction\n",
        "\n",
        "    def sample(self, z):\n",
        "        generated = self.decoder(z)\n",
        "        generated = generated.view(-1, 3, 64, 64)\n",
        "        return generated"
      ],
      "execution_count": 7,
      "outputs": []
    },
    {
      "cell_type": "code",
      "metadata": {
        "id": "73lg3bI2YY7m"
      },
      "source": [
        "device = 'cuda:0' if torch.cuda.is_available() else 'cpu'"
      ],
      "execution_count": 4,
      "outputs": []
    },
    {
      "cell_type": "markdown",
      "metadata": {
        "id": "GpntmZCe5L6i"
      },
      "source": [
        "## 1.3 Обучение (2 балла)"
      ]
    },
    {
      "cell_type": "markdown",
      "metadata": {
        "id": "Bdxg_3WJYY7o"
      },
      "source": [
        "Осталось написать код обучения автоэнкодера. При этом было бы неплохо в процессе иногда смотреть, как автоэнкодер реконструирует изображения на данном этапе обучения. Наример, после каждой эпохи (прогона train выборки через автоэекодер) можно смотреть, какие реконструкции получились для каких-то изображений val выборки.\n",
        "\n",
        "А, ну еще было бы неплохо выводить графики train и val лоссов в процессе тренировки =)"
      ]
    },
    {
      "cell_type": "code",
      "metadata": {
        "scrolled": true,
        "id": "3H3DOojrYY7o"
      },
      "source": [
        "def train(model, optimizer, criterion, n_epochs=20):\n",
        "    train_losses = []\n",
        "    val_losses = []\n",
        "\n",
        "    for epoch in tqdm.trange(n_epochs):\n",
        "        model.train()\n",
        "        train_losses_per_epoch = []\n",
        "        for X_batch in train_loader:\n",
        "            # print(\"\\n X_batch.shape = \", X_batch.shape)\n",
        "            optimizer.zero_grad()\n",
        "            reconstruction = model(X_batch.to(device))\n",
        "            # print(\"\\n reconstruction.shape BEFORE: \", reconstruction.shape)\n",
        "            reconstruction = reconstruction.view(-1, 3, 64, 64)\n",
        "            # print(\"\\n reconstruction.shape AFTER: \", reconstruction.shape)\n",
        "            loss = criterion(reconstruction, X_batch.to(device))\n",
        "            loss.backward()\n",
        "            optimizer.step()\n",
        "            train_losses_per_epoch.append(loss.item())\n",
        "        train_losses.append(np.mean(train_losses_per_epoch))\n",
        "\n",
        "        model.eval()\n",
        "        val_losses_per_epoch = []\n",
        "        with torch.no_grad():\n",
        "            for X_batch in val_loader:\n",
        "                reconstruction = model(X_batch.to(device))\n",
        "                reconstruction = reconstruction.view(-1, 3, 64, 64)\n",
        "                loss = criterion(X_batch.to(device).float(), reconstruction)\n",
        "                val_losses_per_epoch.append(loss.item())\n",
        "\n",
        "        val_losses.append(np.mean(val_losses_per_epoch))\n",
        "\n",
        "    return train_losses, val_losses"
      ],
      "execution_count": 9,
      "outputs": []
    },
    {
      "cell_type": "code",
      "metadata": {
        "id": "qRTmCtJDnrlA"
      },
      "source": [
        "def show_image(ground_truth, result, start_index=0):\n",
        "    plt.figure(figsize=(20, 8))\n",
        "    for k in range(6):\n",
        "        plt.subplot(2, 6, k+1)\n",
        "        plt.imshow(np.rollaxis(ground_truth[start_index+k], 0, 3), cmap='gray')\n",
        "        plt.title('Real')\n",
        "        plt.axis('off')\n",
        "\n",
        "        plt.subplot(2, 6, k+7)\n",
        "        plt.imshow(result[start_index+k].transpose(1, 2, 0), cmap='gray')\n",
        "        plt.title('Output')\n",
        "        plt.axis('off')\n",
        "    plt.show()"
      ],
      "execution_count": 10,
      "outputs": []
    },
    {
      "cell_type": "code",
      "metadata": {
        "id": "eog1dcd8XOwb"
      },
      "source": [
        "def eval(model, val_loader, start_index=0):\n",
        "    model.eval()\n",
        "    with torch.no_grad():\n",
        "        for batch in val_loader:\n",
        "          reconstruction = model(batch.to(device))\n",
        "          reconstruction = reconstruction.view(-1, 3, 64, 64)\n",
        "          result = reconstruction.cpu().detach().numpy()\n",
        "          ground_truth = batch.numpy()\n",
        "          break\n",
        "\n",
        "    show_image(ground_truth, result, start_index)\n",
        "    "
      ],
      "execution_count": 11,
      "outputs": []
    },
    {
      "cell_type": "markdown",
      "metadata": {
        "id": "FAztAMA4YY7q"
      },
      "source": [
        "Давайте посмотрим, как наш тренированный автоэекодер кодирует и восстанавливает картинки:"
      ]
    },
    {
      "cell_type": "code",
      "metadata": {
        "id": "I1J__yvxYY7r",
        "colab": {
          "base_uri": "https://localhost:8080/",
          "height": 364
        },
        "outputId": "1c2cb0ce-5cda-4018-db9f-55099e4970e7"
      },
      "source": [
        "criterion = F.mse_loss #nn.MSELoss()\n",
        "simple_autoencoder = Simple_Autoencoder().to(device)\n",
        "optimizer = torch.optim.Adam(simple_autoencoder.parameters(), lr=1e-3)\n",
        "train_losses, val_losses = train(simple_autoencoder, optimizer, criterion, n_epochs=20) # < тут Ваш код: выведите первые Х картинок и их реконструкций из val выборки на экран>"
      ],
      "execution_count": 33,
      "outputs": [
        {
          "output_type": "error",
          "ename": "RuntimeError",
          "evalue": "ignored",
          "traceback": [
            "\u001b[0;31m---------------------------------------------------------------------------\u001b[0m",
            "\u001b[0;31mRuntimeError\u001b[0m                              Traceback (most recent call last)",
            "\u001b[0;32m<ipython-input-33-4089346c887d>\u001b[0m in \u001b[0;36m<module>\u001b[0;34m()\u001b[0m\n\u001b[1;32m      1\u001b[0m \u001b[0mcriterion\u001b[0m \u001b[0;34m=\u001b[0m \u001b[0mF\u001b[0m\u001b[0;34m.\u001b[0m\u001b[0mmse_loss\u001b[0m \u001b[0;31m#nn.MSELoss()\u001b[0m\u001b[0;34m\u001b[0m\u001b[0;34m\u001b[0m\u001b[0m\n\u001b[0;32m----> 2\u001b[0;31m \u001b[0msimple_autoencoder\u001b[0m \u001b[0;34m=\u001b[0m \u001b[0mSimple_Autoencoder\u001b[0m\u001b[0;34m(\u001b[0m\u001b[0;34m)\u001b[0m\u001b[0;34m.\u001b[0m\u001b[0mto\u001b[0m\u001b[0;34m(\u001b[0m\u001b[0mdevice\u001b[0m\u001b[0;34m)\u001b[0m\u001b[0;34m\u001b[0m\u001b[0;34m\u001b[0m\u001b[0m\n\u001b[0m\u001b[1;32m      3\u001b[0m \u001b[0moptimizer\u001b[0m \u001b[0;34m=\u001b[0m \u001b[0mtorch\u001b[0m\u001b[0;34m.\u001b[0m\u001b[0moptim\u001b[0m\u001b[0;34m.\u001b[0m\u001b[0mAdam\u001b[0m\u001b[0;34m(\u001b[0m\u001b[0msimple_autoencoder\u001b[0m\u001b[0;34m.\u001b[0m\u001b[0mparameters\u001b[0m\u001b[0;34m(\u001b[0m\u001b[0;34m)\u001b[0m\u001b[0;34m,\u001b[0m \u001b[0mlr\u001b[0m\u001b[0;34m=\u001b[0m\u001b[0;36m1e-3\u001b[0m\u001b[0;34m)\u001b[0m\u001b[0;34m\u001b[0m\u001b[0;34m\u001b[0m\u001b[0m\n\u001b[1;32m      4\u001b[0m \u001b[0mtrain_losses\u001b[0m\u001b[0;34m,\u001b[0m \u001b[0mval_losses\u001b[0m \u001b[0;34m=\u001b[0m \u001b[0mtrain\u001b[0m\u001b[0;34m(\u001b[0m\u001b[0msimple_autoencoder\u001b[0m\u001b[0;34m,\u001b[0m \u001b[0moptimizer\u001b[0m\u001b[0;34m,\u001b[0m \u001b[0mcriterion\u001b[0m\u001b[0;34m,\u001b[0m \u001b[0mn_epochs\u001b[0m\u001b[0;34m=\u001b[0m\u001b[0;36m20\u001b[0m\u001b[0;34m)\u001b[0m \u001b[0;31m# < тут Ваш код: выведите первые Х картинок и их реконструкций из val выборки на экран>\u001b[0m\u001b[0;34m\u001b[0m\u001b[0;34m\u001b[0m\u001b[0m\n",
            "\u001b[0;32m/usr/local/lib/python3.7/dist-packages/torch/nn/modules/module.py\u001b[0m in \u001b[0;36mto\u001b[0;34m(self, *args, **kwargs)\u001b[0m\n\u001b[1;32m    671\u001b[0m             \u001b[0;32mreturn\u001b[0m \u001b[0mt\u001b[0m\u001b[0;34m.\u001b[0m\u001b[0mto\u001b[0m\u001b[0;34m(\u001b[0m\u001b[0mdevice\u001b[0m\u001b[0;34m,\u001b[0m \u001b[0mdtype\u001b[0m \u001b[0;32mif\u001b[0m \u001b[0mt\u001b[0m\u001b[0;34m.\u001b[0m\u001b[0mis_floating_point\u001b[0m\u001b[0;34m(\u001b[0m\u001b[0;34m)\u001b[0m \u001b[0;32mor\u001b[0m \u001b[0mt\u001b[0m\u001b[0;34m.\u001b[0m\u001b[0mis_complex\u001b[0m\u001b[0;34m(\u001b[0m\u001b[0;34m)\u001b[0m \u001b[0;32melse\u001b[0m \u001b[0;32mNone\u001b[0m\u001b[0;34m,\u001b[0m \u001b[0mnon_blocking\u001b[0m\u001b[0;34m)\u001b[0m\u001b[0;34m\u001b[0m\u001b[0;34m\u001b[0m\u001b[0m\n\u001b[1;32m    672\u001b[0m \u001b[0;34m\u001b[0m\u001b[0m\n\u001b[0;32m--> 673\u001b[0;31m         \u001b[0;32mreturn\u001b[0m \u001b[0mself\u001b[0m\u001b[0;34m.\u001b[0m\u001b[0m_apply\u001b[0m\u001b[0;34m(\u001b[0m\u001b[0mconvert\u001b[0m\u001b[0;34m)\u001b[0m\u001b[0;34m\u001b[0m\u001b[0;34m\u001b[0m\u001b[0m\n\u001b[0m\u001b[1;32m    674\u001b[0m \u001b[0;34m\u001b[0m\u001b[0m\n\u001b[1;32m    675\u001b[0m     def register_backward_hook(\n",
            "\u001b[0;32m/usr/local/lib/python3.7/dist-packages/torch/nn/modules/module.py\u001b[0m in \u001b[0;36m_apply\u001b[0;34m(self, fn)\u001b[0m\n\u001b[1;32m    385\u001b[0m     \u001b[0;32mdef\u001b[0m \u001b[0m_apply\u001b[0m\u001b[0;34m(\u001b[0m\u001b[0mself\u001b[0m\u001b[0;34m,\u001b[0m \u001b[0mfn\u001b[0m\u001b[0;34m)\u001b[0m\u001b[0;34m:\u001b[0m\u001b[0;34m\u001b[0m\u001b[0;34m\u001b[0m\u001b[0m\n\u001b[1;32m    386\u001b[0m         \u001b[0;32mfor\u001b[0m \u001b[0mmodule\u001b[0m \u001b[0;32min\u001b[0m \u001b[0mself\u001b[0m\u001b[0;34m.\u001b[0m\u001b[0mchildren\u001b[0m\u001b[0;34m(\u001b[0m\u001b[0;34m)\u001b[0m\u001b[0;34m:\u001b[0m\u001b[0;34m\u001b[0m\u001b[0;34m\u001b[0m\u001b[0m\n\u001b[0;32m--> 387\u001b[0;31m             \u001b[0mmodule\u001b[0m\u001b[0;34m.\u001b[0m\u001b[0m_apply\u001b[0m\u001b[0;34m(\u001b[0m\u001b[0mfn\u001b[0m\u001b[0;34m)\u001b[0m\u001b[0;34m\u001b[0m\u001b[0;34m\u001b[0m\u001b[0m\n\u001b[0m\u001b[1;32m    388\u001b[0m \u001b[0;34m\u001b[0m\u001b[0m\n\u001b[1;32m    389\u001b[0m         \u001b[0;32mdef\u001b[0m \u001b[0mcompute_should_use_set_data\u001b[0m\u001b[0;34m(\u001b[0m\u001b[0mtensor\u001b[0m\u001b[0;34m,\u001b[0m \u001b[0mtensor_applied\u001b[0m\u001b[0;34m)\u001b[0m\u001b[0;34m:\u001b[0m\u001b[0;34m\u001b[0m\u001b[0;34m\u001b[0m\u001b[0m\n",
            "\u001b[0;32m/usr/local/lib/python3.7/dist-packages/torch/nn/modules/module.py\u001b[0m in \u001b[0;36m_apply\u001b[0;34m(self, fn)\u001b[0m\n\u001b[1;32m    385\u001b[0m     \u001b[0;32mdef\u001b[0m \u001b[0m_apply\u001b[0m\u001b[0;34m(\u001b[0m\u001b[0mself\u001b[0m\u001b[0;34m,\u001b[0m \u001b[0mfn\u001b[0m\u001b[0;34m)\u001b[0m\u001b[0;34m:\u001b[0m\u001b[0;34m\u001b[0m\u001b[0;34m\u001b[0m\u001b[0m\n\u001b[1;32m    386\u001b[0m         \u001b[0;32mfor\u001b[0m \u001b[0mmodule\u001b[0m \u001b[0;32min\u001b[0m \u001b[0mself\u001b[0m\u001b[0;34m.\u001b[0m\u001b[0mchildren\u001b[0m\u001b[0;34m(\u001b[0m\u001b[0;34m)\u001b[0m\u001b[0;34m:\u001b[0m\u001b[0;34m\u001b[0m\u001b[0;34m\u001b[0m\u001b[0m\n\u001b[0;32m--> 387\u001b[0;31m             \u001b[0mmodule\u001b[0m\u001b[0;34m.\u001b[0m\u001b[0m_apply\u001b[0m\u001b[0;34m(\u001b[0m\u001b[0mfn\u001b[0m\u001b[0;34m)\u001b[0m\u001b[0;34m\u001b[0m\u001b[0;34m\u001b[0m\u001b[0m\n\u001b[0m\u001b[1;32m    388\u001b[0m \u001b[0;34m\u001b[0m\u001b[0m\n\u001b[1;32m    389\u001b[0m         \u001b[0;32mdef\u001b[0m \u001b[0mcompute_should_use_set_data\u001b[0m\u001b[0;34m(\u001b[0m\u001b[0mtensor\u001b[0m\u001b[0;34m,\u001b[0m \u001b[0mtensor_applied\u001b[0m\u001b[0;34m)\u001b[0m\u001b[0;34m:\u001b[0m\u001b[0;34m\u001b[0m\u001b[0;34m\u001b[0m\u001b[0m\n",
            "\u001b[0;32m/usr/local/lib/python3.7/dist-packages/torch/nn/modules/module.py\u001b[0m in \u001b[0;36m_apply\u001b[0;34m(self, fn)\u001b[0m\n\u001b[1;32m    407\u001b[0m                 \u001b[0;31m# `with torch.no_grad():`\u001b[0m\u001b[0;34m\u001b[0m\u001b[0;34m\u001b[0m\u001b[0;34m\u001b[0m\u001b[0m\n\u001b[1;32m    408\u001b[0m                 \u001b[0;32mwith\u001b[0m \u001b[0mtorch\u001b[0m\u001b[0;34m.\u001b[0m\u001b[0mno_grad\u001b[0m\u001b[0;34m(\u001b[0m\u001b[0;34m)\u001b[0m\u001b[0;34m:\u001b[0m\u001b[0;34m\u001b[0m\u001b[0;34m\u001b[0m\u001b[0m\n\u001b[0;32m--> 409\u001b[0;31m                     \u001b[0mparam_applied\u001b[0m \u001b[0;34m=\u001b[0m \u001b[0mfn\u001b[0m\u001b[0;34m(\u001b[0m\u001b[0mparam\u001b[0m\u001b[0;34m)\u001b[0m\u001b[0;34m\u001b[0m\u001b[0;34m\u001b[0m\u001b[0m\n\u001b[0m\u001b[1;32m    410\u001b[0m                 \u001b[0mshould_use_set_data\u001b[0m \u001b[0;34m=\u001b[0m \u001b[0mcompute_should_use_set_data\u001b[0m\u001b[0;34m(\u001b[0m\u001b[0mparam\u001b[0m\u001b[0;34m,\u001b[0m \u001b[0mparam_applied\u001b[0m\u001b[0;34m)\u001b[0m\u001b[0;34m\u001b[0m\u001b[0;34m\u001b[0m\u001b[0m\n\u001b[1;32m    411\u001b[0m                 \u001b[0;32mif\u001b[0m \u001b[0mshould_use_set_data\u001b[0m\u001b[0;34m:\u001b[0m\u001b[0;34m\u001b[0m\u001b[0;34m\u001b[0m\u001b[0m\n",
            "\u001b[0;32m/usr/local/lib/python3.7/dist-packages/torch/nn/modules/module.py\u001b[0m in \u001b[0;36mconvert\u001b[0;34m(t)\u001b[0m\n\u001b[1;32m    669\u001b[0m                 return t.to(device, dtype if t.is_floating_point() or t.is_complex() else None,\n\u001b[1;32m    670\u001b[0m                             non_blocking, memory_format=convert_to_format)\n\u001b[0;32m--> 671\u001b[0;31m             \u001b[0;32mreturn\u001b[0m \u001b[0mt\u001b[0m\u001b[0;34m.\u001b[0m\u001b[0mto\u001b[0m\u001b[0;34m(\u001b[0m\u001b[0mdevice\u001b[0m\u001b[0;34m,\u001b[0m \u001b[0mdtype\u001b[0m \u001b[0;32mif\u001b[0m \u001b[0mt\u001b[0m\u001b[0;34m.\u001b[0m\u001b[0mis_floating_point\u001b[0m\u001b[0;34m(\u001b[0m\u001b[0;34m)\u001b[0m \u001b[0;32mor\u001b[0m \u001b[0mt\u001b[0m\u001b[0;34m.\u001b[0m\u001b[0mis_complex\u001b[0m\u001b[0;34m(\u001b[0m\u001b[0;34m)\u001b[0m \u001b[0;32melse\u001b[0m \u001b[0;32mNone\u001b[0m\u001b[0;34m,\u001b[0m \u001b[0mnon_blocking\u001b[0m\u001b[0;34m)\u001b[0m\u001b[0;34m\u001b[0m\u001b[0;34m\u001b[0m\u001b[0m\n\u001b[0m\u001b[1;32m    672\u001b[0m \u001b[0;34m\u001b[0m\u001b[0m\n\u001b[1;32m    673\u001b[0m         \u001b[0;32mreturn\u001b[0m \u001b[0mself\u001b[0m\u001b[0;34m.\u001b[0m\u001b[0m_apply\u001b[0m\u001b[0;34m(\u001b[0m\u001b[0mconvert\u001b[0m\u001b[0;34m)\u001b[0m\u001b[0;34m\u001b[0m\u001b[0;34m\u001b[0m\u001b[0m\n",
            "\u001b[0;31mRuntimeError\u001b[0m: CUDA error: device-side assert triggered"
          ]
        }
      ]
    },
    {
      "cell_type": "code",
      "metadata": {
        "id": "NTRjlQBrIS5V"
      },
      "source": [
        "eval(simple_autoencoder, val_loader, start_index=10)"
      ],
      "execution_count": null,
      "outputs": []
    },
    {
      "cell_type": "code",
      "metadata": {
        "id": "xzjeBXKGlDrk"
      },
      "source": [
        "plt.figure(figsize=(12, 8))\n",
        "plt.plot(np.arange(len(train_losses)), train_losses, label='Train')\n",
        "plt.plot(np.arange(len(val_losses)), val_losses, label='Validation')\n",
        "\n",
        "plt.xlabel('Epoch')\n",
        "plt.title('MSE loss')\n",
        "plt.legend()\n",
        "plt.show()"
      ],
      "execution_count": null,
      "outputs": []
    },
    {
      "cell_type": "markdown",
      "metadata": {
        "id": "oIMJp_BwlV16"
      },
      "source": [
        "### Добавим немного сверток"
      ]
    },
    {
      "cell_type": "code",
      "metadata": {
        "id": "zct1H0tdgW-k"
      },
      "source": [
        "class Autoencoder(nn.Module):\n",
        "    def __init__(self):\n",
        "        super(Autoencoder,self).__init__()\n",
        "        \n",
        "        self.encoder = nn.Sequential(\n",
        "            nn.Conv2d(3, 6, kernel_size=5),\n",
        "            nn.ReLU(True),\n",
        "            nn.Conv2d(6,16,kernel_size=5),\n",
        "            nn.ReLU(True),\n",
        "            nn.Flatten(),\n",
        "            nn.Linear(in_features=16*56*56, out_features=dim_code)\n",
        "        )\n",
        "\n",
        "        self.decoder = nn.Sequential(        \n",
        "            nn.Linear(in_features=dim_code, out_features=16*56*56),\n",
        "            nn.Unflatten(1, (16, 56, 56)),\n",
        "            nn.ConvTranspose2d(16,6,kernel_size=5),\n",
        "            nn.ReLU(True),\n",
        "            nn.ConvTranspose2d(6,3,kernel_size=5),\n",
        "            # nn.ReLU(True),\n",
        "            nn.Sigmoid()\n",
        "        )\n",
        "\n",
        "    def forward(self,x):\n",
        "        x = self.encoder(x)#.view(-1, dim_code)\n",
        "        x = self.decoder(x)\n",
        "        return x\n",
        "\n",
        "    def sample(self, x):\n",
        "        generated = self.decoder(x)\n",
        "        return generated\n",
        "\n",
        "    def get_latent_vector(self, x):\n",
        "        latent_code = self.encoder(x)#.view(-1, dim_code)\n",
        "        return latent_code"
      ],
      "execution_count": null,
      "outputs": []
    },
    {
      "cell_type": "code",
      "metadata": {
        "id": "zBWY98FnggaF"
      },
      "source": [
        "criterion = F.mse_loss #nn.MSELoss()\n",
        "autoencoder = Autoencoder().to(device)\n",
        "optimizer = torch.optim.Adam(autoencoder.parameters(), lr=1e-3)\n",
        "train_losses, val_losses = train(autoencoder, optimizer, criterion, n_epochs=30) # < тут Ваш код: выведите первые Х картинок и их реконструкций из val выборки на экран>"
      ],
      "execution_count": null,
      "outputs": []
    },
    {
      "cell_type": "code",
      "metadata": {
        "id": "R_L8m5JZgqPQ"
      },
      "source": [
        "eval(autoencoder, val_loader, start_index=0)"
      ],
      "execution_count": null,
      "outputs": []
    },
    {
      "cell_type": "code",
      "metadata": {
        "id": "euq9HI8GXdHV"
      },
      "source": [
        "plt.figure(figsize=(12, 8))\n",
        "plt.plot(np.arange(len(train_losses)), train_losses, label='Train')\n",
        "plt.plot(np.arange(len(val_losses)), val_losses, label='Validation')\n",
        "\n",
        "plt.xlabel('Epoch')\n",
        "plt.title('MSE loss')\n",
        "plt.legend()\n",
        "plt.show()"
      ],
      "execution_count": null,
      "outputs": []
    },
    {
      "cell_type": "markdown",
      "metadata": {
        "id": "1OPh9O6UYY7s"
      },
      "source": [
        "Not bad, right? \n",
        "\n",
        "LGTM"
      ]
    },
    {
      "cell_type": "markdown",
      "metadata": {
        "id": "dFi96giuYY7t"
      },
      "source": [
        "## 1.4. Sampling (2 балла)"
      ]
    },
    {
      "cell_type": "markdown",
      "metadata": {
        "id": "AOtUaPNYYY7t"
      },
      "source": [
        "Давайте теперь будем не просто брать картинку, прогонять ее через автоэекодер и получать реконструкцию, а попробуем создать что-то НОВОЕ\n",
        "\n",
        "Давайте возьмем и подсунем декодеру какие-нибудь сгенерированные нами векторы (например, из нормального распределения) и посмотрим на результат реконструкции декодера:\n",
        "\n",
        "__Подсказка:__Е сли вместо лиц у вас выводится непонятно что, попробуйте посмотреть, как выглядят латентные векторы картинок из датасета. Так как в обучении нейронных сетей есть определенная доля рандома, векторы латентного слоя могут быть распределены НЕ как `np.random.randn(25, <latent_space_dim>)`. А чтобы у нас получались лица при запихивании вектора декодеру, вектор должен быть распределен так же, как латентные векторы реальных фоток. Так что в таком случае придется рандом немного подогнать."
      ]
    },
    {
      "cell_type": "code",
      "metadata": {
        "id": "4mZB5GBvtpSf"
      },
      "source": [
        "model = autoencoder"
      ],
      "execution_count": null,
      "outputs": []
    },
    {
      "cell_type": "code",
      "metadata": {
        "id": "jbQCCqDjsX-l"
      },
      "source": [
        "for batch in val_loader:\n",
        "    latent_vector = model.get_latent_vector(batch.to(device))  \n",
        "    break  \n",
        "latent_vector.shape"
      ],
      "execution_count": null,
      "outputs": []
    },
    {
      "cell_type": "code",
      "metadata": {
        "id": "Wao_9LeqtO9_"
      },
      "source": [
        "latent_mean = latent_vector.mean(dim=0)\n",
        "latent_std = latent_vector.std(dim=0)"
      ],
      "execution_count": null,
      "outputs": []
    },
    {
      "cell_type": "code",
      "metadata": {
        "id": "B4vSBKX1t96v"
      },
      "source": [
        "latent_mean = latent_mean.cpu().detach().numpy()\n",
        "latent_std = latent_std.cpu().detach().numpy()"
      ],
      "execution_count": null,
      "outputs": []
    },
    {
      "cell_type": "code",
      "metadata": {
        "id": "3bmft9BFWFQ-"
      },
      "source": [
        "latent_mean.shape, latent_std.shape"
      ],
      "execution_count": null,
      "outputs": []
    },
    {
      "cell_type": "code",
      "metadata": {
        "scrolled": true,
        "id": "8IZykARRYY7u"
      },
      "source": [
        "# сгенерируем 25 рандомных векторов размера latent_space\n",
        "z = np.array([np.random.normal(0, 1, dim_code) for i in range(32)])\n",
        "z = z * latent_std + latent_mean\n",
        "\n",
        "model.eval()\n",
        "with torch.no_grad():\n",
        "    reconstruction = model.sample(torch.FloatTensor(z).to(device))\n",
        "    reconstruction = reconstruction\n",
        "    output = reconstruction.cpu().detach().numpy()\n",
        "\n",
        "show_image(output[:16, :, :, :], output[16:, :, :, :])"
      ],
      "execution_count": null,
      "outputs": []
    },
    {
      "cell_type": "markdown",
      "metadata": {
        "collapsed": true,
        "id": "Ey8dD9s0YY7w"
      },
      "source": [
        "## Time to make fun! (4 балла)\n",
        "\n",
        "Давайте научимся пририсовывать людям улыбки =)"
      ]
    },
    {
      "cell_type": "markdown",
      "metadata": {
        "id": "i1v-8WwuYY7w"
      },
      "source": [
        "<img src=\"https://i.imgur.com/tOE9rDK.png\" alt=\"linear\" width=\"700\" height=\"400\">"
      ]
    },
    {
      "cell_type": "markdown",
      "metadata": {
        "id": "eGE0M2GDYY7x"
      },
      "source": [
        "План такой:\n",
        "\n",
        "1. Нужно выделить \"вектор улыбки\": для этого нужно из выборки изображений найти несколько (~15) людей с улыбками и столько же без.\n",
        "\n",
        "Найти людей с улыбками вам поможет файл с описанием датасета, скачанный вместе с датасетом. В нем указаны имена картинок и присутствубщие атрибуты (улыбки, очки...)\n",
        "\n",
        "2. Вычислить латентный вектор для всех улыбающихся людей (прогнать их через encoder) и то же для всех грустненьких\n",
        "\n",
        "3. Вычислить, собственно, вектор улыбки -- посчитать разность между средним латентным вектором улыбающихся людей и средним латентным вектором грустных людей\n",
        "\n",
        "4. А теперь приделаем улыбку грустному человеку: добавим полученный в пункте 3 вектор к латентному вектору грустного человека и прогоним полученный вектор через decoder. Получим того же человека, но уже не грустненького!"
      ]
    },
    {
      "cell_type": "code",
      "metadata": {
        "id": "f1oBX9EeYY7x"
      },
      "source": [
        "train_attrs.head(20)"
      ],
      "execution_count": null,
      "outputs": []
    },
    {
      "cell_type": "code",
      "metadata": {
        "id": "kqDMapq6UbCr"
      },
      "source": [
        "model = autoencoder"
      ],
      "execution_count": null,
      "outputs": []
    },
    {
      "cell_type": "markdown",
      "metadata": {
        "id": "vNTJHhX3-ja3"
      },
      "source": [
        "Сделаем маску на улыбку. Для этого отберем только те картинки, у которых достатотчно высокий трешхолд улыбки. \n",
        "Сделаем из этого даталоадер, подадим его модели и получим скрытый векторй веселых людей. \n",
        "\n",
        "Затем тоже самое для грустных. Затем вычтим один из другого. Получим вектор улыбки."
      ]
    },
    {
      "cell_type": "code",
      "metadata": {
        "id": "sgJyKtSMxe-o"
      },
      "source": [
        "funny_mask = train_attrs['Smiling'] > 2\n",
        "funny_people_dl = torch.utils.data.DataLoader(train_photos[funny_mask].transpose(0, 3, 1, 2), batch_size=32)"
      ],
      "execution_count": null,
      "outputs": []
    },
    {
      "cell_type": "code",
      "metadata": {
        "id": "RclzetZKzZ2p"
      },
      "source": [
        "for batch in funny_people_dl:\n",
        "    funny_latent_vector = model.get_latent_vector(batch.to(device))\n",
        "    break"
      ],
      "execution_count": null,
      "outputs": []
    },
    {
      "cell_type": "code",
      "metadata": {
        "id": "ilhUB9FBzZ8o"
      },
      "source": [
        "sad_mask = train_attrs['Smiling'] < -2\n",
        "sad_people_dl = torch.utils.data.DataLoader(train_photos[sad_mask].transpose(0, 3, 1, 2), batch_size=32)"
      ],
      "execution_count": null,
      "outputs": []
    },
    {
      "cell_type": "code",
      "metadata": {
        "id": "Q0qum1SEzaJU"
      },
      "source": [
        "for batch in sad_people_dl:\n",
        "    sad_latent_vector = model.get_latent_vector(batch.to(device))\n",
        "    break"
      ],
      "execution_count": null,
      "outputs": []
    },
    {
      "cell_type": "markdown",
      "metadata": {
        "id": "IG0Zci4o9-3S"
      },
      "source": [
        "Посчитаем скрытый вектор улыбки:"
      ]
    },
    {
      "cell_type": "code",
      "metadata": {
        "id": "o3yKoLRW0qQM"
      },
      "source": [
        "smile_latent_vector = funny_latent_vector.mean(dim=0) - sad_latent_vector.mean(dim=0)"
      ],
      "execution_count": null,
      "outputs": []
    },
    {
      "cell_type": "code",
      "metadata": {
        "id": "RWedMBt90qZ-"
      },
      "source": [
        "for batch in val_loader:\n",
        "    latent_vector = model.get_latent_vector(batch.to(device))\n",
        "    latent_vector += smile_latent_vector # make smile here\n",
        "    result = model.sample(latent_vector.to(device))\n",
        "\n",
        "    result = result.cpu().detach().numpy()\n",
        "    ground_truth = batch.numpy()\n",
        "    break"
      ],
      "execution_count": null,
      "outputs": []
    },
    {
      "cell_type": "code",
      "metadata": {
        "id": "B2g99qWL0qjp"
      },
      "source": [
        "show_image(ground_truth, result, 6)"
      ],
      "execution_count": null,
      "outputs": []
    },
    {
      "cell_type": "markdown",
      "metadata": {
        "id": "bXI6jprOYY7z"
      },
      "source": [
        "Вуаля! Вы восхитительны!"
      ]
    },
    {
      "cell_type": "markdown",
      "metadata": {
        "id": "E2UAf0bpYY70"
      },
      "source": [
        "Теперь вы можете пририсовывать людям не только улыбки, но и много чего другого -- закрывать/открывать глаза, пририсовывать очки... в общем, все, на что хватит фантазии и на что есть атрибуты в `all_attrs`:)"
      ]
    },
    {
      "cell_type": "markdown",
      "metadata": {
        "id": "ybyQ3xF8A0uw"
      },
      "source": [
        "Сделаем всех азиатами)))"
      ]
    },
    {
      "cell_type": "code",
      "metadata": {
        "id": "r2gKm9Of_Jcg"
      },
      "source": [
        "child_mask = train_attrs['Asian'] > 2\n",
        "child_people_dl = torch.utils.data.DataLoader(train_photos[child_mask].transpose(0, 3, 1, 2), batch_size=32)"
      ],
      "execution_count": null,
      "outputs": []
    },
    {
      "cell_type": "code",
      "metadata": {
        "id": "MqHjDgw4AeQY"
      },
      "source": [
        "old_mask = train_attrs['Asian'] < -2\n",
        "old_people_dl = torch.utils.data.DataLoader(train_photos[old_mask].transpose(0, 3, 1, 2), batch_size=32)"
      ],
      "execution_count": null,
      "outputs": []
    },
    {
      "cell_type": "code",
      "metadata": {
        "id": "g66J7BRgA7LN"
      },
      "source": [
        "for batch in child_people_dl:\n",
        "    child_latent_vector = model.get_latent_vector(batch.to(device))\n",
        "    break"
      ],
      "execution_count": null,
      "outputs": []
    },
    {
      "cell_type": "code",
      "metadata": {
        "id": "2F-qIMNjBANF"
      },
      "source": [
        "for batch in old_people_dl:\n",
        "    old_latent_vector = model.get_latent_vector(batch.to(device))\n",
        "    break"
      ],
      "execution_count": null,
      "outputs": []
    },
    {
      "cell_type": "code",
      "metadata": {
        "id": "l7Eo84WXBG07"
      },
      "source": [
        "youth_latent_vector = child_latent_vector.mean(dim=0) - old_latent_vector.mean(dim=0)"
      ],
      "execution_count": null,
      "outputs": []
    },
    {
      "cell_type": "code",
      "metadata": {
        "id": "Iywj3ml4BPoT"
      },
      "source": [
        "for batch in val_loader:\n",
        "    latent_vector = model.get_latent_vector(batch.to(device))\n",
        "    latent_vector += youth_latent_vector # make smile here\n",
        "    result = model.sample(latent_vector.to(device))\n",
        "\n",
        "    result = result.cpu().detach().numpy()\n",
        "    ground_truth = batch.numpy()\n",
        "    break"
      ],
      "execution_count": null,
      "outputs": []
    },
    {
      "cell_type": "code",
      "metadata": {
        "id": "FLW-AxTjBYVI"
      },
      "source": [
        "show_image(ground_truth, result, 0)"
      ],
      "execution_count": null,
      "outputs": []
    },
    {
      "cell_type": "markdown",
      "metadata": {
        "id": "QQnEGmknYY71"
      },
      "source": [
        "# Часть 2: Variational Autoencoder (10 баллов) "
      ]
    },
    {
      "cell_type": "markdown",
      "metadata": {
        "id": "bWQNRjJq2uTz"
      },
      "source": [
        "Займемся обучением вариационных автоэнкодеров — проапгрейженной версии AE. Обучать будем на датасете MNIST, содержащем написанные от руки цифры от 0 до 9"
      ]
    },
    {
      "cell_type": "code",
      "metadata": {
        "id": "qBXXr9njByYC",
        "outputId": "1aa1cfb1-b1c7-4130-cee7-626a24180175",
        "colab": {
          "base_uri": "https://localhost:8080/",
          "height": 754,
          "referenced_widgets": [
            "be9dafb5f92f45349405eb19b99a8d35",
            "5e1a50b11f4f450da0065456b761ab35",
            "6b6ab5e234bd450788d77624379f31cc",
            "2f719d63a12c4a26aa43e7dea31fb23e",
            "a94ebc0f2193481eb6f1b882545baea2",
            "5e34560ed484486aa78b79a41a93f9c7",
            "ef84b81a367f4322a340d60006aae509",
            "8dd062cf032a43efa54d72effc0f3c74",
            "48b6ad1615de4baea1c786eb88b156d0",
            "cfa1cb09ea6c4863aaab570dca9d8014",
            "55cd0877c52b40a7a03d0d239f8c7577",
            "3736dc64869d430eb915bee66ba31268",
            "49a4948ad913488c8f71f291996351ea",
            "08bef774f5c54237a0471f82af062930",
            "b8ae91b9a6b2439f97081b4146a8c478",
            "20b4157339ae462e8b99744f8b737668",
            "4768fae900aa48429aa3d87e4df00dd6",
            "2fe74b7139e4429995a5c51740044bd0",
            "0d8e59fab5e643afb52b42c760598173",
            "29b99270879548589196d2b77849f8f2",
            "4c169ec59c9848838a63162686a80e90",
            "789e8aef9161449c8409c490e7211424",
            "5d124fbe435b42fdb9000f5e875c5017",
            "65d81c55e74545af81b667804b5c599f",
            "5052d5eeffc04c5cb902a44d16adfa92",
            "55cf78ca90e546539e872aad396612cf",
            "c7246b3abda3468ab5fa7a41baba214b",
            "7bb67abdd0314c1db6a820809438bd0f",
            "6656ab360bc44733a8e9dd9de2592d39",
            "61789b55225c4fcdaa4be8557553bff0",
            "0cc4d098e14c474582ea1949695d6409",
            "8e2e19b74a354a369e28dbaaf2a4be70"
          ]
        }
      },
      "source": [
        "from torchvision import transforms\n",
        "\n",
        "batch_size = 32\n",
        "# MNIST Dataset\n",
        "train_dataset = datasets.MNIST(root='./mnist_data/', train=True, transform=transforms.ToTensor(), download=True)\n",
        "test_dataset = datasets.MNIST(root='./mnist_data/', train=False, transform=transforms.ToTensor(), download=False)"
      ],
      "execution_count": 13,
      "outputs": [
        {
          "output_type": "stream",
          "text": [
            "Downloading http://yann.lecun.com/exdb/mnist/train-images-idx3-ubyte.gz\n",
            "Downloading http://yann.lecun.com/exdb/mnist/train-images-idx3-ubyte.gz to ./mnist_data/MNIST/raw/train-images-idx3-ubyte.gz\n",
            "Failed to download (trying next):\n",
            "HTTP Error 503: Service Unavailable\n",
            "\n",
            "Downloading https://ossci-datasets.s3.amazonaws.com/mnist/train-images-idx3-ubyte.gz\n",
            "Downloading https://ossci-datasets.s3.amazonaws.com/mnist/train-images-idx3-ubyte.gz to ./mnist_data/MNIST/raw/train-images-idx3-ubyte.gz\n"
          ],
          "name": "stdout"
        },
        {
          "output_type": "display_data",
          "data": {
            "application/vnd.jupyter.widget-view+json": {
              "model_id": "be9dafb5f92f45349405eb19b99a8d35",
              "version_minor": 0,
              "version_major": 2
            },
            "text/plain": [
              "HBox(children=(FloatProgress(value=0.0, max=9912422.0), HTML(value='')))"
            ]
          },
          "metadata": {
            "tags": []
          }
        },
        {
          "output_type": "stream",
          "text": [
            "\n",
            "Extracting ./mnist_data/MNIST/raw/train-images-idx3-ubyte.gz to ./mnist_data/MNIST/raw\n",
            "\n",
            "Downloading http://yann.lecun.com/exdb/mnist/train-labels-idx1-ubyte.gz\n",
            "Downloading http://yann.lecun.com/exdb/mnist/train-labels-idx1-ubyte.gz to ./mnist_data/MNIST/raw/train-labels-idx1-ubyte.gz\n"
          ],
          "name": "stdout"
        },
        {
          "output_type": "display_data",
          "data": {
            "application/vnd.jupyter.widget-view+json": {
              "model_id": "48b6ad1615de4baea1c786eb88b156d0",
              "version_minor": 0,
              "version_major": 2
            },
            "text/plain": [
              "HBox(children=(FloatProgress(value=0.0, max=28881.0), HTML(value='')))"
            ]
          },
          "metadata": {
            "tags": []
          }
        },
        {
          "output_type": "stream",
          "text": [
            "\n",
            "Extracting ./mnist_data/MNIST/raw/train-labels-idx1-ubyte.gz to ./mnist_data/MNIST/raw\n",
            "\n",
            "Downloading http://yann.lecun.com/exdb/mnist/t10k-images-idx3-ubyte.gz\n",
            "Downloading http://yann.lecun.com/exdb/mnist/t10k-images-idx3-ubyte.gz to ./mnist_data/MNIST/raw/t10k-images-idx3-ubyte.gz\n",
            "Failed to download (trying next):\n",
            "HTTP Error 503: Service Unavailable\n",
            "\n",
            "Downloading https://ossci-datasets.s3.amazonaws.com/mnist/t10k-images-idx3-ubyte.gz\n",
            "Downloading https://ossci-datasets.s3.amazonaws.com/mnist/t10k-images-idx3-ubyte.gz to ./mnist_data/MNIST/raw/t10k-images-idx3-ubyte.gz\n"
          ],
          "name": "stdout"
        },
        {
          "output_type": "display_data",
          "data": {
            "application/vnd.jupyter.widget-view+json": {
              "model_id": "4768fae900aa48429aa3d87e4df00dd6",
              "version_minor": 0,
              "version_major": 2
            },
            "text/plain": [
              "HBox(children=(FloatProgress(value=0.0, max=1648877.0), HTML(value='')))"
            ]
          },
          "metadata": {
            "tags": []
          }
        },
        {
          "output_type": "stream",
          "text": [
            "\n",
            "Extracting ./mnist_data/MNIST/raw/t10k-images-idx3-ubyte.gz to ./mnist_data/MNIST/raw\n",
            "\n",
            "Downloading http://yann.lecun.com/exdb/mnist/t10k-labels-idx1-ubyte.gz\n",
            "Downloading http://yann.lecun.com/exdb/mnist/t10k-labels-idx1-ubyte.gz to ./mnist_data/MNIST/raw/t10k-labels-idx1-ubyte.gz\n"
          ],
          "name": "stdout"
        },
        {
          "output_type": "display_data",
          "data": {
            "application/vnd.jupyter.widget-view+json": {
              "model_id": "5052d5eeffc04c5cb902a44d16adfa92",
              "version_minor": 0,
              "version_major": 2
            },
            "text/plain": [
              "HBox(children=(FloatProgress(value=0.0, max=4542.0), HTML(value='')))"
            ]
          },
          "metadata": {
            "tags": []
          }
        },
        {
          "output_type": "stream",
          "text": [
            "\n",
            "Extracting ./mnist_data/MNIST/raw/t10k-labels-idx1-ubyte.gz to ./mnist_data/MNIST/raw\n",
            "\n",
            "Processing...\n",
            "Done!\n"
          ],
          "name": "stdout"
        },
        {
          "output_type": "stream",
          "text": [
            "/usr/local/lib/python3.7/dist-packages/torchvision/datasets/mnist.py:502: UserWarning: The given NumPy array is not writeable, and PyTorch does not support non-writeable tensors. This means you can write to the underlying (supposedly non-writeable) NumPy array using the tensor. You may want to copy the array to protect its data or make it writeable before converting it to a tensor. This type of warning will be suppressed for the rest of this program. (Triggered internally at  /pytorch/torch/csrc/utils/tensor_numpy.cpp:143.)\n",
            "  return torch.from_numpy(parsed.astype(m[2], copy=False)).view(*s)\n"
          ],
          "name": "stderr"
        }
      ]
    },
    {
      "cell_type": "code",
      "metadata": {
        "id": "Z0KP9bvSmMez"
      },
      "source": [
        "# Data Loader (Input Pipeline)\n",
        "train_loader = torch.utils.data.DataLoader(dataset=train_dataset, batch_size=batch_size, shuffle=True)\n",
        "test_loader = torch.utils.data.DataLoader(dataset=test_dataset, batch_size=batch_size, shuffle=False)"
      ],
      "execution_count": 14,
      "outputs": []
    },
    {
      "cell_type": "markdown",
      "metadata": {
        "id": "2rHphW5l8Wgi"
      },
      "source": [
        "## 2.1 Архитектура модели и обучение (2 балла)\n",
        "\n",
        "Реализуем VAE. Архитектуру (conv, fully-connected, ReLu, etc) можете выбирать сами. Рекомендуем пользоваться более сложными моделями, чем та, что была на семинаре:) Экспериментируйте!"
      ]
    },
    {
      "cell_type": "code",
      "metadata": {
        "id": "I7v1Ac56MOED"
      },
      "source": [
        "a = torch.tensor([[1, 2],\n",
        "                  [1, 3],\n",
        "                  [1, 4],\n",
        "                  [1, 5],\n",
        "                  [1, 6]])"
      ],
      "execution_count": 15,
      "outputs": []
    },
    {
      "cell_type": "code",
      "metadata": {
        "id": "gyQwvcO5MwWS"
      },
      "source": [
        "dim_code = 8"
      ],
      "execution_count": 7,
      "outputs": []
    },
    {
      "cell_type": "code",
      "metadata": {
        "id": "IoNVT5tYYY74"
      },
      "source": [
        "class VAE(nn.Module):\n",
        "    def __init__(self):\n",
        "        super(VAE, self).__init__()\n",
        "        # <определите архитектуры encoder и decoder\n",
        "        # помните, у encoder должны быть два \"хвоста\", \n",
        "        # т.е. encoder должен кодировать картинку в 2 переменные -- mu и logsigma>\n",
        "\n",
        "        self.encoder = nn.Sequential(\n",
        "            nn.Conv2d(1, 6, kernel_size=3),\n",
        "            nn.ReLU(True),\n",
        "            nn.Conv2d(6,16,kernel_size=3),\n",
        "            nn.ReLU(True),\n",
        "            nn.Flatten(),\n",
        "            nn.Linear(in_features=16*24*24, out_features=2*dim_code)\n",
        "        )\n",
        "\n",
        "        self.decoder = nn.Sequential(        \n",
        "            nn.Linear(in_features=dim_code, out_features=16*24*24),\n",
        "            nn.Unflatten(1, (16, 24, 24)),\n",
        "            nn.ConvTranspose2d(16,6,kernel_size=3),\n",
        "            nn.ReLU(True),\n",
        "            nn.ConvTranspose2d(6,1,kernel_size=3),\n",
        "            nn.Sigmoid()\n",
        "        )\n",
        "\n",
        "    def encode(self, x):\n",
        "        x = self.encoder(x)\n",
        "        mu, logsigma = torch.split(x, dim_code, dim=1)\n",
        "        return mu, logsigma\n",
        "    \n",
        "    def gaussian_sampler(self, mu, logsigma):\n",
        "        if self.training:\n",
        "            # <засемплируйте латентный вектор из нормального распределения с параметрами mu и sigma>\n",
        "            std = torch.exp(logsigma)\n",
        "            eps = torch.randn_like(std)\n",
        "            sample = eps * std + mu\n",
        "            return sample\n",
        "        else:\n",
        "            # на инференсе возвращаем не случайный вектор из нормального распределения, а центральный -- mu. \n",
        "            # на инференсе выход автоэнкодера должен быть детерминирован.\n",
        "            return mu\n",
        "    \n",
        "    def decode(self, z):\n",
        "        # <реализуйте forward проход декодера\n",
        "        # в качестве возвращаемой переменной -- reconstruction>\n",
        "        reconstruction = self.decoder(z)\n",
        "        return reconstruction\n",
        "\n",
        "    def forward(self, x):\n",
        "        # <используя encode и decode, реализуйте forward проход автоэнкодера\n",
        "        # в качестве ваозвращаемых переменных -- mu, logsigma и reconstruction>\n",
        "        # print('x.shape', x.shape)\n",
        "\n",
        "        mu, logsigma = self.encode(x)\n",
        "        latent_code = self.gaussian_sampler(mu, logsigma)\n",
        "        \n",
        "        # print('latent_code.shape', latent_code.shape)\n",
        "        reconstruction = self.decoder(latent_code)\n",
        "\n",
        "        return mu, logsigma, reconstruction\n",
        "\n",
        "    def get_latent_vector(self, x):\n",
        "        # print('BEFORE x.shape', x.shape)\n",
        "        x = self.encoder(x)\n",
        "        # print('AFTER x.shape', x.shape)\n",
        "        mu, logsigma = torch.split(x, dim_code, dim=1)\n",
        "        latent_code = self.gaussian_sampler(mu, logsigma)\n",
        "\n",
        "        return latent_code\n",
        "\n",
        "    def sample(self, x):\n",
        "        generated = self.decoder(x)\n",
        "        return generated"
      ],
      "execution_count": 17,
      "outputs": []
    },
    {
      "cell_type": "code",
      "metadata": {
        "id": "hCsA8Hrr5m6w"
      },
      "source": [
        "def train(model, optimizer, criterion, val_loader, n_epochs=20):\n",
        "    train_losses = []\n",
        "    val_losses = []\n",
        "\n",
        "    for epoch in tqdm.trange(n_epochs):\n",
        "        model.train()\n",
        "        train_losses_per_epoch = []\n",
        "        for X_batch, _ in val_loader:\n",
        "            optimizer.zero_grad()\n",
        "            mu, logsigma, reconstruction = model(X_batch.to(device))\n",
        "            print(\"reconstruction.shape =\", reconstruction.shape)\n",
        "            loss = criterion(X_batch.to(device).float(), mu, logsigma, reconstruction)\n",
        "            loss.backward()\n",
        "            optimizer.step()\n",
        "            train_losses_per_epoch.append(loss.item())\n",
        "\n",
        "        train_losses.append(np.mean(train_losses_per_epoch))\n",
        "\n",
        "        model.eval()\n",
        "        val_losses_per_epoch = []\n",
        "        with torch.no_grad():\n",
        "            for X_batch, _ in val_loader:\n",
        "              mu, logsigma, reconstruction = model(X_batch.to(device))\n",
        "              loss = criterion(X_batch.to(device).float(), mu, logsigma, reconstruction)\n",
        "              val_losses_per_epoch.append(loss.item())\n",
        "\n",
        "        val_losses.append(np.mean(val_losses_per_epoch))\n",
        "\n",
        "    return train_losses, val_losses"
      ],
      "execution_count": 18,
      "outputs": []
    },
    {
      "cell_type": "code",
      "metadata": {
        "id": "LzRE-sl28jES"
      },
      "source": [
        "def show_image(ground_truth, result, img_cnt, start_index=0):\n",
        "    plt.figure(figsize=(25, 8))\n",
        "    for k in range(img_cnt):\n",
        "        plt.subplot(2, img_cnt, k+1)\n",
        "        plt.imshow(ground_truth[start_index+k].reshape(28, 28), cmap='gray')\n",
        "        plt.title('Real')\n",
        "        plt.axis('off')\n",
        "\n",
        "        plt.subplot(2, img_cnt, k+1+img_cnt)\n",
        "        plt.imshow(result[start_index+k].reshape(28, 28), cmap='gray')\n",
        "        plt.title('Output')\n",
        "        plt.axis('off')\n",
        "    plt.show()"
      ],
      "execution_count": 29,
      "outputs": []
    },
    {
      "cell_type": "code",
      "metadata": {
        "id": "7WHWale27obi"
      },
      "source": [
        "def eval(model, val_loader, start_index=0):\n",
        "    model.eval()\n",
        "    with torch.no_grad():\n",
        "        for X_batch, _ in val_loader:\n",
        "          mu, logsigma, reconstruction = model(X_batch.to(device))\n",
        "          result = reconstruction.cpu().detach().numpy()\n",
        "          ground_truth = X_batch.numpy()\n",
        "          img_cnt = min(6, X_batch.shape[0])\n",
        "          break\n",
        "          \n",
        "    show_image(ground_truth, result, img_cnt, start_index)"
      ],
      "execution_count": 30,
      "outputs": []
    },
    {
      "cell_type": "markdown",
      "metadata": {
        "id": "hAB77d-PYY76"
      },
      "source": [
        "Определим лосс и его компоненты для VAE:"
      ]
    },
    {
      "cell_type": "markdown",
      "metadata": {
        "id": "UxJrkXGQo5bp"
      },
      "source": [
        "Надеюсь, вы уже прочитали материал в towardsdatascience (или еще где-то) про VAE и знаете, что лосс у VAE состоит из двух частей: KL и log-likelihood.\n",
        "\n",
        "Общий лосс будет выглядеть так:\n",
        "\n",
        "$$\\mathcal{L} = -D_{KL}(q_{\\phi}(z|x)||p(z)) + \\log p_{\\theta}(x|z)$$\n",
        "\n",
        "Формула для KL-дивергенции:\n",
        "\n",
        "$$D_{KL} = -\\frac{1}{2}\\sum_{i=1}^{dimZ}(1+log(\\sigma_i^2)-\\mu_i^2-\\sigma_i^2)$$\n",
        "\n",
        "В качестве log-likelihood возьмем привычную нам кросс-энтропию."
      ]
    },
    {
      "cell_type": "code",
      "metadata": {
        "id": "ac5ey7uIYY77"
      },
      "source": [
        "def KL_divergence(mu, logsigma):\n",
        "    \"\"\"\n",
        "    часть функции потерь, которая отвечает за \"близость\" латентных представлений разных людей\n",
        "    \"\"\"\n",
        "    loss = -0.5 * torch.sum(1 + logsigma - mu**2 - torch.exp(logsigma))\n",
        "    return loss\n",
        "\n",
        "def log_likelihood(x, reconstruction):\n",
        "    \"\"\"\n",
        "    часть функции потерь, которая отвечает за качество реконструкции\n",
        "    \"\"\"\n",
        "    loss = nn.BCELoss(reduction='sum')\n",
        "    return loss(reconstruction, x)\n",
        "\n",
        "def loss_vae(x, mu, logsigma, reconstruction):\n",
        "    return KL_divergence(mu, logsigma) + log_likelihood(x, reconstruction)"
      ],
      "execution_count": 5,
      "outputs": []
    },
    {
      "cell_type": "markdown",
      "metadata": {
        "id": "ZPJQu70eYY79"
      },
      "source": [
        "И обучим модель:"
      ]
    },
    {
      "cell_type": "code",
      "metadata": {
        "id": "dtCjfqXdYY79",
        "outputId": "f9ac9a01-97cf-4794-c809-9980c80bfc2b",
        "colab": {
          "base_uri": "https://localhost:8080/",
          "height": 236
        }
      },
      "source": [
        "criterion = loss_vae\n",
        "\n",
        "autoencoder = VAE().to(device)\n",
        "\n",
        "optimizer = torch.optim.Adam(autoencoder.parameters(), lr=1e-3)"
      ],
      "execution_count": 6,
      "outputs": [
        {
          "output_type": "error",
          "ename": "NameError",
          "evalue": "ignored",
          "traceback": [
            "\u001b[0;31m---------------------------------------------------------------------------\u001b[0m",
            "\u001b[0;31mNameError\u001b[0m                                 Traceback (most recent call last)",
            "\u001b[0;32m<ipython-input-6-c487fb895b74>\u001b[0m in \u001b[0;36m<module>\u001b[0;34m()\u001b[0m\n\u001b[1;32m      1\u001b[0m \u001b[0mcriterion\u001b[0m \u001b[0;34m=\u001b[0m \u001b[0mloss_vae\u001b[0m\u001b[0;34m\u001b[0m\u001b[0;34m\u001b[0m\u001b[0m\n\u001b[1;32m      2\u001b[0m \u001b[0;34m\u001b[0m\u001b[0m\n\u001b[0;32m----> 3\u001b[0;31m \u001b[0mautoencoder\u001b[0m \u001b[0;34m=\u001b[0m \u001b[0mVAE\u001b[0m\u001b[0;34m(\u001b[0m\u001b[0;34m)\u001b[0m\u001b[0;34m.\u001b[0m\u001b[0mto\u001b[0m\u001b[0;34m(\u001b[0m\u001b[0mdevice\u001b[0m\u001b[0;34m)\u001b[0m\u001b[0;34m\u001b[0m\u001b[0;34m\u001b[0m\u001b[0m\n\u001b[0m\u001b[1;32m      4\u001b[0m \u001b[0;34m\u001b[0m\u001b[0m\n\u001b[1;32m      5\u001b[0m \u001b[0moptimizer\u001b[0m \u001b[0;34m=\u001b[0m \u001b[0mtorch\u001b[0m\u001b[0;34m.\u001b[0m\u001b[0moptim\u001b[0m\u001b[0;34m.\u001b[0m\u001b[0mAdam\u001b[0m\u001b[0;34m(\u001b[0m\u001b[0mautoencoder\u001b[0m\u001b[0;34m.\u001b[0m\u001b[0mparameters\u001b[0m\u001b[0;34m(\u001b[0m\u001b[0;34m)\u001b[0m\u001b[0;34m,\u001b[0m \u001b[0mlr\u001b[0m\u001b[0;34m=\u001b[0m\u001b[0;36m1e-3\u001b[0m\u001b[0;34m)\u001b[0m\u001b[0;34m\u001b[0m\u001b[0;34m\u001b[0m\u001b[0m\n",
            "\u001b[0;31mNameError\u001b[0m: name 'VAE' is not defined"
          ]
        }
      ]
    },
    {
      "cell_type": "code",
      "metadata": {
        "scrolled": true,
        "id": "rY1khca6YY7_",
        "colab": {
          "base_uri": "https://localhost:8080/",
          "height": 1000
        },
        "outputId": "8ea5e2fa-5edc-4b0b-c261-bce28f41b5d3"
      },
      "source": [
        "train_losses, val_losses = train(autoencoder, optimizer, criterion, test_loader, n_epochs=50)"
      ],
      "execution_count": 23,
      "outputs": [
        {
          "output_type": "stream",
          "text": [
            "\n",
            "  0%|          | 0/50 [00:00<?, ?it/s]\u001b[A"
          ],
          "name": "stderr"
        },
        {
          "output_type": "stream",
          "text": [
            "reconstruction.shape = torch.Size([32, 1, 28, 28])\n",
            "reconstruction.shape = torch.Size([32, 1, 28, 28])\n",
            "reconstruction.shape = torch.Size([32, 1, 28, 28])\n",
            "reconstruction.shape = torch.Size([32, 1, 28, 28])\n",
            "reconstruction.shape = torch.Size([32, 1, 28, 28])\n",
            "reconstruction.shape = torch.Size([32, 1, 28, 28])\n",
            "reconstruction.shape = torch.Size([32, 1, 28, 28])\n",
            "reconstruction.shape = torch.Size([32, 1, 28, 28])\n",
            "reconstruction.shape = torch.Size([32, 1, 28, 28])\n",
            "reconstruction.shape = torch.Size([32, 1, 28, 28])\n",
            "reconstruction.shape = torch.Size([32, 1, 28, 28])\n",
            "reconstruction.shape = torch.Size([32, 1, 28, 28])\n",
            "reconstruction.shape = torch.Size([32, 1, 28, 28])\n",
            "reconstruction.shape = torch.Size([32, 1, 28, 28])\n",
            "reconstruction.shape = torch.Size([32, 1, 28, 28])\n",
            "reconstruction.shape = torch.Size([32, 1, 28, 28])\n",
            "reconstruction.shape = torch.Size([32, 1, 28, 28])\n",
            "reconstruction.shape = torch.Size([32, 1, 28, 28])\n",
            "reconstruction.shape = torch.Size([32, 1, 28, 28])\n",
            "reconstruction.shape = torch.Size([32, 1, 28, 28])\n",
            "reconstruction.shape = torch.Size([32, 1, 28, 28])\n",
            "reconstruction.shape = torch.Size([32, 1, 28, 28])\n",
            "reconstruction.shape = torch.Size([32, 1, 28, 28])\n",
            "reconstruction.shape = torch.Size([32, 1, 28, 28])\n",
            "reconstruction.shape = torch.Size([32, 1, 28, 28])\n",
            "reconstruction.shape = torch.Size([32, 1, 28, 28])\n",
            "reconstruction.shape = torch.Size([32, 1, 28, 28])\n",
            "reconstruction.shape = torch.Size([32, 1, 28, 28])\n",
            "reconstruction.shape = torch.Size([32, 1, 28, 28])\n",
            "reconstruction.shape = torch.Size([32, 1, 28, 28])\n",
            "reconstruction.shape = torch.Size([32, 1, 28, 28])\n",
            "reconstruction.shape = torch.Size([32, 1, 28, 28])\n",
            "reconstruction.shape = torch.Size([32, 1, 28, 28])\n",
            "reconstruction.shape = torch.Size([32, 1, 28, 28])\n",
            "reconstruction.shape = torch.Size([32, 1, 28, 28])\n",
            "reconstruction.shape = torch.Size([32, 1, 28, 28])\n",
            "reconstruction.shape = torch.Size([32, 1, 28, 28])\n",
            "reconstruction.shape = torch.Size([32, 1, 28, 28])\n",
            "reconstruction.shape = torch.Size([32, 1, 28, 28])\n",
            "reconstruction.shape = torch.Size([32, 1, 28, 28])\n",
            "reconstruction.shape = torch.Size([32, 1, 28, 28])\n",
            "reconstruction.shape = torch.Size([32, 1, 28, 28])\n",
            "reconstruction.shape = torch.Size([32, 1, 28, 28])\n",
            "reconstruction.shape = torch.Size([32, 1, 28, 28])\n",
            "reconstruction.shape = torch.Size([32, 1, 28, 28])\n",
            "reconstruction.shape = torch.Size([32, 1, 28, 28])\n",
            "reconstruction.shape = torch.Size([32, 1, 28, 28])\n",
            "reconstruction.shape = torch.Size([32, 1, 28, 28])\n",
            "reconstruction.shape = torch.Size([32, 1, 28, 28])\n",
            "reconstruction.shape = torch.Size([32, 1, 28, 28])\n",
            "reconstruction.shape = torch.Size([32, 1, 28, 28])\n",
            "reconstruction.shape = torch.Size([32, 1, 28, 28])\n",
            "reconstruction.shape = torch.Size([32, 1, 28, 28])\n",
            "reconstruction.shape = torch.Size([32, 1, 28, 28])\n",
            "reconstruction.shape = torch.Size([32, 1, 28, 28])\n",
            "reconstruction.shape = torch.Size([32, 1, 28, 28])\n",
            "reconstruction.shape = torch.Size([32, 1, 28, 28])\n",
            "reconstruction.shape = torch.Size([32, 1, 28, 28])\n",
            "reconstruction.shape = torch.Size([32, 1, 28, 28])\n",
            "reconstruction.shape = torch.Size([32, 1, 28, 28])\n",
            "reconstruction.shape = torch.Size([32, 1, 28, 28])\n",
            "reconstruction.shape = torch.Size([32, 1, 28, 28])\n",
            "reconstruction.shape = torch.Size([32, 1, 28, 28])\n",
            "reconstruction.shape = torch.Size([32, 1, 28, 28])\n",
            "reconstruction.shape = torch.Size([32, 1, 28, 28])\n",
            "reconstruction.shape = torch.Size([32, 1, 28, 28])\n",
            "reconstruction.shape = torch.Size([32, 1, 28, 28])\n",
            "reconstruction.shape = torch.Size([32, 1, 28, 28])\n",
            "reconstruction.shape = torch.Size([32, 1, 28, 28])\n",
            "reconstruction.shape = torch.Size([32, 1, 28, 28])\n",
            "reconstruction.shape = torch.Size([32, 1, 28, 28])\n",
            "reconstruction.shape = torch.Size([32, 1, 28, 28])\n",
            "reconstruction.shape = torch.Size([32, 1, 28, 28])\n",
            "reconstruction.shape = torch.Size([32, 1, 28, 28])\n",
            "reconstruction.shape = torch.Size([32, 1, 28, 28])\n",
            "reconstruction.shape = torch.Size([32, 1, 28, 28])\n",
            "reconstruction.shape = torch.Size([32, 1, 28, 28])\n",
            "reconstruction.shape = torch.Size([32, 1, 28, 28])\n",
            "reconstruction.shape = torch.Size([32, 1, 28, 28])\n",
            "reconstruction.shape = torch.Size([32, 1, 28, 28])\n",
            "reconstruction.shape = torch.Size([32, 1, 28, 28])\n",
            "reconstruction.shape = torch.Size([32, 1, 28, 28])\n",
            "reconstruction.shape = torch.Size([32, 1, 28, 28])\n",
            "reconstruction.shape = torch.Size([32, 1, 28, 28])\n",
            "reconstruction.shape = torch.Size([32, 1, 28, 28])\n",
            "reconstruction.shape = torch.Size([32, 1, 28, 28])\n",
            "reconstruction.shape = torch.Size([32, 1, 28, 28])\n",
            "reconstruction.shape = torch.Size([32, 1, 28, 28])\n",
            "reconstruction.shape = torch.Size([32, 1, 28, 28])\n",
            "reconstruction.shape = torch.Size([32, 1, 28, 28])\n",
            "reconstruction.shape = torch.Size([32, 1, 28, 28])\n",
            "reconstruction.shape = torch.Size([32, 1, 28, 28])\n",
            "reconstruction.shape = torch.Size([32, 1, 28, 28])\n",
            "reconstruction.shape = torch.Size([32, 1, 28, 28])\n",
            "reconstruction.shape = torch.Size([32, 1, 28, 28])\n",
            "reconstruction.shape = torch.Size([32, 1, 28, 28])\n",
            "reconstruction.shape = torch.Size([32, 1, 28, 28])\n",
            "reconstruction.shape = torch.Size([32, 1, 28, 28])\n",
            "reconstruction.shape = torch.Size([32, 1, 28, 28])\n",
            "reconstruction.shape = torch.Size([32, 1, 28, 28])\n",
            "reconstruction.shape = torch.Size([32, 1, 28, 28])\n",
            "reconstruction.shape = torch.Size([32, 1, 28, 28])\n",
            "reconstruction.shape = torch.Size([32, 1, 28, 28])\n",
            "reconstruction.shape = torch.Size([32, 1, 28, 28])\n",
            "reconstruction.shape = torch.Size([32, 1, 28, 28])\n",
            "reconstruction.shape = torch.Size([32, 1, 28, 28])\n",
            "reconstruction.shape = torch.Size([32, 1, 28, 28])\n",
            "reconstruction.shape = torch.Size([32, 1, 28, 28])\n",
            "reconstruction.shape = torch.Size([32, 1, 28, 28])\n",
            "reconstruction.shape = torch.Size([32, 1, 28, 28])\n",
            "reconstruction.shape = torch.Size([32, 1, 28, 28])\n",
            "reconstruction.shape = torch.Size([32, 1, 28, 28])\n",
            "reconstruction.shape = torch.Size([32, 1, 28, 28])\n",
            "reconstruction.shape = torch.Size([32, 1, 28, 28])\n",
            "reconstruction.shape = torch.Size([32, 1, 28, 28])\n",
            "reconstruction.shape = torch.Size([32, 1, 28, 28])\n",
            "reconstruction.shape = torch.Size([32, 1, 28, 28])\n",
            "reconstruction.shape = torch.Size([32, 1, 28, 28])\n",
            "reconstruction.shape = torch.Size([32, 1, 28, 28])\n",
            "reconstruction.shape = torch.Size([32, 1, 28, 28])\n",
            "reconstruction.shape = torch.Size([32, 1, 28, 28])\n",
            "reconstruction.shape = torch.Size([32, 1, 28, 28])\n",
            "reconstruction.shape = torch.Size([32, 1, 28, 28])\n",
            "reconstruction.shape = torch.Size([32, 1, 28, 28])\n",
            "reconstruction.shape = torch.Size([32, 1, 28, 28])\n",
            "reconstruction.shape = torch.Size([32, 1, 28, 28])\n",
            "reconstruction.shape = torch.Size([32, 1, 28, 28])\n",
            "reconstruction.shape = torch.Size([32, 1, 28, 28])\n",
            "reconstruction.shape = torch.Size([32, 1, 28, 28])\n",
            "reconstruction.shape = torch.Size([32, 1, 28, 28])\n",
            "reconstruction.shape = torch.Size([32, 1, 28, 28])\n",
            "reconstruction.shape = torch.Size([32, 1, 28, 28])\n",
            "reconstruction.shape = torch.Size([32, 1, 28, 28])\n",
            "reconstruction.shape = torch.Size([32, 1, 28, 28])\n",
            "reconstruction.shape = torch.Size([32, 1, 28, 28])\n",
            "reconstruction.shape = torch.Size([32, 1, 28, 28])\n",
            "reconstruction.shape = torch.Size([32, 1, 28, 28])\n",
            "reconstruction.shape = torch.Size([32, 1, 28, 28])\n",
            "reconstruction.shape = torch.Size([32, 1, 28, 28])\n",
            "reconstruction.shape = torch.Size([32, 1, 28, 28])\n",
            "reconstruction.shape = torch.Size([32, 1, 28, 28])\n",
            "reconstruction.shape = torch.Size([32, 1, 28, 28])\n",
            "reconstruction.shape = torch.Size([32, 1, 28, 28])\n",
            "reconstruction.shape = torch.Size([32, 1, 28, 28])\n",
            "reconstruction.shape = torch.Size([32, 1, 28, 28])\n",
            "reconstruction.shape = torch.Size([32, 1, 28, 28])\n",
            "reconstruction.shape = torch.Size([32, 1, 28, 28])\n",
            "reconstruction.shape = torch.Size([32, 1, 28, 28])\n",
            "reconstruction.shape = torch.Size([32, 1, 28, 28])\n",
            "reconstruction.shape = torch.Size([32, 1, 28, 28])\n",
            "reconstruction.shape = torch.Size([32, 1, 28, 28])\n",
            "reconstruction.shape = torch.Size([32, 1, 28, 28])\n",
            "reconstruction.shape = torch.Size([32, 1, 28, 28])\n",
            "reconstruction.shape = torch.Size([32, 1, 28, 28])\n",
            "reconstruction.shape = torch.Size([32, 1, 28, 28])\n",
            "reconstruction.shape = torch.Size([32, 1, 28, 28])\n",
            "reconstruction.shape = torch.Size([32, 1, 28, 28])\n",
            "reconstruction.shape = torch.Size([32, 1, 28, 28])\n",
            "reconstruction.shape = torch.Size([32, 1, 28, 28])\n",
            "reconstruction.shape = torch.Size([32, 1, 28, 28])\n",
            "reconstruction.shape = torch.Size([32, 1, 28, 28])\n",
            "reconstruction.shape = torch.Size([32, 1, 28, 28])\n",
            "reconstruction.shape = torch.Size([32, 1, 28, 28])\n",
            "reconstruction.shape = torch.Size([32, 1, 28, 28])\n",
            "reconstruction.shape = torch.Size([32, 1, 28, 28])\n",
            "reconstruction.shape = torch.Size([32, 1, 28, 28])\n",
            "reconstruction.shape = torch.Size([32, 1, 28, 28])\n",
            "reconstruction.shape = torch.Size([32, 1, 28, 28])\n",
            "reconstruction.shape = torch.Size([32, 1, 28, 28])\n",
            "reconstruction.shape = torch.Size([32, 1, 28, 28])\n",
            "reconstruction.shape = torch.Size([32, 1, 28, 28])\n",
            "reconstruction.shape = torch.Size([32, 1, 28, 28])\n",
            "reconstruction.shape = torch.Size([32, 1, 28, 28])\n",
            "reconstruction.shape = torch.Size([32, 1, 28, 28])\n",
            "reconstruction.shape = torch.Size([32, 1, 28, 28])\n",
            "reconstruction.shape = torch.Size([32, 1, 28, 28])\n",
            "reconstruction.shape = torch.Size([32, 1, 28, 28])\n",
            "reconstruction.shape = torch.Size([32, 1, 28, 28])\n",
            "reconstruction.shape = torch.Size([32, 1, 28, 28])\n",
            "reconstruction.shape = torch.Size([32, 1, 28, 28])\n",
            "reconstruction.shape = torch.Size([32, 1, 28, 28])\n",
            "reconstruction.shape = torch.Size([32, 1, 28, 28])\n",
            "reconstruction.shape = torch.Size([32, 1, 28, 28])\n",
            "reconstruction.shape = torch.Size([32, 1, 28, 28])\n",
            "reconstruction.shape = torch.Size([32, 1, 28, 28])\n",
            "reconstruction.shape = torch.Size([32, 1, 28, 28])\n",
            "reconstruction.shape = torch.Size([32, 1, 28, 28])\n",
            "reconstruction.shape = torch.Size([32, 1, 28, 28])\n",
            "reconstruction.shape = torch.Size([32, 1, 28, 28])\n",
            "reconstruction.shape = torch.Size([32, 1, 28, 28])\n",
            "reconstruction.shape = torch.Size([32, 1, 28, 28])\n",
            "reconstruction.shape = torch.Size([32, 1, 28, 28])\n",
            "reconstruction.shape = torch.Size([32, 1, 28, 28])\n",
            "reconstruction.shape = torch.Size([32, 1, 28, 28])\n",
            "reconstruction.shape = torch.Size([32, 1, 28, 28])\n",
            "reconstruction.shape = torch.Size([32, 1, 28, 28])\n",
            "reconstruction.shape = torch.Size([32, 1, 28, 28])\n",
            "reconstruction.shape = torch.Size([32, 1, 28, 28])\n",
            "reconstruction.shape = torch.Size([32, 1, 28, 28])\n",
            "reconstruction.shape = torch.Size([32, 1, 28, 28])\n",
            "reconstruction.shape = torch.Size([32, 1, 28, 28])\n",
            "reconstruction.shape = torch.Size([32, 1, 28, 28])\n",
            "reconstruction.shape = torch.Size([32, 1, 28, 28])\n",
            "reconstruction.shape = torch.Size([32, 1, 28, 28])\n",
            "reconstruction.shape = torch.Size([32, 1, 28, 28])\n",
            "reconstruction.shape = torch.Size([32, 1, 28, 28])\n",
            "reconstruction.shape = torch.Size([32, 1, 28, 28])\n",
            "reconstruction.shape = torch.Size([32, 1, 28, 28])\n",
            "reconstruction.shape = torch.Size([32, 1, 28, 28])\n",
            "reconstruction.shape = torch.Size([32, 1, 28, 28])\n",
            "reconstruction.shape = torch.Size([32, 1, 28, 28])\n",
            "reconstruction.shape = torch.Size([32, 1, 28, 28])\n",
            "reconstruction.shape = torch.Size([32, 1, 28, 28])\n",
            "reconstruction.shape = torch.Size([32, 1, 28, 28])\n",
            "reconstruction.shape = torch.Size([32, 1, 28, 28])\n",
            "reconstruction.shape = torch.Size([32, 1, 28, 28])\n",
            "reconstruction.shape = torch.Size([32, 1, 28, 28])\n",
            "reconstruction.shape = torch.Size([32, 1, 28, 28])\n",
            "reconstruction.shape = torch.Size([32, 1, 28, 28])\n",
            "reconstruction.shape = torch.Size([32, 1, 28, 28])\n",
            "reconstruction.shape = torch.Size([32, 1, 28, 28])\n",
            "reconstruction.shape = torch.Size([32, 1, 28, 28])\n",
            "reconstruction.shape = torch.Size([32, 1, 28, 28])\n",
            "reconstruction.shape = torch.Size([32, 1, 28, 28])\n",
            "reconstruction.shape = torch.Size([32, 1, 28, 28])\n",
            "reconstruction.shape = torch.Size([32, 1, 28, 28])\n",
            "reconstruction.shape = torch.Size([32, 1, 28, 28])\n",
            "reconstruction.shape = torch.Size([32, 1, 28, 28])\n",
            "reconstruction.shape = torch.Size([32, 1, 28, 28])\n",
            "reconstruction.shape = torch.Size([32, 1, 28, 28])\n",
            "reconstruction.shape = torch.Size([32, 1, 28, 28])\n",
            "reconstruction.shape = torch.Size([32, 1, 28, 28])\n",
            "reconstruction.shape = torch.Size([32, 1, 28, 28])\n",
            "reconstruction.shape = torch.Size([32, 1, 28, 28])\n",
            "reconstruction.shape = torch.Size([32, 1, 28, 28])\n",
            "reconstruction.shape = torch.Size([32, 1, 28, 28])\n",
            "reconstruction.shape = torch.Size([32, 1, 28, 28])\n",
            "reconstruction.shape = torch.Size([32, 1, 28, 28])\n",
            "reconstruction.shape = torch.Size([32, 1, 28, 28])\n",
            "reconstruction.shape = torch.Size([32, 1, 28, 28])\n",
            "reconstruction.shape = torch.Size([32, 1, 28, 28])\n",
            "reconstruction.shape = torch.Size([32, 1, 28, 28])\n",
            "reconstruction.shape = torch.Size([32, 1, 28, 28])\n",
            "reconstruction.shape = torch.Size([32, 1, 28, 28])\n",
            "reconstruction.shape = torch.Size([32, 1, 28, 28])\n",
            "reconstruction.shape = torch.Size([32, 1, 28, 28])\n",
            "reconstruction.shape = torch.Size([32, 1, 28, 28])\n",
            "reconstruction.shape = torch.Size([32, 1, 28, 28])\n",
            "reconstruction.shape = torch.Size([32, 1, 28, 28])\n",
            "reconstruction.shape = torch.Size([32, 1, 28, 28])\n",
            "reconstruction.shape = torch.Size([32, 1, 28, 28])\n",
            "reconstruction.shape = torch.Size([32, 1, 28, 28])\n",
            "reconstruction.shape = torch.Size([32, 1, 28, 28])\n",
            "reconstruction.shape = torch.Size([32, 1, 28, 28])\n",
            "reconstruction.shape = torch.Size([32, 1, 28, 28])\n",
            "reconstruction.shape = torch.Size([32, 1, 28, 28])\n",
            "reconstruction.shape = torch.Size([32, 1, 28, 28])\n",
            "reconstruction.shape = torch.Size([32, 1, 28, 28])\n",
            "reconstruction.shape = torch.Size([32, 1, 28, 28])\n",
            "reconstruction.shape = torch.Size([32, 1, 28, 28])\n",
            "reconstruction.shape = torch.Size([32, 1, 28, 28])\n",
            "reconstruction.shape = torch.Size([32, 1, 28, 28])\n",
            "reconstruction.shape = torch.Size([32, 1, 28, 28])\n",
            "reconstruction.shape = torch.Size([32, 1, 28, 28])\n",
            "reconstruction.shape = torch.Size([32, 1, 28, 28])\n",
            "reconstruction.shape = torch.Size([32, 1, 28, 28])\n",
            "reconstruction.shape = torch.Size([32, 1, 28, 28])\n",
            "reconstruction.shape = torch.Size([32, 1, 28, 28])\n",
            "reconstruction.shape = torch.Size([32, 1, 28, 28])\n",
            "reconstruction.shape = torch.Size([32, 1, 28, 28])\n",
            "reconstruction.shape = torch.Size([32, 1, 28, 28])\n",
            "reconstruction.shape = torch.Size([32, 1, 28, 28])\n",
            "reconstruction.shape = torch.Size([32, 1, 28, 28])\n",
            "reconstruction.shape = torch.Size([32, 1, 28, 28])\n",
            "reconstruction.shape = torch.Size([32, 1, 28, 28])\n",
            "reconstruction.shape = torch.Size([32, 1, 28, 28])\n",
            "reconstruction.shape = torch.Size([32, 1, 28, 28])\n",
            "reconstruction.shape = torch.Size([32, 1, 28, 28])\n",
            "reconstruction.shape = torch.Size([32, 1, 28, 28])\n",
            "reconstruction.shape = torch.Size([32, 1, 28, 28])\n",
            "reconstruction.shape = torch.Size([32, 1, 28, 28])\n",
            "reconstruction.shape = torch.Size([32, 1, 28, 28])\n",
            "reconstruction.shape = torch.Size([32, 1, 28, 28])\n",
            "reconstruction.shape = torch.Size([32, 1, 28, 28])\n",
            "reconstruction.shape = torch.Size([32, 1, 28, 28])\n",
            "reconstruction.shape = torch.Size([32, 1, 28, 28])\n",
            "reconstruction.shape = torch.Size([32, 1, 28, 28])\n",
            "reconstruction.shape = torch.Size([32, 1, 28, 28])\n",
            "reconstruction.shape = torch.Size([32, 1, 28, 28])\n",
            "reconstruction.shape = torch.Size([32, 1, 28, 28])\n",
            "reconstruction.shape = torch.Size([32, 1, 28, 28])\n",
            "reconstruction.shape = torch.Size([32, 1, 28, 28])\n",
            "reconstruction.shape = torch.Size([32, 1, 28, 28])\n",
            "reconstruction.shape = torch.Size([32, 1, 28, 28])\n",
            "reconstruction.shape = torch.Size([32, 1, 28, 28])\n",
            "reconstruction.shape = torch.Size([32, 1, 28, 28])\n",
            "reconstruction.shape = torch.Size([32, 1, 28, 28])\n",
            "reconstruction.shape = torch.Size([32, 1, 28, 28])\n",
            "reconstruction.shape = torch.Size([32, 1, 28, 28])\n",
            "reconstruction.shape = torch.Size([32, 1, 28, 28])\n",
            "reconstruction.shape = torch.Size([32, 1, 28, 28])\n",
            "reconstruction.shape = torch.Size([32, 1, 28, 28])\n",
            "reconstruction.shape = torch.Size([32, 1, 28, 28])\n",
            "reconstruction.shape = torch.Size([32, 1, 28, 28])\n",
            "reconstruction.shape = torch.Size([32, 1, 28, 28])\n",
            "reconstruction.shape = torch.Size([32, 1, 28, 28])\n",
            "reconstruction.shape = torch.Size([32, 1, 28, 28])\n",
            "reconstruction.shape = torch.Size([32, 1, 28, 28])\n",
            "reconstruction.shape = torch.Size([32, 1, 28, 28])\n",
            "reconstruction.shape = torch.Size([32, 1, 28, 28])\n",
            "reconstruction.shape = torch.Size([32, 1, 28, 28])\n",
            "reconstruction.shape = torch.Size([32, 1, 28, 28])\n",
            "reconstruction.shape = torch.Size([16, 1, 28, 28])\n"
          ],
          "name": "stdout"
        },
        {
          "output_type": "stream",
          "text": [
            "\r  0%|          | 0/50 [00:02<?, ?it/s]\n"
          ],
          "name": "stderr"
        },
        {
          "output_type": "error",
          "ename": "KeyboardInterrupt",
          "evalue": "ignored",
          "traceback": [
            "\u001b[0;31m---------------------------------------------------------------------------\u001b[0m",
            "\u001b[0;31mKeyboardInterrupt\u001b[0m                         Traceback (most recent call last)",
            "\u001b[0;32m<ipython-input-23-1b47210a233b>\u001b[0m in \u001b[0;36m<module>\u001b[0;34m()\u001b[0m\n\u001b[0;32m----> 1\u001b[0;31m \u001b[0mtrain_losses\u001b[0m\u001b[0;34m,\u001b[0m \u001b[0mval_losses\u001b[0m \u001b[0;34m=\u001b[0m \u001b[0mtrain\u001b[0m\u001b[0;34m(\u001b[0m\u001b[0mautoencoder\u001b[0m\u001b[0;34m,\u001b[0m \u001b[0moptimizer\u001b[0m\u001b[0;34m,\u001b[0m \u001b[0mcriterion\u001b[0m\u001b[0;34m,\u001b[0m \u001b[0mtest_loader\u001b[0m\u001b[0;34m,\u001b[0m \u001b[0mn_epochs\u001b[0m\u001b[0;34m=\u001b[0m\u001b[0;36m50\u001b[0m\u001b[0;34m)\u001b[0m\u001b[0;34m\u001b[0m\u001b[0;34m\u001b[0m\u001b[0m\n\u001b[0m",
            "\u001b[0;32m<ipython-input-18-884356d57561>\u001b[0m in \u001b[0;36mtrain\u001b[0;34m(model, optimizer, criterion, val_loader, n_epochs)\u001b[0m\n\u001b[1;32m     20\u001b[0m         \u001b[0mval_losses_per_epoch\u001b[0m \u001b[0;34m=\u001b[0m \u001b[0;34m[\u001b[0m\u001b[0;34m]\u001b[0m\u001b[0;34m\u001b[0m\u001b[0;34m\u001b[0m\u001b[0m\n\u001b[1;32m     21\u001b[0m         \u001b[0;32mwith\u001b[0m \u001b[0mtorch\u001b[0m\u001b[0;34m.\u001b[0m\u001b[0mno_grad\u001b[0m\u001b[0;34m(\u001b[0m\u001b[0;34m)\u001b[0m\u001b[0;34m:\u001b[0m\u001b[0;34m\u001b[0m\u001b[0;34m\u001b[0m\u001b[0m\n\u001b[0;32m---> 22\u001b[0;31m             \u001b[0;32mfor\u001b[0m \u001b[0mX_batch\u001b[0m\u001b[0;34m,\u001b[0m \u001b[0m_\u001b[0m \u001b[0;32min\u001b[0m \u001b[0mval_loader\u001b[0m\u001b[0;34m:\u001b[0m\u001b[0;34m\u001b[0m\u001b[0;34m\u001b[0m\u001b[0m\n\u001b[0m\u001b[1;32m     23\u001b[0m               \u001b[0mmu\u001b[0m\u001b[0;34m,\u001b[0m \u001b[0mlogsigma\u001b[0m\u001b[0;34m,\u001b[0m \u001b[0mreconstruction\u001b[0m \u001b[0;34m=\u001b[0m \u001b[0mmodel\u001b[0m\u001b[0;34m(\u001b[0m\u001b[0mX_batch\u001b[0m\u001b[0;34m.\u001b[0m\u001b[0mto\u001b[0m\u001b[0;34m(\u001b[0m\u001b[0mdevice\u001b[0m\u001b[0;34m)\u001b[0m\u001b[0;34m)\u001b[0m\u001b[0;34m\u001b[0m\u001b[0;34m\u001b[0m\u001b[0m\n\u001b[1;32m     24\u001b[0m               \u001b[0mloss\u001b[0m \u001b[0;34m=\u001b[0m \u001b[0mcriterion\u001b[0m\u001b[0;34m(\u001b[0m\u001b[0mX_batch\u001b[0m\u001b[0;34m.\u001b[0m\u001b[0mto\u001b[0m\u001b[0;34m(\u001b[0m\u001b[0mdevice\u001b[0m\u001b[0;34m)\u001b[0m\u001b[0;34m.\u001b[0m\u001b[0mfloat\u001b[0m\u001b[0;34m(\u001b[0m\u001b[0;34m)\u001b[0m\u001b[0;34m,\u001b[0m \u001b[0mmu\u001b[0m\u001b[0;34m,\u001b[0m \u001b[0mlogsigma\u001b[0m\u001b[0;34m,\u001b[0m \u001b[0mreconstruction\u001b[0m\u001b[0;34m)\u001b[0m\u001b[0;34m\u001b[0m\u001b[0;34m\u001b[0m\u001b[0m\n",
            "\u001b[0;32m/usr/local/lib/python3.7/dist-packages/torch/utils/data/dataloader.py\u001b[0m in \u001b[0;36m__next__\u001b[0;34m(self)\u001b[0m\n\u001b[1;32m    515\u001b[0m             \u001b[0;32mif\u001b[0m \u001b[0mself\u001b[0m\u001b[0;34m.\u001b[0m\u001b[0m_sampler_iter\u001b[0m \u001b[0;32mis\u001b[0m \u001b[0;32mNone\u001b[0m\u001b[0;34m:\u001b[0m\u001b[0;34m\u001b[0m\u001b[0;34m\u001b[0m\u001b[0m\n\u001b[1;32m    516\u001b[0m                 \u001b[0mself\u001b[0m\u001b[0;34m.\u001b[0m\u001b[0m_reset\u001b[0m\u001b[0;34m(\u001b[0m\u001b[0;34m)\u001b[0m\u001b[0;34m\u001b[0m\u001b[0;34m\u001b[0m\u001b[0m\n\u001b[0;32m--> 517\u001b[0;31m             \u001b[0mdata\u001b[0m \u001b[0;34m=\u001b[0m \u001b[0mself\u001b[0m\u001b[0;34m.\u001b[0m\u001b[0m_next_data\u001b[0m\u001b[0;34m(\u001b[0m\u001b[0;34m)\u001b[0m\u001b[0;34m\u001b[0m\u001b[0;34m\u001b[0m\u001b[0m\n\u001b[0m\u001b[1;32m    518\u001b[0m             \u001b[0mself\u001b[0m\u001b[0;34m.\u001b[0m\u001b[0m_num_yielded\u001b[0m \u001b[0;34m+=\u001b[0m \u001b[0;36m1\u001b[0m\u001b[0;34m\u001b[0m\u001b[0;34m\u001b[0m\u001b[0m\n\u001b[1;32m    519\u001b[0m             \u001b[0;32mif\u001b[0m \u001b[0mself\u001b[0m\u001b[0;34m.\u001b[0m\u001b[0m_dataset_kind\u001b[0m \u001b[0;34m==\u001b[0m \u001b[0m_DatasetKind\u001b[0m\u001b[0;34m.\u001b[0m\u001b[0mIterable\u001b[0m \u001b[0;32mand\u001b[0m\u001b[0;31m \u001b[0m\u001b[0;31m\\\u001b[0m\u001b[0;34m\u001b[0m\u001b[0;34m\u001b[0m\u001b[0m\n",
            "\u001b[0;32m/usr/local/lib/python3.7/dist-packages/torch/utils/data/dataloader.py\u001b[0m in \u001b[0;36m_next_data\u001b[0;34m(self)\u001b[0m\n\u001b[1;32m    555\u001b[0m     \u001b[0;32mdef\u001b[0m \u001b[0m_next_data\u001b[0m\u001b[0;34m(\u001b[0m\u001b[0mself\u001b[0m\u001b[0;34m)\u001b[0m\u001b[0;34m:\u001b[0m\u001b[0;34m\u001b[0m\u001b[0;34m\u001b[0m\u001b[0m\n\u001b[1;32m    556\u001b[0m         \u001b[0mindex\u001b[0m \u001b[0;34m=\u001b[0m \u001b[0mself\u001b[0m\u001b[0;34m.\u001b[0m\u001b[0m_next_index\u001b[0m\u001b[0;34m(\u001b[0m\u001b[0;34m)\u001b[0m  \u001b[0;31m# may raise StopIteration\u001b[0m\u001b[0;34m\u001b[0m\u001b[0;34m\u001b[0m\u001b[0m\n\u001b[0;32m--> 557\u001b[0;31m         \u001b[0mdata\u001b[0m \u001b[0;34m=\u001b[0m \u001b[0mself\u001b[0m\u001b[0;34m.\u001b[0m\u001b[0m_dataset_fetcher\u001b[0m\u001b[0;34m.\u001b[0m\u001b[0mfetch\u001b[0m\u001b[0;34m(\u001b[0m\u001b[0mindex\u001b[0m\u001b[0;34m)\u001b[0m  \u001b[0;31m# may raise StopIteration\u001b[0m\u001b[0;34m\u001b[0m\u001b[0;34m\u001b[0m\u001b[0m\n\u001b[0m\u001b[1;32m    558\u001b[0m         \u001b[0;32mif\u001b[0m \u001b[0mself\u001b[0m\u001b[0;34m.\u001b[0m\u001b[0m_pin_memory\u001b[0m\u001b[0;34m:\u001b[0m\u001b[0;34m\u001b[0m\u001b[0;34m\u001b[0m\u001b[0m\n\u001b[1;32m    559\u001b[0m             \u001b[0mdata\u001b[0m \u001b[0;34m=\u001b[0m \u001b[0m_utils\u001b[0m\u001b[0;34m.\u001b[0m\u001b[0mpin_memory\u001b[0m\u001b[0;34m.\u001b[0m\u001b[0mpin_memory\u001b[0m\u001b[0;34m(\u001b[0m\u001b[0mdata\u001b[0m\u001b[0;34m)\u001b[0m\u001b[0;34m\u001b[0m\u001b[0;34m\u001b[0m\u001b[0m\n",
            "\u001b[0;32m/usr/local/lib/python3.7/dist-packages/torch/utils/data/_utils/fetch.py\u001b[0m in \u001b[0;36mfetch\u001b[0;34m(self, possibly_batched_index)\u001b[0m\n\u001b[1;32m     42\u001b[0m     \u001b[0;32mdef\u001b[0m \u001b[0mfetch\u001b[0m\u001b[0;34m(\u001b[0m\u001b[0mself\u001b[0m\u001b[0;34m,\u001b[0m \u001b[0mpossibly_batched_index\u001b[0m\u001b[0;34m)\u001b[0m\u001b[0;34m:\u001b[0m\u001b[0;34m\u001b[0m\u001b[0;34m\u001b[0m\u001b[0m\n\u001b[1;32m     43\u001b[0m         \u001b[0;32mif\u001b[0m \u001b[0mself\u001b[0m\u001b[0;34m.\u001b[0m\u001b[0mauto_collation\u001b[0m\u001b[0;34m:\u001b[0m\u001b[0;34m\u001b[0m\u001b[0;34m\u001b[0m\u001b[0m\n\u001b[0;32m---> 44\u001b[0;31m             \u001b[0mdata\u001b[0m \u001b[0;34m=\u001b[0m \u001b[0;34m[\u001b[0m\u001b[0mself\u001b[0m\u001b[0;34m.\u001b[0m\u001b[0mdataset\u001b[0m\u001b[0;34m[\u001b[0m\u001b[0midx\u001b[0m\u001b[0;34m]\u001b[0m \u001b[0;32mfor\u001b[0m \u001b[0midx\u001b[0m \u001b[0;32min\u001b[0m \u001b[0mpossibly_batched_index\u001b[0m\u001b[0;34m]\u001b[0m\u001b[0;34m\u001b[0m\u001b[0;34m\u001b[0m\u001b[0m\n\u001b[0m\u001b[1;32m     45\u001b[0m         \u001b[0;32melse\u001b[0m\u001b[0;34m:\u001b[0m\u001b[0;34m\u001b[0m\u001b[0;34m\u001b[0m\u001b[0m\n\u001b[1;32m     46\u001b[0m             \u001b[0mdata\u001b[0m \u001b[0;34m=\u001b[0m \u001b[0mself\u001b[0m\u001b[0;34m.\u001b[0m\u001b[0mdataset\u001b[0m\u001b[0;34m[\u001b[0m\u001b[0mpossibly_batched_index\u001b[0m\u001b[0;34m]\u001b[0m\u001b[0;34m\u001b[0m\u001b[0;34m\u001b[0m\u001b[0m\n",
            "\u001b[0;32m/usr/local/lib/python3.7/dist-packages/torch/utils/data/_utils/fetch.py\u001b[0m in \u001b[0;36m<listcomp>\u001b[0;34m(.0)\u001b[0m\n\u001b[1;32m     42\u001b[0m     \u001b[0;32mdef\u001b[0m \u001b[0mfetch\u001b[0m\u001b[0;34m(\u001b[0m\u001b[0mself\u001b[0m\u001b[0;34m,\u001b[0m \u001b[0mpossibly_batched_index\u001b[0m\u001b[0;34m)\u001b[0m\u001b[0;34m:\u001b[0m\u001b[0;34m\u001b[0m\u001b[0;34m\u001b[0m\u001b[0m\n\u001b[1;32m     43\u001b[0m         \u001b[0;32mif\u001b[0m \u001b[0mself\u001b[0m\u001b[0;34m.\u001b[0m\u001b[0mauto_collation\u001b[0m\u001b[0;34m:\u001b[0m\u001b[0;34m\u001b[0m\u001b[0;34m\u001b[0m\u001b[0m\n\u001b[0;32m---> 44\u001b[0;31m             \u001b[0mdata\u001b[0m \u001b[0;34m=\u001b[0m \u001b[0;34m[\u001b[0m\u001b[0mself\u001b[0m\u001b[0;34m.\u001b[0m\u001b[0mdataset\u001b[0m\u001b[0;34m[\u001b[0m\u001b[0midx\u001b[0m\u001b[0;34m]\u001b[0m \u001b[0;32mfor\u001b[0m \u001b[0midx\u001b[0m \u001b[0;32min\u001b[0m \u001b[0mpossibly_batched_index\u001b[0m\u001b[0;34m]\u001b[0m\u001b[0;34m\u001b[0m\u001b[0;34m\u001b[0m\u001b[0m\n\u001b[0m\u001b[1;32m     45\u001b[0m         \u001b[0;32melse\u001b[0m\u001b[0;34m:\u001b[0m\u001b[0;34m\u001b[0m\u001b[0;34m\u001b[0m\u001b[0m\n\u001b[1;32m     46\u001b[0m             \u001b[0mdata\u001b[0m \u001b[0;34m=\u001b[0m \u001b[0mself\u001b[0m\u001b[0;34m.\u001b[0m\u001b[0mdataset\u001b[0m\u001b[0;34m[\u001b[0m\u001b[0mpossibly_batched_index\u001b[0m\u001b[0;34m]\u001b[0m\u001b[0;34m\u001b[0m\u001b[0;34m\u001b[0m\u001b[0m\n",
            "\u001b[0;32m/usr/local/lib/python3.7/dist-packages/torchvision/datasets/mnist.py\u001b[0m in \u001b[0;36m__getitem__\u001b[0;34m(self, index)\u001b[0m\n\u001b[1;32m    110\u001b[0m \u001b[0;34m\u001b[0m\u001b[0m\n\u001b[1;32m    111\u001b[0m         \u001b[0;32mif\u001b[0m \u001b[0mself\u001b[0m\u001b[0;34m.\u001b[0m\u001b[0mtransform\u001b[0m \u001b[0;32mis\u001b[0m \u001b[0;32mnot\u001b[0m \u001b[0;32mNone\u001b[0m\u001b[0;34m:\u001b[0m\u001b[0;34m\u001b[0m\u001b[0;34m\u001b[0m\u001b[0m\n\u001b[0;32m--> 112\u001b[0;31m             \u001b[0mimg\u001b[0m \u001b[0;34m=\u001b[0m \u001b[0mself\u001b[0m\u001b[0;34m.\u001b[0m\u001b[0mtransform\u001b[0m\u001b[0;34m(\u001b[0m\u001b[0mimg\u001b[0m\u001b[0;34m)\u001b[0m\u001b[0;34m\u001b[0m\u001b[0;34m\u001b[0m\u001b[0m\n\u001b[0m\u001b[1;32m    113\u001b[0m \u001b[0;34m\u001b[0m\u001b[0m\n\u001b[1;32m    114\u001b[0m         \u001b[0;32mif\u001b[0m \u001b[0mself\u001b[0m\u001b[0;34m.\u001b[0m\u001b[0mtarget_transform\u001b[0m \u001b[0;32mis\u001b[0m \u001b[0;32mnot\u001b[0m \u001b[0;32mNone\u001b[0m\u001b[0;34m:\u001b[0m\u001b[0;34m\u001b[0m\u001b[0;34m\u001b[0m\u001b[0m\n",
            "\u001b[0;32m/usr/local/lib/python3.7/dist-packages/torchvision/transforms/transforms.py\u001b[0m in \u001b[0;36m__call__\u001b[0;34m(self, pic)\u001b[0m\n\u001b[1;32m     95\u001b[0m             \u001b[0mTensor\u001b[0m\u001b[0;34m:\u001b[0m \u001b[0mConverted\u001b[0m \u001b[0mimage\u001b[0m\u001b[0;34m.\u001b[0m\u001b[0;34m\u001b[0m\u001b[0;34m\u001b[0m\u001b[0m\n\u001b[1;32m     96\u001b[0m         \"\"\"\n\u001b[0;32m---> 97\u001b[0;31m         \u001b[0;32mreturn\u001b[0m \u001b[0mF\u001b[0m\u001b[0;34m.\u001b[0m\u001b[0mto_tensor\u001b[0m\u001b[0;34m(\u001b[0m\u001b[0mpic\u001b[0m\u001b[0;34m)\u001b[0m\u001b[0;34m\u001b[0m\u001b[0;34m\u001b[0m\u001b[0m\n\u001b[0m\u001b[1;32m     98\u001b[0m \u001b[0;34m\u001b[0m\u001b[0m\n\u001b[1;32m     99\u001b[0m     \u001b[0;32mdef\u001b[0m \u001b[0m__repr__\u001b[0m\u001b[0;34m(\u001b[0m\u001b[0mself\u001b[0m\u001b[0;34m)\u001b[0m\u001b[0;34m:\u001b[0m\u001b[0;34m\u001b[0m\u001b[0;34m\u001b[0m\u001b[0m\n",
            "\u001b[0;32m/usr/local/lib/python3.7/dist-packages/torchvision/transforms/functional.py\u001b[0m in \u001b[0;36mto_tensor\u001b[0;34m(pic)\u001b[0m\n\u001b[1;32m    140\u001b[0m     \u001b[0mimg\u001b[0m \u001b[0;34m=\u001b[0m \u001b[0mimg\u001b[0m\u001b[0;34m.\u001b[0m\u001b[0mpermute\u001b[0m\u001b[0;34m(\u001b[0m\u001b[0;34m(\u001b[0m\u001b[0;36m2\u001b[0m\u001b[0;34m,\u001b[0m \u001b[0;36m0\u001b[0m\u001b[0;34m,\u001b[0m \u001b[0;36m1\u001b[0m\u001b[0;34m)\u001b[0m\u001b[0;34m)\u001b[0m\u001b[0;34m.\u001b[0m\u001b[0mcontiguous\u001b[0m\u001b[0;34m(\u001b[0m\u001b[0;34m)\u001b[0m\u001b[0;34m\u001b[0m\u001b[0;34m\u001b[0m\u001b[0m\n\u001b[1;32m    141\u001b[0m     \u001b[0;32mif\u001b[0m \u001b[0misinstance\u001b[0m\u001b[0;34m(\u001b[0m\u001b[0mimg\u001b[0m\u001b[0;34m,\u001b[0m \u001b[0mtorch\u001b[0m\u001b[0;34m.\u001b[0m\u001b[0mByteTensor\u001b[0m\u001b[0;34m)\u001b[0m\u001b[0;34m:\u001b[0m\u001b[0;34m\u001b[0m\u001b[0;34m\u001b[0m\u001b[0m\n\u001b[0;32m--> 142\u001b[0;31m         \u001b[0;32mreturn\u001b[0m \u001b[0mimg\u001b[0m\u001b[0;34m.\u001b[0m\u001b[0mto\u001b[0m\u001b[0;34m(\u001b[0m\u001b[0mdtype\u001b[0m\u001b[0;34m=\u001b[0m\u001b[0mdefault_float_dtype\u001b[0m\u001b[0;34m)\u001b[0m\u001b[0;34m.\u001b[0m\u001b[0mdiv\u001b[0m\u001b[0;34m(\u001b[0m\u001b[0;36m255\u001b[0m\u001b[0;34m)\u001b[0m\u001b[0;34m\u001b[0m\u001b[0;34m\u001b[0m\u001b[0m\n\u001b[0m\u001b[1;32m    143\u001b[0m     \u001b[0;32melse\u001b[0m\u001b[0;34m:\u001b[0m\u001b[0;34m\u001b[0m\u001b[0;34m\u001b[0m\u001b[0m\n\u001b[1;32m    144\u001b[0m         \u001b[0;32mreturn\u001b[0m \u001b[0mimg\u001b[0m\u001b[0;34m\u001b[0m\u001b[0;34m\u001b[0m\u001b[0m\n",
            "\u001b[0;31mKeyboardInterrupt\u001b[0m: "
          ]
        }
      ]
    },
    {
      "cell_type": "markdown",
      "metadata": {
        "scrolled": true,
        "id": "SkxW_8fkYY8B"
      },
      "source": [
        "Давайте посмотрим, как наш тренированный VAE кодирует и восстанавливает картинки:"
      ]
    },
    {
      "cell_type": "code",
      "metadata": {
        "id": "4Jd3BWM_YY8C"
      },
      "source": [
        "eval(autoencoder, test_loader, start_index=0)"
      ],
      "execution_count": null,
      "outputs": []
    },
    {
      "cell_type": "code",
      "metadata": {
        "id": "Fq209e-JRAjv"
      },
      "source": [
        "plt.figure(figsize=(12, 8))\n",
        "plt.plot(np.arange(len(train_losses)), train_losses, label='Train')\n",
        "plt.plot(np.arange(len(val_losses)), val_losses, label='Validation')\n",
        "\n",
        "plt.xlabel('Epoch')\n",
        "plt.title('MSE loss')\n",
        "plt.legend()\n",
        "plt.show()"
      ],
      "execution_count": null,
      "outputs": []
    },
    {
      "cell_type": "markdown",
      "metadata": {
        "id": "m34pfM2_ZKOL"
      },
      "source": [
        "Давайте попробуем проделать для VAE то же, что и с обычным автоэнкодером -- подсунуть decoder'у из VAE случайные векторы из нормального распределения и посмотреть, какие картинки получаются:"
      ]
    },
    {
      "cell_type": "code",
      "metadata": {
        "id": "6TaClx7yJ95J"
      },
      "source": [
        "model = autoencoder"
      ],
      "execution_count": null,
      "outputs": []
    },
    {
      "cell_type": "code",
      "metadata": {
        "id": "kdOCIS3PJ7PC"
      },
      "source": [
        "for X_batch, y_batch in test_loader:\n",
        "    latent_vector = model.get_latent_vector(X_batch.to(device))  \n",
        "    break  \n",
        "\n",
        "latent_vector.shape"
      ],
      "execution_count": null,
      "outputs": []
    },
    {
      "cell_type": "code",
      "metadata": {
        "id": "0Ca8ktQ0OH-Y"
      },
      "source": [
        "latent_mean = latent_vector.mean(dim=0)\n",
        "latent_std = latent_vector.std(dim=0)\n",
        "\n",
        "latent_mean = latent_mean.cpu().detach().numpy()\n",
        "latent_std = latent_std.cpu().detach().numpy()\n",
        "\n",
        "latent_mean, latent_std"
      ],
      "execution_count": null,
      "outputs": []
    },
    {
      "cell_type": "code",
      "metadata": {
        "id": "PmgTIs-CJ1wL"
      },
      "source": [
        "# сгенерируем 25 рандомных векторов размера latent_space\n",
        "z = np.array([np.random.normal(0, 1, dim_code) for i in range(32)])\n",
        "z = z * latent_std + latent_mean\n",
        "\n",
        "model.eval()\n",
        "with torch.no_grad():\n",
        "    reconstruction = model.sample(torch.FloatTensor(z).to(device))\n",
        "    output = reconstruction.cpu().detach().numpy()\n",
        "\n",
        "show_image(output[:16, :, :, :], output[16:, :, :, :], 8)"
      ],
      "execution_count": null,
      "outputs": []
    },
    {
      "cell_type": "markdown",
      "metadata": {
        "id": "Nzt-ENxCr6ul"
      },
      "source": [
        "## 2.2. Latent Representation (2 балла)"
      ]
    },
    {
      "cell_type": "markdown",
      "metadata": {
        "id": "uIWy670xr-Uv"
      },
      "source": [
        "Давайте посмотрим, как латентные векторы картинок лиц выглядят в пространстве.\n",
        "Ваша задача -- изобразить латентные векторы картинок точками в двумерном просторанстве. \n",
        "\n",
        "Это позволит оценить, насколько плотно распределены латентные векторы изображений цифр в пространстве. \n",
        "\n",
        "Плюс давайте сделаем такую вещь: покрасим точки, которые соответствуют картинкам каждой цифры, в свой отдельный цвет\n",
        "\n",
        "Подсказка: красить -- это просто =) У plt.scatter есть параметр c (color), см. в документации.\n",
        "\n",
        "\n",
        "Итак, план:\n",
        "1. Получить латентные представления картинок тестового датасета\n",
        "2. С помощтю `TSNE` (есть в `sklearn`) сжать эти представления до размерности 2 (чтобы можно было их визуализировать точками в пространстве)\n",
        "3. Визуализировать полученные двумерные представления с помощью `matplotlib.scatter`, покрасить разными цветами точки, соответствующие картинкам разных цифр."
      ]
    },
    {
      "cell_type": "code",
      "metadata": {
        "id": "18VBGYGInNGV"
      },
      "source": [
        "# Data Loader (Input Pipeline)\n",
        "train_loader = torch.utils.data.DataLoader(dataset=train_dataset, batch_size=batch_size, shuffle=True)\n",
        "test_loader = torch.utils.data.DataLoader(dataset=test_dataset, batch_size=batch_size, shuffle=False)"
      ],
      "execution_count": null,
      "outputs": []
    },
    {
      "cell_type": "code",
      "metadata": {
        "id": "dQiu1VARmHab"
      },
      "source": [
        "test_loader = iter(test_loader)\n",
        "X_batch, y_batch = next(test_loader)"
      ],
      "execution_count": null,
      "outputs": []
    },
    {
      "cell_type": "code",
      "metadata": {
        "id": "Bk94C6mCsx9c"
      },
      "source": [
        "latent_vector_list = model.get_latent_vector(X_batch.to(device))\n",
        "labels = y_batch.reshape(-1, 1)\n",
        "for X_batch, y_batch in test_loader:\n",
        "    batch_sample = model.get_latent_vector(X_batch.to(device))\n",
        "    latent_vector_list = torch.vstack((latent_vector_list, batch_sample))\n",
        "    labels = torch.vstack((labels, y_batch.reshape(-1, 1)))"
      ],
      "execution_count": null,
      "outputs": []
    },
    {
      "cell_type": "code",
      "metadata": {
        "id": "YH8l-n_vlqBA"
      },
      "source": [
        "latent_vector_list.shape"
      ],
      "execution_count": null,
      "outputs": []
    },
    {
      "cell_type": "code",
      "metadata": {
        "id": "2kO8XxmQCws4"
      },
      "source": [
        "latent_vector_list = latent_vector_list.detach().cpu()\n",
        "labels = labels.detach().cpu()"
      ],
      "execution_count": null,
      "outputs": []
    },
    {
      "cell_type": "code",
      "metadata": {
        "id": "rQtYGfYk5v81"
      },
      "source": [
        "from sklearn.manifold import TSNE"
      ],
      "execution_count": null,
      "outputs": []
    },
    {
      "cell_type": "code",
      "metadata": {
        "id": "9Iz2mcnJ9BNP"
      },
      "source": [
        "X_embedded = TSNE(n_components=2).fit_transform(latent_vector_list)\n",
        "X_embedded.shape"
      ],
      "execution_count": null,
      "outputs": []
    },
    {
      "cell_type": "code",
      "metadata": {
        "id": "EbMkq_Dmkxwn"
      },
      "source": [
        "X_embedded[:,0].shape"
      ],
      "execution_count": null,
      "outputs": []
    },
    {
      "cell_type": "code",
      "metadata": {
        "id": "FP5mXWRe6Tru"
      },
      "source": [
        "plt.figure(figsize=[20, 10])\n",
        "graph = plt.scatter(X_embedded[:,0], X_embedded[:,1], c=labels, cmap='tab10')\n",
        "plt.colorbar(graph)\n",
        "plt.colormaps()\n",
        "plt.show()"
      ],
      "execution_count": null,
      "outputs": []
    },
    {
      "cell_type": "markdown",
      "metadata": {
        "id": "ifxhsvPss5h_"
      },
      "source": [
        "Что вы думаете о виде латентного представления?"
      ]
    },
    {
      "cell_type": "markdown",
      "metadata": {
        "id": "ESPBHrL3YY8H"
      },
      "source": [
        "__Congrats v2.0!__"
      ]
    },
    {
      "cell_type": "markdown",
      "metadata": {
        "id": "yIYuKFwijN2U"
      },
      "source": [
        "## 2.3. Conditional VAE (6 баллов)\n"
      ]
    },
    {
      "cell_type": "markdown",
      "metadata": {
        "id": "c5l8Bu1RPjUx"
      },
      "source": [
        "Мы уже научились обучать обычный AE на датасете картинок и получать новые картинки, используя генерацию шума и декодер. \n",
        "Давайте теперь допустим, что мы обучили AE на датасете MNIST и теперь хотим генерировать новые картинки с числами с помощью декодера (как выше мы генерили рандомные лица). \n",
        "И вот нам понадобилось сгенерировать цифру 8, и мы подставляем разные варианты шума, но восьмерка никак не генерится:(\n",
        "\n",
        "Хотелось бы добавить к нашему AE функцию \"выдай мне рандомное число из вот этого вот класса\", где классов десять (цифры от 0 до 9 образуют десять классов).  Conditional AE — так называется вид автоэнкодера, который предоставляет такую возможность. Ну, название \"conditional\" уже говорит само за себя.\n",
        "\n",
        "И в этой части задания мы научимся такие обучать."
      ]
    },
    {
      "cell_type": "markdown",
      "metadata": {
        "id": "0j8zNIwKPY-6"
      },
      "source": [
        "### Архитектура\n",
        "\n",
        "На картинке ниже представлена архитектура простого Conditional VAE.\n",
        "\n",
        "По сути, единственное отличие от обычного -- это то, что мы вместе с картинкой в первом слое энкодера и декодера передаем еще информацию о классе картинки. \n",
        "\n",
        "То есть, в первый (входной) слой энкодера подается конкатенация картинки и информации о классе (например, вектора из девяти нулей и одной единицы). В первый слой декодера подается конкатенация латентного вектора и информации о классе."
      ]
    },
    {
      "cell_type": "markdown",
      "metadata": {
        "id": "Y6YloFEAPeM4"
      },
      "source": [
        "\n",
        "![alt text](https://sun9-63.userapi.com/impg/Mh1akf7mfpNoprrSWsPOouazSmTPMazYYF49Tw/djoHNw_9KVA.jpg?size=1175x642&quality=96&sign=e88baec5f9bb91c8443fba31dcf0a4df&type=album)\n",
        "\n",
        "![alt text](https://sun9-73.userapi.com/impg/UDuloLNKhzTBYAKewgxke5-YPsAKyGOqA-qCRg/MnyCavJidxM.jpg?size=1229x651&quality=96&sign=f2d21bfacc1c5755b76868dc4cfef39c&type=album)\n",
        "\n"
      ]
    },
    {
      "cell_type": "markdown",
      "metadata": {
        "id": "hxg2tDSfRbLF"
      },
      "source": [
        "На всякий случай: это VAE, то есть, latent у него все еще состоит из mu и sigma"
      ]
    },
    {
      "cell_type": "markdown",
      "metadata": {
        "id": "GpFbSXLaPrm1"
      },
      "source": [
        "Таким образом, при генерации новой рандомной картинки мы должны будем передать декодеру сконкатенированные латентный вектор и класс картинки."
      ]
    },
    {
      "cell_type": "markdown",
      "metadata": {
        "id": "cX0zxklMPwI2"
      },
      "source": [
        "P.S. Также можно передавать класс картинки не только в первый слой, но и в каждый слой сети. То есть на каждом слое конкатенировать выход из предыдущего слоя и информацию о классе."
      ]
    },
    {
      "cell_type": "markdown",
      "metadata": {
        "id": "XkxCGN3uEFe2"
      },
      "source": [
        "### Архитектура CVAE"
      ]
    },
    {
      "cell_type": "code",
      "metadata": {
        "id": "ar701cHOkDKS"
      },
      "source": [
        "class CVAE(nn.Module):\n",
        "    def __init__(self):\n",
        "        super(CVAE, self).__init__()\n",
        "        # <определите архитектуры encoder и decoder\n",
        "        # помните, у encoder должны быть два \"хвоста\", \n",
        "        # т.е. encoder должен кодировать картинку в 2 переменные -- mu и logsigma>\n",
        "\n",
        "        # encoder\n",
        "        self.enc_fc1 = nn.Linear(in_features=28*28+10, out_features=128)\n",
        "        self.enc_ac1 = nn.ReLU()\n",
        "        self.enc_fc2 = nn.Linear(in_features=128, out_features=64)\n",
        "        self.enc_ac2 = nn.ReLU()\n",
        "        self.enc_fc3 = nn.Linear(in_features=64, out_features=2*dim_code)\n",
        "\n",
        "        # decoder\n",
        "        self.dec_fc1 = nn.Linear(in_features=dim_code+10, out_features=64)\n",
        "        self.dec_ac1 = nn.ReLU()\n",
        "        self.dec_fc2 = nn.Linear(in_features=64, out_features=128)\n",
        "        self.dec_ac2 = nn.ReLU()\n",
        "        self.dec_fc3 = nn.Linear(in_features=128, out_features=28*28)\n",
        "        self.dec_ac3 = nn.Sigmoid()\n",
        "\n",
        "    def encode(self, x, class_num):\n",
        "        # <реализуйте forward проход энкодера\n",
        "        # в качестве ваозвращаемых переменных -- mu, logsigma и класс картинки>\n",
        "        \n",
        "        # decoder\n",
        "        x = x.reshape(-1, 28*28)\n",
        "        one_hot = F.one_hot(class_num, num_classes=10)\n",
        "        x = (torch.hstack((one_hot, x))) # stacking 1\n",
        "\n",
        "        x = self.enc_fc1(x)\n",
        "        x = self.enc_ac1(x)\n",
        "        x = self.enc_fc2(x)\n",
        "        x = self.enc_ac2(x) \n",
        "        x = self.enc_fc3(x)\n",
        "\n",
        "        mu, logsigma = torch.split(x, dim_code, dim=1)\n",
        "\n",
        "        return mu, logsigma, class_num\n",
        "    \n",
        "    def gaussian_sampler(self, mu, logsigma):\n",
        "        if self.training:\n",
        "            # <засемплируйте латентный вектор из нормального распределения с параметрами mu и sigma>\n",
        "            std = torch.exp(logsigma)\n",
        "            eps = torch.randn_like(std)\n",
        "            sample = eps * std + mu\n",
        "            return sample\n",
        "        else:\n",
        "            # на инференсе возвращаем не случайный вектор из нормального распределения, а центральный -- mu. \n",
        "            # на инференсе выход автоэнкодера должен быть детерминирован.\n",
        "            return mu\n",
        "    \n",
        "    def decode(self, z, class_num):\n",
        "        # <реализуйте forward проход декодера\n",
        "        # в качестве возвращаемой переменной -- reconstruction>\n",
        "        \n",
        "        one_hot = F.one_hot(class_num, num_classes=10)\n",
        "        z = torch.hstack((one_hot, z))\n",
        "        # print('z.shape =', z.shape)\n",
        "        z = self.dec_ac1(self.dec_fc1(z))\n",
        "        z = self.dec_ac2(self.dec_fc2(z))\n",
        "        z = self.dec_fc3(z)\n",
        "        z = z.view(-1, 1, 28, 28)\n",
        "        reconstruction = self.dec_ac3(z)\n",
        "        return reconstruction\n",
        "\n",
        "    def forward(self, x, y):\n",
        "        # <используя encode и decode, реализуйте forward проход автоэнкодера\n",
        "        # в качестве ваозвращаемых переменных -- mu, logsigma и reconstruction>\n",
        "        # print(\"y.shape =\", y.shape)\n",
        "        mu, logsigma, class_num = self.encode(x, y)\n",
        "\n",
        "        latent_code = self.gaussian_sampler(mu, logsigma)\n",
        "        # print('latent_code.shape =', latent_code.shape)\n",
        "        reconstruction = self.decode(latent_code, y) # stacking 2\n",
        "\n",
        "        return mu, logsigma, reconstruction\n",
        "\n",
        "    def sample(self, x):\n",
        "        generated = self.decode(x)\n",
        "        return generated"
      ],
      "execution_count": 37,
      "outputs": []
    },
    {
      "cell_type": "code",
      "metadata": {
        "id": "8WeAURUglbT3"
      },
      "source": [
        "def train(model, optimizer, criterion, val_loader, n_epochs=20):\n",
        "    train_losses = []\n",
        "    val_losses = []\n",
        "\n",
        "    for epoch in tqdm.trange(n_epochs):\n",
        "        model.train()\n",
        "        train_losses_per_epoch = []\n",
        "        for X_batch, y_batch in val_loader:\n",
        "            # print(\"y_batch.shape =\", y_batch.shape)\n",
        "            optimizer.zero_grad()\n",
        "            mu, logsigma, reconstruction = model(X_batch.to(device), y_batch.to(device))\n",
        "            # print(\"reconstruction.shape =\", reconstruction.shape)\n",
        "            loss = criterion(X_batch.to(device).float(), mu, logsigma, reconstruction)\n",
        "            loss.backward()\n",
        "            optimizer.step()\n",
        "            train_losses_per_epoch.append(loss.item())\n",
        "\n",
        "        train_losses.append(np.mean(train_losses_per_epoch))\n",
        "\n",
        "        model.eval()\n",
        "        val_losses_per_epoch = []\n",
        "        with torch.no_grad():\n",
        "            for X_batch, y_batch in val_loader:\n",
        "              mu, logsigma, reconstruction = model(X_batch.to(device), y_batch.to(device))\n",
        "              loss = criterion(X_batch.to(device).float(), mu, logsigma, reconstruction)\n",
        "              val_losses_per_epoch.append(loss.item())\n",
        "\n",
        "        val_losses.append(np.mean(val_losses_per_epoch))\n",
        "\n",
        "    return train_losses, val_losses"
      ],
      "execution_count": 27,
      "outputs": []
    },
    {
      "cell_type": "code",
      "metadata": {
        "id": "MKCMN_o6l2X_"
      },
      "source": [
        "def eval(model, val_loader, start_index=0):\n",
        "    model.eval()\n",
        "    with torch.no_grad():\n",
        "        for X_batch, y_batch in val_loader:\n",
        "          mu, logsigma, reconstruction = model(X_batch.to(device), y_batch.to(device))\n",
        "          result = reconstruction.cpu().detach().numpy()\n",
        "          ground_truth = X_batch.numpy()\n",
        "          img_cnt = min(6, X_batch.shape[0])\n",
        "          break\n",
        "          \n",
        "    show_image(ground_truth, result, img_cnt, start_index)"
      ],
      "execution_count": 32,
      "outputs": []
    },
    {
      "cell_type": "code",
      "metadata": {
        "id": "6GV6kNJiHjf0"
      },
      "source": [
        "criterion = loss_vae\n",
        "\n",
        "cv_autoencoder = CVAE().to(device)\n",
        "\n",
        "optimizer = torch.optim.Adam(cv_autoencoder.parameters(), lr=1e-3)"
      ],
      "execution_count": 24,
      "outputs": []
    },
    {
      "cell_type": "code",
      "metadata": {
        "colab": {
          "base_uri": "https://localhost:8080/"
        },
        "id": "V2ryxWKKH8Wo",
        "outputId": "fd9c6ee7-2e11-4bd5-8b33-9f58ad008190"
      },
      "source": [
        "train_losses, val_losses = train(cv_autoencoder, optimizer, criterion, test_loader, n_epochs=20)"
      ],
      "execution_count": 34,
      "outputs": [
        {
          "output_type": "stream",
          "text": [
            "100%|██████████| 20/20 [01:14<00:00,  3.73s/it]\n"
          ],
          "name": "stderr"
        }
      ]
    },
    {
      "cell_type": "code",
      "metadata": {
        "id": "xuozAD7XmhK8",
        "outputId": "7de75f88-1041-4074-ecf0-ecac7aaa422f",
        "colab": {
          "base_uri": "https://localhost:8080/",
          "height": 532
        }
      },
      "source": [
        "plt.figure(figsize=(12, 8))\n",
        "plt.plot(np.arange(len(train_losses)), train_losses, label='Train')\n",
        "plt.plot(np.arange(len(val_losses)), val_losses, label='Validation')\n",
        "\n",
        "plt.xlabel('Epoch')\n",
        "plt.title('MSE loss')\n",
        "plt.legend()\n",
        "plt.show()"
      ],
      "execution_count": 36,
      "outputs": [
        {
          "output_type": "display_data",
          "data": {
            "image/png": "[encoded data removed]",
            "text/plain": [
              "<Figure size 864x576 with 1 Axes>"
            ]
          },
          "metadata": {
            "tags": []
          }
        }
      ]
    },
    {
      "cell_type": "markdown",
      "metadata": {
        "id": "VoMw-IFyP5A2"
      },
      "source": [
        "### Sampling\n"
      ]
    },
    {
      "cell_type": "markdown",
      "metadata": {
        "id": "qe1zWyZHkLV2"
      },
      "source": [
        "Тут мы будем сэмплировать из CVAE. Это прикольнее, чем сэмплировать из простого AE/VAE: тут можно взять один и тот же латентный вектор и попросить CVAE восстановить из него картинки разных классов!\n",
        "Для MNIST вы можете попросить CVAE восстановить из одного латентного вектора, например, картинки цифры 5 и 7."
      ]
    },
    {
      "cell_type": "code",
      "metadata": {
        "id": "fbBzoAWooGXJ",
        "outputId": "185a5516-9751-48fe-89d8-388313c8a8b4",
        "colab": {
          "base_uri": "https://localhost:8080/"
        }
      },
      "source": [
        "class_num = torch.randint(10, (32,))\n",
        "class_num"
      ],
      "execution_count": 43,
      "outputs": [
        {
          "output_type": "execute_result",
          "data": {
            "text/plain": [
              "tensor([3, 4, 0, 0, 4, 9, 1, 5, 9, 6, 5, 8, 8, 9, 6, 8, 2, 6, 5, 9, 0, 3, 3, 0,\n",
              "        9, 8, 9, 6, 4, 1, 5, 6])"
            ]
          },
          "metadata": {
            "tags": []
          },
          "execution_count": 43
        }
      ]
    },
    {
      "cell_type": "code",
      "metadata": {
        "id": "A0SQIhvNP9Dr",
        "outputId": "ead3f5b1-ace2-433d-b1c5-1691722f95e9",
        "colab": {
          "base_uri": "https://localhost:8080/",
          "height": 437
        }
      },
      "source": [
        "# <тут нужно научиться сэмплировать из декодера цифры определенного класса>\n",
        "z = np.array([np.random.normal(0, 1, dim_code) for i in range(32)])\n",
        "# z = z * latent_std + latent_mean\n",
        "model = cv_autoencoder\n",
        "model.eval()\n",
        "with torch.no_grad():\n",
        "    reconstruction = model.decode(torch.FloatTensor(z).to(device), class_num)\n",
        "    output = reconstruction.cpu().detach().numpy()\n",
        "\n",
        "show_image(output[:16, :, :, :], output[16:, :, :, :], 8)"
      ],
      "execution_count": 44,
      "outputs": [
        {
          "output_type": "display_data",
          "data": {
            "image/png": "[encoded data removed]",
            "text/plain": [
              "<Figure size 1800x576 with 16 Axes>"
            ]
          },
          "metadata": {
            "tags": []
          }
        }
      ]
    },
    {
      "cell_type": "markdown",
      "metadata": {
        "id": "nAWBu8rzQBgQ"
      },
      "source": [
        "Splendid! Вы великолепны!\n"
      ]
    },
    {
      "cell_type": "markdown",
      "metadata": {
        "id": "Rt2S77cm3O1v"
      },
      "source": [
        "### Latent Representations"
      ]
    },
    {
      "cell_type": "markdown",
      "metadata": {
        "id": "Nt7x8Ek_rHTE"
      },
      "source": [
        "Давайте посмотрим, как выглядит латентное пространство картинок в CVAE и сравним с картинкой для VAE =)\n",
        "\n",
        "Опять же, нужно покрасить точки в разные цвета в зависимости от класса."
      ]
    },
    {
      "cell_type": "code",
      "metadata": {
        "id": "LSCYK7sH3KEc"
      },
      "source": [
        "<ваш код получения латентных представлений, применения TSNE и визуализации>"
      ],
      "execution_count": null,
      "outputs": []
    },
    {
      "cell_type": "markdown",
      "metadata": {
        "id": "ET8IELWu3Z2c"
      },
      "source": [
        "Что вы думаете насчет этой картинки? Отличается от картинки для VAE?"
      ]
    },
    {
      "cell_type": "markdown",
      "metadata": {
        "id": "SWkqHjvTCD_8"
      },
      "source": [
        ""
      ]
    },
    {
      "cell_type": "markdown",
      "metadata": {
        "id": "KN3D_k5W_WZz"
      },
      "source": [
        "# BONUS 1: Denoising\n",
        "\n",
        "## Внимание! За бонусы доп. баллы не ставятся, но вы можете сделать их для себя."
      ]
    },
    {
      "cell_type": "markdown",
      "metadata": {
        "id": "12a1jkpkCsIU"
      },
      "source": [
        "У автоэнкодеров, кроме сжатия и генерации изображений, есть другие практические применения. Про одно из них эта бонусная часть задания."
      ]
    },
    {
      "cell_type": "markdown",
      "metadata": {
        "id": "v8EN-8jlCtmd"
      },
      "source": [
        "Автоэнкодеры могут быть использованы для избавления от шума на фотографиях (denoising). Для этого их нужно обучить специальным образом: input картинка будет зашумленной, а выдавать автоэнкодер должен будет картинку без шума. \n",
        "То есть, loss-функция AE останется той же (MSE между реальной картинкой и выданной), а на вход автоэнкодеру будет подаваться зашумленная картинка."
      ]
    },
    {
      "cell_type": "markdown",
      "metadata": {
        "id": "j1OJg6jhlaZl"
      },
      "source": [
        "<a href=\"https://ibb.co/YbRJ1nZ\"><img src=\"https://i.ibb.co/0QD164t/Screen-Shot-2020-06-04-at-4-49-50-PM.png\" alt=\"Screen-Shot-2020-06-04-at-4-49-50-PM\" border=\"0\"></a>"
      ]
    },
    {
      "cell_type": "markdown",
      "metadata": {
        "id": "ysI0BCuRDbvm"
      },
      "source": [
        "Для этого нужно взять ваш любимый датасет (датасет лиц из первой части этого задания или любой другой) и сделать копию этого датасета с шумом. \n",
        "\n",
        "В питоне шум можно добавить так:"
      ]
    },
    {
      "cell_type": "code",
      "metadata": {
        "id": "X5e746iVDgSm"
      },
      "source": [
        "noise_factor = 0.5\n",
        "X_noisy = X + noise_factor * np.random.normal(loc=0.0, scale=1.0, size=X.shape) "
      ],
      "execution_count": null,
      "outputs": []
    },
    {
      "cell_type": "code",
      "metadata": {
        "id": "9fSPkXMtDpd5"
      },
      "source": [
        "<тут ваш код обучения автоэнкодера на зашумленных картинках. Не забудтье разбить на train/test!>"
      ],
      "execution_count": null,
      "outputs": []
    },
    {
      "cell_type": "code",
      "metadata": {
        "id": "B03NQ_sKDvg2"
      },
      "source": [
        "<тут проверка, как AE убирает щум с тестовых картинок. Надеюсь, все получилось =)>"
      ],
      "execution_count": null,
      "outputs": []
    },
    {
      "cell_type": "markdown",
      "metadata": {
        "id": "-NDiCPYLm2bY"
      },
      "source": [
        "# BONUS 2: Image Retrieval\n",
        "\n",
        "## Внимание! За бонусы доп. баллы не ставятся, но вы можете сделать их для себя."
      ]
    },
    {
      "cell_type": "markdown",
      "metadata": {
        "id": "xao_27WMm7AL"
      },
      "source": [
        "Давайте представим, что весь наш тренировочный датасет -- это большая база данных людей. И вот мы получили картинку лица какого-то человека с уличной камеры наблюдения (у нас это картинка из тестового датасета) и хотим понять, что это за человек. Что нам делать? Правильно -- берем наш VAE, кодируем картинку в латентное представление и ищем среди латентныз представлений лиц нашей базы самые ближайшие!"
      ]
    },
    {
      "cell_type": "markdown",
      "metadata": {
        "id": "Y__bdS23ndeY"
      },
      "source": [
        "План:\n",
        "\n",
        "1. Получаем латентные представления всех лиц тренировочного датасета\n",
        "2. Обучаем на них LSHForest `(sklearn.neighbors.LSHForest)`, например, с `n_estimators=50`\n",
        "3. Берем картинку из тестового датасета, с помощью VAE получаем ее латентный вектор\n",
        "4. Ищем с помощью обученного LSHForest ближайшие из латентных представлений тренировочной базы\n",
        "5. Находим лица тренировочного датасета, которым соответствуют ближайшие латентные представления, визуализируем!"
      ]
    },
    {
      "cell_type": "markdown",
      "metadata": {
        "id": "IksC2ucIoND-"
      },
      "source": [
        "Немного кода вам в помощь: (feel free to delete everything and write your own)"
      ]
    },
    {
      "cell_type": "code",
      "metadata": {
        "id": "hK0YpLMRoEa0"
      },
      "source": [
        "codes = <поучите латентные представления картинок из трейна>"
      ],
      "execution_count": null,
      "outputs": []
    },
    {
      "cell_type": "code",
      "metadata": {
        "id": "KisDrgZdoWdt"
      },
      "source": [
        "# обучаем LSHForest\n",
        "from sklearn.neighbors import LSHForest\n",
        "lshf = LSHForest(n_estimators=50).fit(codes)"
      ],
      "execution_count": null,
      "outputs": []
    },
    {
      "cell_type": "code",
      "metadata": {
        "id": "Y_S5zPb5obam"
      },
      "source": [
        "def get_similar(image, n_neighbors=5):\n",
        "  # функция, которая берет тестовый image и с помощью метода kneighbours у LSHForest ищет ближайшие векторы\n",
        "  # прогоняет векторы через декодер и получает картинки ближайших людей\n",
        "\n",
        "  code = <получение латентного представления image>\n",
        "    \n",
        "  (distances,),(idx,) = lshf.kneighbors(code, n_neighbors=n_neighbors)\n",
        "\n",
        "  return distances, X_train[idx]"
      ],
      "execution_count": null,
      "outputs": []
    },
    {
      "cell_type": "code",
      "metadata": {
        "id": "t2kjV5wupLP_"
      },
      "source": [
        "def show_similar(image):\n",
        "\n",
        "  # функция, которая принимает тестовый image, ищет ближайшие к нему и визуализирует результат\n",
        "    \n",
        "    distances,neighbors = get_similar(image,n_neighbors=11)\n",
        "    \n",
        "    plt.figure(figsize=[8,6])\n",
        "    plt.subplot(3,4,1)\n",
        "    plt.imshow(image.cpu().numpy().transpose([1,2,0]))\n",
        "    plt.title(\"Original image\")\n",
        "    \n",
        "    for i in range(11):\n",
        "        plt.subplot(3,4,i+2)\n",
        "        plt.imshow(neighbors[i].cpu().numpy().transpose([1,2,0]))\n",
        "        plt.title(\"Dist=%.3f\"%distances[i])\n",
        "    plt.show()"
      ],
      "execution_count": null,
      "outputs": []
    },
    {
      "cell_type": "code",
      "metadata": {
        "id": "w3Ja1UNf_oJq"
      },
      "source": [
        "<тут выведите самые похожие лица к какому-нибудь лицу из тестовой части датасета>"
      ],
      "execution_count": null,
      "outputs": []
    }
  ]
}