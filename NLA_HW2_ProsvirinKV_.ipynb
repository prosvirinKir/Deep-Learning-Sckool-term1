{
  "nbformat": 4,
  "nbformat_minor": 0,
  "metadata": {
    "colab": {
      "name": "NLA_HW2_ProsvirinKV..ipynb",
      "provenance": [],
      "collapsed_sections": [],
      "include_colab_link": true
    },
    "kernelspec": {
      "display_name": "Python 3 (ipykernel)",
      "language": "python",
      "name": "python3"
    },
    "language_info": {
      "codemirror_mode": {
        "name": "ipython",
        "version": 3
      },
      "file_extension": ".py",
      "mimetype": "text/x-python",
      "name": "python",
      "nbconvert_exporter": "python",
      "pygments_lexer": "ipython3",
      "version": "3.9.8"
    }
  },
  "cells": [
    {
      "cell_type": "markdown",
      "metadata": {
        "id": "view-in-github",
        "colab_type": "text"
      },
      "source": [
        "<a href=\"https://colab.research.google.com/github/prosvirinKir/Deep-Learning-Sckool-term1/blob/main/NLA_HW2_ProsvirinKV_.ipynb\" target=\"_parent\"><img src=\"https://colab.research.google.com/assets/colab-badge.svg\" alt=\"Open In Colab\"/></a>"
      ]
    },
    {
      "cell_type": "markdown",
      "metadata": {
        "id": "t9v1vX4-OGIT"
      },
      "source": [
        "# Problem set 2 (45 + 50 + 33 + 15 = 143 pts)"
      ]
    },
    {
      "cell_type": "markdown",
      "metadata": {
        "id": "FOMNJ4TcOGIV"
      },
      "source": [
        "## Problem 1 (LU decomposition) 45 pts\n"
      ]
    },
    {
      "cell_type": "markdown",
      "metadata": {
        "id": "znqL9gAAdzw3"
      },
      "source": [
        "### 1. LU  for band matrices and Cholesky decomposition (13 pts)\n",
        "\n",
        "The complexity to find an LU decomposition of a dense $n\\times n$ matrix is $\\mathcal{O}(n^3)$.\n",
        "Significant reduction in complexity can be achieved if the matrix has a certain structure, e.g. it is sparse. \n",
        "In the following task we consider an important example of $LU$ for a special type of matrices –– band matrices with top left entry equal to 1 and the bandwidth $m$ equal to 3 or 5 which called tridiagonal and pentadiagonal respectively. The bands may be ```[1, 2, 1]``` and ```[1, 1, 2, 1, 1]``` respectively\n",
        "\n",
        "- (4 pts) Write a function ```band_lu(diag_broadcast, n)``` which computes LU decomposition for tridiagonal or pentadiagonal matrix with top left entry equal to 1 with given diagonal bands. \n",
        "For example, input parametres ```(diag_broadcast = [1,2,1], n = 4)``` mean that we need to find LU decomposition for the triangular matrix of the form:\n",
        "\n",
        "$$A = \\begin{pmatrix}\n",
        "1 & 1 & 0 & 0\\\\\n",
        "1 & 2 & 1 & 0 \\\\\n",
        "0 & 1 & 2 & 1 \\\\\n",
        "0 & 0 & 1 & 2 \\\\\n",
        "\\end{pmatrix}.$$\n",
        "\n",
        "Provide the extensive testing of the implemented function that will works correctly for large $n$,  e.g. $n=100$.\n",
        "As an output it is considered to make ```L``` and ```U``` - 2D arrays representing diagonals in factors $L$ (```L[0]``` keeps first lower diagonal, ```L[1]``` keeps second lower, ...), and $U$ (```U[:,0]``` keeps main diagonal, ```U[:,1]``` keeps first upper, ...)."
      ]
    },
    {
      "cell_type": "code",
      "metadata": {
        "id": "SwbpZAnzdzw3"
      },
      "source": [
        ""
      ],
      "execution_count": null,
      "outputs": []
    },
    {
      "cell_type": "code",
      "metadata": {
        "id": "Mii9uVxvdzw4"
      },
      "source": [
        ""
      ],
      "execution_count": null,
      "outputs": []
    },
    {
      "cell_type": "markdown",
      "metadata": {
        "id": "pYHDl6ppOGIV"
      },
      "source": [
        "\n",
        "\n",
        "- (2 pts) Compare execution time of the band LU decomposition using standard function from ```scipy```, i.e. which takes the whole matrix and does not know about its special structure, and band decomposition of yours implementation. Comment on the results.\n",
        "\n",
        "- (7 pts) Write a function ```cholesky(n)``` for computing Cholesky decomposition. It should take the the single argument - the matrix that will be factorized and return the single output - lower-triangular factor $L$. Think about the efficiency of your implementation and if necessary update it to achieve the best performance (eliminate Python loops, where it is possible and so on). Explicitly describe the difference with LU decomposition that reduces the complexity from $2n^3/3$ for LU to $n^3/3$ for Cholesky. \n",
        "Test the implemented function on the Pascal matrix of given size $n$ for $n = 5, 10, 50$. \n",
        "Pascal matrix is square matrix of the following form (here for $n=4$)\n",
        "$$P = \\begin{pmatrix}\n",
        "1 & 1 & 1 & 1\\\\\n",
        "1 & 2 & 3 & 4 \\\\\n",
        "1 & 3 & 6 & 10 \\\\\n",
        "1 & 4 & 10 & 20 \\\\\n",
        "\\end{pmatrix}.$$\n",
        "\n",
        "    [Here](https://en.wikipedia.org/wiki/Pascal_matrix) you can find more details about such matrices and analytical form for factor $L$ from Cholesky decomposition. Compare the result of your implementation with analytical expression in terms of some matrix norm of difference.  "
      ]
    },
    {
      "cell_type": "code",
      "metadata": {
        "id": "BvY7icWBOGIW"
      },
      "source": [
        "from scipy.sparse import diags # can be used with broadcasting of scalars if desired dimensions are large\n",
        "import numpy as np\n",
        "\n",
        "# INPUT : diag_broadcast - list of diagonals value to broadcast,length equal to 3 or 5; n - integer, band matrix shape.\n",
        "# OUTPUT : L - 2D np.ndarray, L.shape[0] depends on bandwidth, L.shape[1] = n-1, do not store main diagonal, where all ones;                  add zeros to the right side of rows to handle with changing length of diagonals.\n",
        "#          U - 2D np.ndarray, U.shape[0] = n, U.shape[1] depends on bandwidth;\n",
        "#              add zeros to the bottom of columns to handle with changing length of diagonals.\n",
        "def band_lu(diag_broadcast, n):\n",
        "    # enter your code here\n",
        "    raise NotImplementedError()\n",
        "    \n",
        "def cholesky(A):\n",
        "    # enter your code here\n",
        "    raise NotImplementedError()"
      ],
      "execution_count": null,
      "outputs": []
    },
    {
      "cell_type": "code",
      "metadata": {
        "id": "XVySYJbTOGIa"
      },
      "source": [
        "# Your solution is here"
      ],
      "execution_count": null,
      "outputs": []
    },
    {
      "cell_type": "markdown",
      "metadata": {
        "id": "_iM6NwHQOGId"
      },
      "source": [
        "### 2. Stability of LU (8 pts)\n",
        "\n",
        "* (4 pts) Show, that for these  matrices $A$ and $B$ LU decomposition fails. Why does it happen?\n",
        "\n",
        "\n",
        "\n",
        "$\n",
        "A = \\begin{pmatrix}\n",
        "0 & 1 \\\\\n",
        "2 & 3\n",
        "\\end{pmatrix}.$ \n",
        "\n",
        "$B = \\begin{pmatrix}\n",
        "1 & 1 & 0\\\\\n",
        "1 & 1 & 2 \\\\\n",
        "1 & 2 & 1\n",
        "\\end{pmatrix}.$ \n",
        "\n",
        "* (4 pts) In the LU decomposition, a pivot position is a position of the element that identifies the row and column that will be eliminated in the current step. For example, first pivot in LU is usually the left top element. What value of $c$ leads to zero in the second pivot position? What $c$ produces zero in the third pivot position? What modification of LU should we use in order to address the possible zeros in pivot position?\n",
        "\n",
        "$A = \\begin{pmatrix}\n",
        "1 & c & 0\\\\\n",
        "2 & 4 & 1 \\\\\n",
        "3 & 5 & 1\n",
        "\\end{pmatrix}.$ "
      ]
    },
    {
      "cell_type": "code",
      "metadata": {
        "id": "CmkB9hxwOGId"
      },
      "source": [
        "# Your solution is here"
      ],
      "execution_count": null,
      "outputs": []
    },
    {
      "cell_type": "markdown",
      "metadata": {
        "id": "YFc3BR_TOGIj"
      },
      "source": [
        "### 3. Implementation of PLU decomposition (14 pts)\n",
        "\n",
        "As you have noticed before, LU decomposition may fail. In order to make it stable, we can use LU decomposition with pivoting  (PLU).\n",
        "\n",
        "We want to find such permutation matrix $P$ that LU decomposition of $PA$ exists\n",
        "\n",
        "$$ PA = LU $$\n",
        "\n",
        "- (7 pts) Implement efficiently PLU decomposition (without loops and with appropriate level of BLAS operations).  Also, pay attention to the way of permutation matrix storage.\n",
        "\n",
        "- (4 pts ) Compare your function for computing PLU with built-in function on matrices of such type ```(mirror_diag = [1,2,1], n = 4)```. (Bandwidth and matrix size may vary). So, you can pass them as dense 2D NumPy array and do not tune your implementation to this special structure. Compare them in terms of running time (use ```%timeit``` magic) for range of dimensions to recover the asymptotic rate of time increasing and in terms of acuracy. We expect you plot the running time vs matrix dimension for built-in function and your implementation. So you should get the plot with two lines.\n",
        "Consider additionally one of the pathological examples from above, where LU fails, but PLU has to work.\n",
        "\n",
        "\n",
        "$$A = \\begin{pmatrix}\n",
        "0 & 0 & 1 & 1 \\\\\n",
        " 0 &1 & 2 & 1  \\\\\n",
        " 1 & 2 & 1  & 0\\\\\n",
        "1 & 2  & 0 & 0  \\\\\n",
        "\\end{pmatrix}.$$\n",
        "\n",
        "\n",
        "- (3 pts) Discuss the obtained results and explain how is it possible to accelerate computing the PLU factorization. \n",
        "\n",
        "NumPy or JAX are both ok in this problem, but please use the single library for all implementations. "
      ]
    },
    {
      "cell_type": "code",
      "metadata": {
        "id": "32HpfOPMOGIg"
      },
      "source": [
        "# Your solution is here"
      ],
      "execution_count": null,
      "outputs": []
    },
    {
      "cell_type": "markdown",
      "metadata": {
        "id": "EQwdRJSIOGIg"
      },
      "source": [
        "### 4. Block LU (10 pts)\n",
        "\n",
        "Let $A = \\begin{bmatrix} A_{11} & A_{12} \\\\ A_{21} & A_{22} \\end{bmatrix}$ be a block matrix. The goal is to solve the linear system\n",
        "\n",
        "$$\n",
        "     \\begin{bmatrix} A_{11} & A_{12} \\\\ A_{21} & A_{22} \\end{bmatrix} \\begin{bmatrix} u_1 \\\\ u_2 \\end{bmatrix} = \\begin{bmatrix} f_1 \\\\ f_2 \\end{bmatrix}.\n",
        "$$\n",
        "\n",
        "* (2 pts) Using block elimination find matrix $S$ and right-hand side $\\hat{f_2}$ so that $u_2$ can be found from $S u_2 = \\hat{f_2}$. Note that the matrix $S$ is called <span style=\"color:red\">Schur complement</span> of the block $A_{11}$.\n",
        "* (4 pts) Using Schur complement properties prove that \n",
        "\n",
        "$$\\det(X+AB) = \\det(X)\\det(I+BX^{-1}A), $$\n",
        "\n",
        "\n",
        "where $X$ - nonsingular square matrix.\n",
        "* (4 pts) Let matrix $F \\in \\mathbb{R}^{m \\times n}$ and $G \\in \\mathbb{R}^{n \\times m}$. Prove that \n",
        "\n",
        "$$\\det(I_m - FG) = \\det(I_n - GF).$$"
      ]
    },
    {
      "cell_type": "code",
      "metadata": {
        "id": "4RBDYAWUOGIj"
      },
      "source": [
        "# Your solution is here"
      ],
      "execution_count": null,
      "outputs": []
    },
    {
      "cell_type": "markdown",
      "metadata": {
        "id": "m6MOcBfOdzw8"
      },
      "source": [
        "## Problem 2 (eigenvalues)  (50 pts)\n",
        "\n",
        "### 1. Theoretical tasks (15 pts)\n",
        "\n",
        "* (2 pts) Prove that eigenvectors that correspond to distinct eigenvalues are linearly independent.\n",
        "\n",
        "* (3 pts) $A$ is a matrix such that $a_{i,j} \\ge 0$ and $\\sum_{j}a_{i,j} = 1$ (sum of the elements in each row is 1). Prove that $A$ has an eigenvalue $\\lambda=1$ and that any eigenvalue $\\lambda_i$: $|\\lambda_i| \\le 1$.\n",
        "\n",
        "* (5 pts) Prove that normal matrix is Hermitian iff its eigenvalues are real. Prove that normal matrix is unitary iff its eigenvalues satisfy $|\\lambda| = 1$. \n",
        "\n",
        "* (5 pts) The following problem illustrates instability of the Jordan form. Find theoretically the eigenvalues of the perturbed Jordan block (there is only one $\\varepsilon$ - in the left lower corner):\n",
        "\n",
        "$$\n",
        "    J(\\varepsilon) = \n",
        "    \\begin{bmatrix} \n",
        "     \\lambda & 1 & & & 0 \\\\ \n",
        "     0 & \\lambda & 1 & & \\\\ \n",
        "     & 0 & \\ddots & \\ddots & \\\\ \n",
        "     & & 0 & \\lambda & 1 \\\\ \n",
        "     \\varepsilon & & & 0 & \\lambda  \\\\ \n",
        "    \\end{bmatrix}_{n\\times n}\n",
        "$$\n",
        "\n",
        "   Comment how eigenvalues of $J(0)$ are perturbed for large $n$."
      ]
    },
    {
      "cell_type": "code",
      "metadata": {
        "id": "5Al8su0odzw9"
      },
      "source": [
        "# Your solution is here"
      ],
      "execution_count": null,
      "outputs": []
    },
    {
      "cell_type": "markdown",
      "metadata": {
        "id": "xWcyqKyrOGIp"
      },
      "source": [
        "### 2. PageRank (35 pts)\n",
        "\n",
        "\n",
        "#### Damping factor importance\n",
        "\n",
        "* (5 pts) Write the function ```pagerank_matrix(G)``` that takes an adjacency matrix $G$ (in both sparse and dense formats) as an input and outputs the corresponding PageRank matrix $A$."
      ]
    },
    {
      "cell_type": "code",
      "metadata": {
        "id": "2jktwIc8OGIp"
      },
      "source": [
        "# INPUT:  G - np.ndarray or sparse matrix\n",
        "# OUTPUT: A - np.ndarray (of size G.shape) or sparse matrix\n",
        "def pagerank_matrix(G):\n",
        "    # enter your code here\n",
        "    return A"
      ],
      "execution_count": null,
      "outputs": []
    },
    {
      "cell_type": "markdown",
      "metadata": {
        "id": "BtVmgGnYOGIs"
      },
      "source": [
        "* (3 pts) Find PageRank matrix $A$ that corresponds to the following graph: <img src=\"graph.png\" width='250'>\n",
        "What is its largest eigenvalue? What multiplicity does it have?\n",
        "\n",
        "\n",
        "* (5 pts) Implement the power method for a given matrix $A$, an initial guess $x_0$ and a number of iterations ```num_iter```. It should be organized as a function ```power_method(A, x0, num_iter)``` that outputs approximation to eigenvector $x$, eigenvalue $\\lambda$ and history of residuals $\\{\\|Ax_k - \\lambda_k x_k\\|_2\\}$. Make sure that the method converges to the correct solution on a matrix $\\begin{bmatrix} 2 & -1 \\\\ -1 & 2 \\end{bmatrix}$ which is known to have the largest eigenvalue equal to $3$."
      ]
    },
    {
      "cell_type": "code",
      "metadata": {
        "id": "uLo7A--rOGIs"
      },
      "source": [
        "# INPUT:  A - np.ndarray (2D), x0 - np.ndarray (1D), num_iter - integer (positive)\n",
        "# OUTPUT: x - np.ndarray (of size x0), l - float, res - np.ndarray (of size num_iter + 1 [include initial guess])\n",
        "def power_method(A, x0, num_iter): # 5 pts\n",
        "    # enter your code here\n",
        "    return x, l, res"
      ],
      "execution_count": null,
      "outputs": []
    },
    {
      "cell_type": "markdown",
      "metadata": {
        "id": "9hAowO6zOGIu"
      },
      "source": [
        "* (2 pts) Run the power method for the graph presented above and plot residuals $\\|Ax_k - \\lambda_k x_k\\|_2$ as a function of $k$ for ```num_iter=100``` and random initial guess ```x0```.  Explain the absence of convergence. \n",
        "\n",
        "\n",
        "* (2 pts) Consider the same graph, but with additional self loop at node 4 (self loop is an edge that connects a vertex with itself). Plot residuals as in the previous task and discuss the convergence. Now, run the power method with ```num_iter=100``` for 10 different initial guesses and print/plot the resulting approximated eigenvectors. Why do they depend on the initial guess?\n",
        "\n",
        "\n",
        "In order to avoid this problem Larry Page and Sergey Brin [proposed](http://ilpubs.stanford.edu:8090/422/1/1999-66.pdf) to use the following regularization technique:\n",
        "\n",
        "$$\n",
        "A_d = dA + \\frac{1-d}{N} \\begin{pmatrix} 1 & \\dots & 1 \\\\ \\vdots & & \\vdots \\\\ 1 & \\dots & 1 \\end{pmatrix},\n",
        "$$\n",
        "\n",
        "where $d$ is a small parameter in $[0,1]$ (typically $d=0.85$), which is called **damping factor**, $A$ is of size $N\\times N$. Now $A_d$ is the matrix with multiplicity of the largest eigenvalue equal to 1. \n",
        "Recall that computing the eigenvector of the PageRank matrix, which corresponds to the largest eigenvalue, has the following interpretation. Consider a person who stays in a random node of a graph (i.e. opens a random web page); at each step s/he follows one of the outcoming edges uniformly at random (i.e. opens one of the links). So the person randomly walks through the graph and the eigenvector we are looking for is exactly his/her stationary distribution â€” for each node it tells you the probability of visiting this particular node. Therefore, if the person has started from a part of the graph which is not connected with the other part, he will never get there.  In the regularized model, the person at each step follows one of the outcoming links with probability $d$ OR teleports to a random node from the whole graph with probability $(1-d)$.\n",
        "\n",
        "* (2 pts) Now, run the power method with $A_d$ and plot residuals $\\|A_d x_k - \\lambda_k x_k\\|_2$ as a function of $k$ for $d=0.97$, ```num_iter=100``` and a random initial guess ```x0```.\n",
        "\n",
        "* (5 pts) Find the second largest in the absolute value eigenvalue of the obtained matrix $A_d$. How and why is it connected to the damping factor $d$? What is the convergence rate of the PageRank algorithm when using damping factor?\n",
        "\n",
        "Usually, graphs that arise in various areas are sparse (social, web, road networks, etc.) and, thus, computation of a matrix-vector product for corresponding PageRank matrix $A$ is much cheaper than $\\mathcal{O}(N^2)$. However, if $A_d$ is calculated directly, it becomes dense and, therefore, $\\mathcal{O}(N^2)$ cost grows prohibitively large for  big $N$.\n",
        "\n",
        "\n",
        "* (2 pts) Implement fast matrix-vector product for $A_d$ as a function ```pagerank_matvec(A, d, x)```, which takes a PageRank matrix $A$ (in sparse format, e.g., ```csr_matrix```), damping factor $d$ and a vector $x$ as an input and returns $A_dx$ as an output. \n",
        "\n",
        "* (1 pts) Generate a random adjacency matrix of size $10000 \\times 10000$ with only 100 non-zero elements and compare ```pagerank_matvec``` performance with direct evaluation of $A_dx$."
      ]
    },
    {
      "cell_type": "code",
      "metadata": {
        "id": "4o3LKx5UOGIv"
      },
      "source": [
        "# INPUT:  A - np.ndarray (2D), d - float (from 0.0 to 1.0), x - np.ndarray (1D, size of A.shape[0/1])\n",
        "# OUTPUT: y - np.ndarray (1D, size of x)\n",
        "def pagerank_matvec(A, d, x): # 2 pts\n",
        "    # enter your code here\n",
        "    return y"
      ],
      "execution_count": null,
      "outputs": []
    },
    {
      "cell_type": "markdown",
      "metadata": {
        "id": "ru70NGUlOGIy"
      },
      "source": [
        "#### DBLP: computer science bibliography\n",
        "\n",
        "Download the dataset from [here](https://goo.gl/oZVxEa), unzip it and put `dblp_authors.npz`  and `dblp_graph.npz` in the same folder with this notebook. Each value (author name) from `dblp_authors.npz` corresponds to the row/column of the matrix from `dblp_graph.npz`. Value at row `i` and column `j` of the matrix from `dblp_graph.npz` corresponds to the number of times author `i` cited papers of the author `j`. Let us now find the most significant scientists according to PageRank model over DBLP data.\n",
        "\n",
        "* (4 pts) Load the weighted adjacency matrix and the authors list into Python using ```load_dblp(...)``` function. Print its density (fraction of nonzero elements). Find top-10 most cited authors from the weighted adjacency matrix. Now, make all the weights of the adjacency matrix equal to 1 for simplicity (consider only existence of connection between authors, not its weight). Obtain the PageRank matrix $A$ from the adjacency matrix and verify that it is stochastic.\n",
        " \n",
        " \n",
        "* (1 pts) In order to provide ```pagerank_matvec``` to your ```power_method``` (without rewriting it) for fast calculation of $A_dx$, you can create a ```LinearOperator```: \n",
        "```python\n",
        "L = scipy.sparse.linalg.LinearOperator(A.shape, matvec=lambda x, A=A, d=d: pagerank_matvec(A, d, x))\n",
        "```\n",
        "Calling ```L@x``` or ```L.dot(x)``` will result in calculation of ```pagerank_matvec(A, d, x)``` and, thus, you can plug $L$ instead of the matrix $A$ in the ```power_method``` directly. **Note:** though in the previous subtask graph was very small (so you could disparage fast matvec implementation), here it is very large (but sparse), so that direct evaluation of $A_dx$ will require $\\sim 10^{12}$ matrix elements to store - good luck with that (^_<).\n",
        "\n",
        "\n",
        "* (2 pts) Run the power method starting from the vector of all ones and plot residuals $\\|A_dx_k - \\lambda_k x_k\\|_2$  as a function of $k$ for $d=0.85$.\n",
        "\n",
        "\n",
        "* (1 pts) Print names of the top-10 authors according to PageRank over DBLP when $d=0.85$. Comment on your findings."
      ]
    },
    {
      "cell_type": "code",
      "metadata": {
        "id": "L5ZnW7m-OGIz"
      },
      "source": [
        "from scipy.sparse import load_npz\n",
        "import numpy as np\n",
        "def load_dblp(path_auth, path_graph):\n",
        "    G = load_npz(path_graph).astype(float)\n",
        "    with np.load(path_auth) as data: authors = data['authors']\n",
        "    return G, authors\n",
        "G, authors = load_dblp('dblp_authors.npz', 'dblp_graph.npz')"
      ],
      "execution_count": null,
      "outputs": []
    },
    {
      "cell_type": "code",
      "metadata": {
        "id": "QynfixvjOGI1"
      },
      "source": [
        "# Your code is here"
      ],
      "execution_count": null,
      "outputs": []
    },
    {
      "cell_type": "markdown",
      "metadata": {
        "id": "hQ2vaIyMOGI3"
      },
      "source": [
        "## Problem 3. QR algorithm (33 pts)\n",
        "\n",
        "* Implement QR-algorithm without shifts. Prototype of the function is given below"
      ]
    },
    {
      "cell_type": "code",
      "metadata": {
        "id": "rjo2IiAkh6q_"
      },
      "source": [
        "import jax.numpy as jnp\n",
        "import numpy as np\n",
        "import scipy.sparse as spsp\n",
        "import matplotlib.pyplot as plt\n",
        "%matplotlib inline"
      ],
      "execution_count": 43,
      "outputs": []
    },
    {
      "cell_type": "code",
      "metadata": {
        "id": "rMHBZLojOGI3"
      },
      "source": [
        "# INPUT: \n",
        "# A_init - square matrix, \n",
        "# num_iter - number of iterations for QR algorithm\n",
        "# OUTPUT: \n",
        "# Ak - transformed matrix A_init given by QR algorithm, \n",
        "# convergence - numpy array of shape (num_iter, ), \n",
        "# where we store the maximal number from the Chebyshev norm \n",
        "# of triangular part of the Ak for every iteration\n",
        "def qr_algorithm(A_init, num_iter): # 3 pts\n",
        "    # enter your code here\n",
        "    Ak = A_init\n",
        "    convergence = [0] * num_iter\n",
        "    convergence[0] = np.linalg.norm(Ak, ord=np.inf) # inf means Chebyshev norm \n",
        "    for k in range(1, num_iter):\n",
        "        Qk, Rk = np.linalg.qr(Ak)\n",
        "        Ak = Rk.dot(Qk)\n",
        "        convergence[k] = np.linalg.norm(Ak, ord=np.inf)\n",
        "    return Ak, convergence"
      ],
      "execution_count": 44,
      "outputs": []
    },
    {
      "cell_type": "markdown",
      "metadata": {
        "id": "UNrCBNRUOGI6"
      },
      "source": [
        "#### Symmetric case (3 pts)\n",
        "- Create symmetric tridiagonal $11 \\times 11$ matrix with elements $-1, 2, -1$ on sub-, main- and upper diagonal respectively without using loops.\n",
        "- Run $400$ iterations of the QR algorithm for this matrix.\n",
        "- Plot the output matrix with function ```plt.spy(Ak, precision=1e-7)```.\n",
        "- Plot convergence of QR-algorithm."
      ]
    },
    {
      "cell_type": "code",
      "metadata": {
        "id": "NuKwQGXbOGI6"
      },
      "source": [
        "n = 11\n",
        "ex = np.ones(n)\n",
        "A = spsp.spdiags(np.vstack((-ex,  2*ex, -ex)), [-1, 0, 1], n, n, 'csr')\n",
        "num_iter = 400\n",
        "Ak, convergence = qr_algorithm(A.toarray(), num_iter)"
      ],
      "execution_count": 45,
      "outputs": []
    },
    {
      "cell_type": "code",
      "metadata": {
        "colab": {
          "base_uri": "https://localhost:8080/",
          "height": 460
        },
        "id": "bQf7EZNHha9w",
        "outputId": "862d70ca-fb0b-4ba1-8bee-b3d73fdd9d14"
      },
      "source": [
        "plt.figure(figsize=(15, 7))\n",
        "plt.subplot(1, 2, 1)\n",
        "\n",
        "plt.plot(convergence, color='red', label=f'QR, num_iter={num_iter}')\n",
        "plt.ylabel(\"convergence\")\n",
        "plt.xlabel(\"num_iter\")\n",
        "\n",
        "plt.legend()\n",
        "plt.grid()\n",
        "\n",
        "plt.subplot(1, 2, 2)\n",
        "plt.spy(Ak, precision=1e-7)\n",
        "plt.show()"
      ],
      "execution_count": 46,
      "outputs": [
        {
          "output_type": "display_data",
          "data": {
            "image/png": "[encoded data removed]",
            "text/plain": [
              "<Figure size 1080x504 with 2 Axes>"
            ]
          },
          "metadata": {
            "needs_background": "light"
          }
        }
      ]
    },
    {
      "cell_type": "code",
      "metadata": {
        "id": "07vdTuLjhbDD"
      },
      "source": [
        ""
      ],
      "execution_count": 4,
      "outputs": []
    },
    {
      "cell_type": "markdown",
      "metadata": {
        "id": "-lomV2K-OGI8"
      },
      "source": [
        "#### Nonsymmetric case (5 pts)\n",
        "\n",
        "- Create nonsymmetric tridiagonal $11 \\times 11$ matrix with elements $5, 3, -2$ on sub-, main- and upper diagonal respectively without using loops.\n",
        "- Run $250$ iterations of the QR algorithm for this matrix.\n",
        "- Plot the result matrix with function ```plt.spy(Ak, precision=1e-7)```. Is this matrix lower triangular? How does this correspond to the claim about convergence of the QR algorithm?"
      ]
    },
    {
      "cell_type": "code",
      "metadata": {
        "id": "C2lGBHjaOGI9"
      },
      "source": [
        "# Your solution is here"
      ],
      "execution_count": 5,
      "outputs": []
    },
    {
      "cell_type": "code",
      "metadata": {
        "id": "QLEVfV0ek-3f"
      },
      "source": [
        "n = 11\n",
        "ex = np.ones(n)\n",
        "A = spsp.spdiags(np.vstack((5*ex,  3*ex, -2*ex)), [-1, 0, 1], n, n, 'csr')\n",
        "num_iter = 250\n",
        "Ak, convergence = qr_algorithm(A.toarray(), num_iter)"
      ],
      "execution_count": 6,
      "outputs": []
    },
    {
      "cell_type": "code",
      "metadata": {
        "colab": {
          "base_uri": "https://localhost:8080/",
          "height": 460
        },
        "id": "PY2uCNgak-3h",
        "outputId": "a6e96b5b-7fd6-4fd2-c6a5-836272b01702"
      },
      "source": [
        "plt.figure(figsize=(15, 7))\n",
        "plt.subplot(1, 2, 1)\n",
        "\n",
        "plt.plot(convergence, color='red', label=f'QR, num_iter={num_iter}')\n",
        "plt.ylabel(\"convergence\")\n",
        "plt.xlabel(\"num_iter\")\n",
        "\n",
        "plt.legend()\n",
        "plt.grid()\n",
        "\n",
        "plt.subplot(1, 2, 2)\n",
        "plt.spy(Ak, precision=1e-7)\n",
        "plt.show()"
      ],
      "execution_count": 7,
      "outputs": [
        {
          "output_type": "display_data",
          "data": {
            "image/png": "[encoded data removed]",
            "text/plain": [
              "<Figure size 1080x504 with 2 Axes>"
            ]
          },
          "metadata": {
            "needs_background": "light"
          }
        }
      ]
    },
    {
      "cell_type": "markdown",
      "metadata": {
        "id": "wC7qQObFSV4S"
      },
      "source": [
        "We can see that there is no convergence. The rate of convergence depends on the separation between eigenvalues. So, this affect may be due to that fact that eigenvalues approach each other. Let's check it:"
      ]
    },
    {
      "cell_type": "code",
      "metadata": {
        "colab": {
          "base_uri": "https://localhost:8080/"
        },
        "id": "aVkICe8KWmMr",
        "outputId": "f32a7a61-5737-4414-cc98-6023b12e6084"
      },
      "source": [
        "np.linalg.eigvals(Ak)"
      ],
      "execution_count": 13,
      "outputs": [
        {
          "output_type": "execute_result",
          "data": {
            "text/plain": [
              "array([3.+6.10905132j, 3.-6.10905132j, 3.+5.47722558j, 3.-5.47722558j,\n",
              "       3.+4.47213595j, 3.-4.47213595j, 3.+3.16227766j, 3.-3.16227766j,\n",
              "       3.+1.63691537j, 3.-1.63691537j, 3.+0.j        ])"
            ]
          },
          "metadata": {},
          "execution_count": 13
        }
      ]
    },
    {
      "cell_type": "code",
      "metadata": {
        "id": "jcmJ0qhClS48",
        "colab": {
          "base_uri": "https://localhost:8080/"
        },
        "outputId": "ecdee9f5-6a16-4566-ef3d-9ce1a8958975"
      },
      "source": [
        "np.abs(np.linalg.eigvals(Ak)[0]), np.abs(np.linalg.eigvals(Ak)[1])"
      ],
      "execution_count": 12,
      "outputs": [
        {
          "output_type": "execute_result",
          "data": {
            "text/plain": [
              "(6.805917136998428, 6.805917136998428)"
            ]
          },
          "metadata": {},
          "execution_count": 12
        }
      ]
    },
    {
      "cell_type": "markdown",
      "metadata": {
        "id": "HiFlJzOVVcNe"
      },
      "source": [
        "So, we can see that $|\\lambda_1| = |\\lambda_2|$.\n",
        "\n",
        "Moreover, QR algorithm can be seen as a more sophisticated variation of the basic \"power\" eigenvalue algorithm. And from lectures we also know that the convergence ratio for power method is $q^k$, where $q = \\left|\\frac{\\lambda_{2}}{\\lambda_{1}}\\right| < 1$. "
      ]
    },
    {
      "cell_type": "code",
      "metadata": {
        "id": "96pJW72JlS8X"
      },
      "source": [
        ""
      ],
      "execution_count": null,
      "outputs": []
    },
    {
      "cell_type": "markdown",
      "metadata": {
        "id": "8WeYgOphdzxD"
      },
      "source": [
        "### QR algorithms with Rayleigh Quotient shift (10 pts)\n",
        "\n",
        "In the lectures the Rayleigh Quotient shift was introduced to speed up convergence of power method. Here we ask you to generalize this approach to construct the shifts in QR algorithm.\n",
        "\n",
        "- How to compute the Rayleigh Quotient shift in QR algorithm fast? Provide formulas and explanations how they can be simplified.\n",
        "- Implement explicit QR algorithm with Rayleigh Quotient shift. Please do not worry about implicit orthogonalization, we want to compare convergence only in terms of iterations.\n",
        "- Test your implementation in the symmetric case. Plot the convergence of QR algorithm with and without shift. Choose the dimension $n \\sim 100 $ for more representative results. \n",
        "- How the convergence of the shifted algorithm compares to the simple QR? Why? "
      ]
    },
    {
      "cell_type": "code",
      "metadata": {
        "id": "re0nuXAM2fkM"
      },
      "source": [
        ""
      ],
      "execution_count": null,
      "outputs": []
    },
    {
      "cell_type": "markdown",
      "metadata": {
        "id": "1JPG_7DK2gD8"
      },
      "source": [
        "**QR Algorithm:**\n",
        "\n",
        "We know that $A^{k}=Q^{(k)} \\underline{R}^{(k)}$ with\n",
        "$$\n",
        "\\underline{Q}^{(k)}=\\prod_{j=1}^{k} Q^{(j)}=\\left[\\left.q_{1}^{(k)}\\left|q_{2}^{(k)}\\right| \\cdots\\right|q_{m} ^{(k)}\\right]\n",
        "$$\n",
        "\n",
        "Since the QR algorithm behaves like inverse iteration, introduce shifts $\\mu^{(k)}$ to accelerate the convergence:\n",
        "\n",
        "$$\n",
        "\\begin{aligned}\n",
        "A^{(k-1)}-\\mu^{(k)} I &=Q^{(k)} R^{(k)} \\\\\n",
        "A^{(k)} &=R^{(k)} Q^{(k)}+\\mu^{(k)} I\n",
        "\\end{aligned}\n",
        "$$\n",
        "\n",
        "We then get:\n",
        "\n",
        "$$\n",
        "A^{(k)}=\\left(Q^{(k)}\\right)^{T} A^{(k-1)} Q^{(k)}=\\left(\\underline{Q}^{(k)}\\right)^{T} A \\underline{Q}^{(k)}\n",
        "$$\n",
        "\n",
        "and:\n",
        "\n",
        "$$\n",
        "\\left(A-\\mu^{(k)} I\\right)\\left(A-\\mu^{(k-1)} I\\right) \\cdots\\left(A-\\mu^{(1)} I\\right)=\\underline{Q}^{(k)} \\underline{R}^{(k)}\n",
        "$$\n",
        "\n",
        "Shifted simultaneous iteration - last column of $\\underline{Q}^{(k)}$ converges quickly"
      ]
    },
    {
      "cell_type": "markdown",
      "metadata": {
        "id": "v6J_ZDDf2giG"
      },
      "source": [
        "**Choosing μ:**\n",
        "\n",
        "Natural choice of $\\mu^{(k)}:$ Rayleigh quotient for last column of $Q^{(k)}$\n",
        "\n",
        "$$\n",
        "\\mu^{(k)}=\\frac{\\left(q_{m}^{(k)}\\right)^{T} A q_{m}^{(k)}}{\\left(q_{m}^{(k)}\\right)^{\\top} q_{m}^{(k)}}=\\left(q_{m}^{(k)}\\right)^{T} A q_{m}^{(k)}\n",
        "$$\n",
        "\n",
        "Rayleigh quotient iteration, last column $q_{m}^{(k)}$ converges cubically\n",
        "Convenient fact: This Rayleigh quotient appears as $m, m$ entry of $A^{(k)}$ since $A^{(k)}=\\left(\\underline{Q}^{(k)}\\right)^{T} A \\underline{Q}^{(k)}$\n",
        "The Rayleigh quotient shift corresponds to setting $\\mu^{(k)}=A_{m m}^{(k)}$"
      ]
    },
    {
      "cell_type": "markdown",
      "metadata": {
        "id": "BQ3ja6J5zcZQ"
      },
      "source": [
        "**Pseudocode:**\n",
        "\n",
        "Set $A_{0}=Q_{H}^{T} A Q_{H}=$ upper-Hessenberg \n",
        "\n",
        "for $\\mathrm{k}=1,2, \\ldots$ (until convergence)\n",
        "\n",
        "$~~~~~\\mu_{k} = A_{k-1}[n, n]$\n",
        "\n",
        "$~~~~~$Compute $A_{k-1}-\\mu_{k} I=Q_{k} R_{k}$\n",
        "\n",
        "$~~~~~\\operatorname{Set} A_{k}=R_{k} Q_{k}+\\mu_{k} I$ \n",
        "\n",
        "end "
      ]
    },
    {
      "cell_type": "markdown",
      "metadata": {
        "id": "ZA0wuZg3zcld"
      },
      "source": [
        "Let's implement it"
      ]
    },
    {
      "cell_type": "code",
      "metadata": {
        "id": "hg7PkLMLvhff"
      },
      "source": [
        "from scipy.linalg import hessenberg"
      ],
      "execution_count": 5,
      "outputs": []
    },
    {
      "cell_type": "code",
      "metadata": {
        "id": "P6VuXLaNdzxD"
      },
      "source": [
        "def qr_algorithm_reileigh(A_init, num_iter): \n",
        "    # enter your code here\n",
        "    Ak = hessenberg(A_init, calc_q=False)\n",
        "    n = Ak.shape[0]\n",
        "    convergence = [0] * num_iter\n",
        "    convergence[0] = np.linalg.norm(Ak, ord=np.inf) # inf means Chebyshev norm \n",
        "    for k in range(1, num_iter):\n",
        "        mu = Ak[n - 1, n - 1]\n",
        "        Qk, Rk = np.linalg.qr(Ak - mu * np.identity(n))\n",
        "        Ak = Rk.dot(Qk) + mu * np.identity(n)\n",
        "        convergence[k] = np.linalg.norm(Ak, ord=np.inf)\n",
        "    return Ak, convergence"
      ],
      "execution_count": 40,
      "outputs": []
    },
    {
      "cell_type": "code",
      "metadata": {
        "id": "pBXmmpJwvGKV"
      },
      "source": [
        "n = 100\n",
        "ex = np.ones(n)\n",
        "A = spsp.spdiags(np.vstack((-1*ex,  2*ex, -1*ex)), [-1, 0, 1], n, n, 'csr')\n",
        "num_iter = 250\n",
        "Ak_reileigh, convergence_reileigh = qr_algorithm_reileigh(A.toarray(), num_iter)\n",
        "Ak, convergence = qr_algorithm(A.toarray(), num_iter)"
      ],
      "execution_count": 68,
      "outputs": []
    },
    {
      "cell_type": "code",
      "metadata": {
        "colab": {
          "base_uri": "https://localhost:8080/",
          "height": 463
        },
        "id": "WgqzRS2YvGQa",
        "outputId": "c230e72a-eef0-4c43-e6cd-30222aa51a5b"
      },
      "source": [
        "plt.figure(figsize=(25, 7))\n",
        "\n",
        "plt.subplot(1, 3, 1)\n",
        "plt.spy(Ak_reileigh, precision=1e-7)\n",
        "plt.title(\"Rayleigh QR\")\n",
        "\n",
        "plt.subplot(1, 3, 2)\n",
        "plt.plot(convergence_reileigh, color='red', label=f'QR, num_iter={num_iter}')\n",
        "plt.ylabel(\"convergence\")\n",
        "plt.xlabel(\"num_iter\")\n",
        "plt.title(\"Rayleigh QR\")\n",
        "\n",
        "plt.legend()\n",
        "plt.grid()\n",
        "\n",
        "plt.subplot(1, 3, 3)\n",
        "plt.plot(convergence, color='red', label=f'QR, num_iter={num_iter}')\n",
        "plt.ylabel(\"convergence\")\n",
        "plt.xlabel(\"num_iter\")\n",
        "plt.title(\"Simple QR\")\n",
        "plt.legend()\n",
        "plt.grid()\n",
        "\n",
        "plt.show()"
      ],
      "execution_count": 69,
      "outputs": [
        {
          "output_type": "display_data",
          "data": {
            "image/png": "[encoded data removed]",
            "text/plain": [
              "<Figure size 1800x504 with 3 Axes>"
            ]
          },
          "metadata": {
            "needs_background": "light"
          }
        }
      ]
    },
    {
      "cell_type": "markdown",
      "metadata": {
        "id": "WGK4cNmP4tHU"
      },
      "source": [
        "We can see that convergence of shifted Rayleigh algoritm is much better and faster as well. The reason for that is that convergence depends on the *ratio* between the eigenvalues. For example, if $\\lambda_{1}, \\lambda_{2}$ are two eigenvalues and you shift by $\\mu$, then the ratio is $\\frac{\\lambda_{1}-\\mu}{\\lambda_{2}-\\mu}$. If $\\mu$ is close to $\\lambda_{1}$, convergence is fast. Exactly as in our case:)\n"
      ]
    },
    {
      "cell_type": "code",
      "metadata": {
        "id": "8L7ihO3pvGWz"
      },
      "source": [
        ""
      ],
      "execution_count": 42,
      "outputs": []
    },
    {
      "cell_type": "markdown",
      "metadata": {
        "id": "JQB3fbR_dzxE"
      },
      "source": [
        "- Try QR with Rayleigh Quotient shift for a simple matrix $A = \\begin{bmatrix}\n",
        "0 & 1 \\\\\n",
        "1 & 0\n",
        "\\end{bmatrix}$. Does anything change from iteration to iteration? Does shift affect convergence here? Why?"
      ]
    },
    {
      "cell_type": "code",
      "metadata": {
        "id": "DIKZr3GmdzxE"
      },
      "source": [
        "# Your solution is here\n",
        "hessenberg(A_init, calc_q=False)"
      ],
      "execution_count": null,
      "outputs": []
    },
    {
      "cell_type": "code",
      "metadata": {
        "id": "27kDB7qFvGgF"
      },
      "source": [
        "A = np.array([[0, 1], [1, 0]])\n",
        "num_iter = 250\n",
        "Ak, convergence = qr_algorithm_reileigh(A, num_iter)"
      ],
      "execution_count": 73,
      "outputs": []
    },
    {
      "cell_type": "code",
      "metadata": {
        "colab": {
          "base_uri": "https://localhost:8080/",
          "height": 460
        },
        "id": "tvQpwjK5DBjV",
        "outputId": "49810aff-1594-4b9e-f65c-28063063b7b9"
      },
      "source": [
        "plt.figure(figsize=(15, 7))\n",
        "plt.subplot(1, 2, 1)\n",
        "\n",
        "plt.plot(convergence, color='red', label=f'QR, num_iter={num_iter}')\n",
        "plt.ylabel(\"convergence\")\n",
        "plt.xlabel(\"num_iter\")\n",
        "\n",
        "plt.legend()\n",
        "plt.grid()\n",
        "\n",
        "plt.subplot(1, 2, 2)\n",
        "plt.spy(Ak, precision=1e-7)\n",
        "plt.show()"
      ],
      "execution_count": 74,
      "outputs": [
        {
          "output_type": "display_data",
          "data": {
            "image/png": "[encoded data removed]",
            "text/plain": [
              "<Figure size 1080x504 with 2 Axes>"
            ]
          },
          "metadata": {
            "needs_background": "light"
          }
        }
      ]
    },
    {
      "cell_type": "code",
      "metadata": {
        "id": "URyKnGl3DBrM"
      },
      "source": [
        ""
      ],
      "execution_count": null,
      "outputs": []
    },
    {
      "cell_type": "markdown",
      "metadata": {
        "id": "IUnIpkpGdzxE"
      },
      "source": [
        "### QR with Wilkinson shift  (15 pts)\n",
        "\n",
        "To solve the problem that appears in the last example, we can use the Wilkinson shift:\n",
        "\n",
        "$$\\mu = a_m - \\frac {sign(\\delta) b^2_{m-1}} {(|\\delta| + \\sqrt{\\delta^2 + b^2_{m-1}} )},$$\n",
        "\n",
        "where $\\delta = \\frac{(a_{m-1} - a_m)}{2}$. If $\\delta = 0$, then instead of $sign(\\delta)$ you have to choose $1$ or $-1$ arbitrary.\n",
        "The numbers $a_m, b_{m-1}, a_{m-1}$ are taken from matrix $B$:\n",
        "\n",
        "$$\n",
        "    B = \n",
        "    \\begin{bmatrix} \n",
        "     a_{m-1} & b_{m-1} \\\\ \n",
        "     b_{m-1} & a_m \\\\ \n",
        "    \\end{bmatrix},\n",
        "$$  \n",
        "which is a lower right bottom submatrix of $A^{(k)}$. Here $k$ is an iteration counter in QR algorithm.\n",
        "\n",
        "- Compare convergence in the symmetric cases: \n",
        "    - distinctive eigenvalues\n",
        "    - two coincident eigenvalues\n",
        "    - maximum and minimum eigenvalues with the same absolute value\n",
        "Choose the dimension $n \\sim 100 $ for more representative results.\n",
        "What do you observe? "
      ]
    },
    {
      "cell_type": "code",
      "metadata": {
        "id": "GL4LUoN4dzxE"
      },
      "source": [
        "def qr_algorithm_wilkinson(A_init, num_iter):\n",
        "    # enter your code here\n",
        "    return Ak, convergence"
      ],
      "execution_count": null,
      "outputs": []
    },
    {
      "cell_type": "code",
      "metadata": {
        "id": "XEGe5wEddzxF"
      },
      "source": [
        "# Your solution is here"
      ],
      "execution_count": null,
      "outputs": []
    },
    {
      "cell_type": "markdown",
      "metadata": {
        "id": "c_8OYe7wOGI-"
      },
      "source": [
        "## Problem 4. (Movie Recommender system) 15 pts\n",
        "\n",
        "Imagine the world without NLA where you have free evenings and you can watch movies!  \n",
        "But it is always hard to choose a movie to watch. \n",
        "In this problem we suggest you to build your own movie recommender system based on SVD decomposition, so you can combine two perfect things: Numerical Linear Algebra and cinematography!"
      ]
    },
    {
      "cell_type": "markdown",
      "metadata": {
        "id": "W2duSA-Su7CI"
      },
      "source": [
        "In order to build recommender system you need data. \n",
        "Here you are https://grouplens.org/datasets/movielens/1m/\n",
        "\n",
        "Usually all recommender systems may be devided into two groups\n",
        "\n",
        "#### Collaborative filtering. \n",
        "\n",
        "This approach is based on user-item interaction.\n",
        "It has one important assumption: user who has liked an item in the past will also likes the same in the future. Suppose the user A likes the films about vampires. \n",
        "He is Twilight saga fan and he has watched the film \"What we do in the shadows\" and liked it or unliked it, in other words he evaluated it somehow. And suppose another user B, who has the similair behavior to the first user (he is also Twilight saga fan). And the chance, that he will estimate \"What we do in the shadows\" in the same way that user A did, is huge. So, the purpose of the collaborative filtering is to predict a user's behavior based on behavior of the simular users.\n",
        "\n",
        "#### Content based filtering.\n",
        "\n",
        "Collaborative filtering has some essential flaws. The main one is called \"cold start\". \"Cold start\" happens when the new user comes and he has not react anyhow to the items. So we do not know his past behavior and we do not know what to advise. Here content based filtering helps. Often resources gather some extra info about users and items before a user comes down to utilising the resource. So, for example we would know that user likes horror movies before he watched anything on the resource."
      ]
    },
    {
      "cell_type": "markdown",
      "metadata": {
        "id": "mMvQV1zSu7Cg"
      },
      "source": [
        "\n",
        "- In this task you will implement Collaborative filtering based on SVD (we will use the function from the proper package and check if the result recommender system advices the similar movies)"
      ]
    },
    {
      "cell_type": "markdown",
      "metadata": {
        "id": "tMN7EK6gu7Ch"
      },
      "source": [
        "1) (1 pts)  Explore the data. Construct the interaction matrix $M$ of size $m \\times n$ which contains the information of how a certain user rated a certain film. \n",
        "\n",
        "2) (5 pts)  Compute SVD of this matrix. Remeber that matrix $M$ is sparse (one user can hardly watch all the movies) so the good choice would be to use method from ```scipy.sparse.linalg``` package\n",
        "\n",
        "$$ M = USV^{\\top}, $$\n",
        "\n",
        "where $U$ is a $m \\times r $ orthogonal matrix with left singular vectors, which represents the relationship between users and latent factors, $S$ is a $r \\times r $ diagonal matrix, which describes the strength of each latent factor and $V^\\top$ is a $r \\times n$ matrix with right singular vectors, which represent the embeddings of  items (movies in our case) in latent space.\n",
        "Describe any simple heuristic to choose appropriate value for $r$ and explain why do you expect that it will work.\n"
      ]
    },
    {
      "cell_type": "code",
      "metadata": {
        "id": "qxYtnm7au7Ci"
      },
      "source": [
        "# Importing Libraries\n",
        "import numpy as np\n",
        "import pandas as pd\n",
        "\n",
        "# Read the dataset\n",
        "\n",
        "# Create the interaction matrix\n",
        "\n",
        "# Normalize the matrix\n"
      ],
      "execution_count": null,
      "outputs": []
    },
    {
      "cell_type": "code",
      "metadata": {
        "id": "3zUd9OvBu7Cj"
      },
      "source": [
        "# Compute Singular Value Decomposition of interaction matrix. You can use built-in functions\n",
        "\n",
        "U,S, V = svd(M) # Update this line, it is just example"
      ],
      "execution_count": null,
      "outputs": []
    },
    {
      "cell_type": "markdown",
      "metadata": {
        "id": "SMXnKF5Tu7Cj"
      },
      "source": [
        "3) (2 pts) In order to get weighted item-latent factors, we can multiply $S$ and $V^{T}$. Please, remember that $S$ is diagonal and multiply them efficiently."
      ]
    },
    {
      "cell_type": "code",
      "metadata": {
        "id": "VEW4M5Ovu7Cj"
      },
      "source": [
        "# Your solutuion is here"
      ],
      "execution_count": null,
      "outputs": []
    },
    {
      "cell_type": "markdown",
      "metadata": {
        "id": "eEMDQkkqu7Ck"
      },
      "source": [
        "Now we have vectors that represent our item space. In other words we have $N$ movies and $N$ vectors which describe each movie, a.k.a. embeddings. \n",
        "In order to know if two movies are similar or not we need just to check if the corresponding vectors are similair or not. How we can do this?\n",
        "\n",
        "4) (2 pts)  Implement the cosine metric. If the cosine metric between two vectors equals to $1$ both vectors are collinear, if $0$ vectors are orthogonal, as a result corresponding movies are completely different.\n",
        "\n",
        "$$\n",
        "cosine(u,v) = \\frac{u^{\\top}v}{\\|u\\|_2\\|v\\|_2}\n",
        "$$"
      ]
    },
    {
      "cell_type": "code",
      "metadata": {
        "id": "lAR4dXMOOGI_"
      },
      "source": [
        "# Your solutuion is here"
      ],
      "execution_count": null,
      "outputs": []
    },
    {
      "cell_type": "markdown",
      "metadata": {
        "id": "6wRZh8ALu7C1"
      },
      "source": [
        "5) (5 pts) Check your result. Implement the fuction, which finds and prints $k$ similar movies to the one you have chosen"
      ]
    },
    {
      "cell_type": "code",
      "metadata": {
        "id": "26g7MzeWu7C1"
      },
      "source": [
        "# Your solutuion is here"
      ],
      "execution_count": null,
      "outputs": []
    },
    {
      "cell_type": "markdown",
      "metadata": {
        "id": "oPIQfKcmu7C2"
      },
      "source": [
        "Enjoy watching the recommended movies!\n"
      ]
    }
  ]
}